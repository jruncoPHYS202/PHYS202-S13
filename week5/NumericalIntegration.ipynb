{
 "metadata": {
  "name": "NumericalIntegration"
 },
 "nbformat": 3,
 "nbformat_minor": 0,
 "worksheets": [
  {
   "cells": [
    {
     "cell_type": "code",
     "collapsed": false,
     "input": [
      "import math"
     ],
     "language": "python",
     "metadata": {},
     "outputs": [],
     "prompt_number": 23
    },
    {
     "cell_type": "markdown",
     "metadata": {},
     "source": [
      "QEUSTION 1"
     ]
    },
    {
     "cell_type": "markdown",
     "metadata": {},
     "source": [
      "$E(x)=\\\\int_{0} ^{x} e^{-t^2}dt$"
     ]
    },
    {
     "cell_type": "code",
     "collapsed": false,
     "input": [
      "\"\"\"I'm using the trap rule to integrate this\"\"\"\n",
      "f = lambda t: exp(-t**2)"
     ],
     "language": "python",
     "metadata": {},
     "outputs": [],
     "prompt_number": 24
    },
    {
     "cell_type": "code",
     "collapsed": false,
     "input": [
      "N= 100\n",
      "a = 0.0\n",
      "b = arange(0.,3.1,.1)\n",
      "h=(b-a)/N\n",
      "s=0.5*f(a) + 0.5*f(b)\n",
      "for k in range(1,N):\n",
      "    s+=f(a+k*h)\n",
      "print (h*s)"
     ],
     "language": "python",
     "metadata": {},
     "outputs": [
      {
       "output_type": "stream",
       "stream": "stdout",
       "text": [
        "[ 0.          0.09966765  0.1973649   0.29123747  0.37965193  0.46127938\n",
        "  0.53515102  0.60068217  0.65766536  0.70623611  0.746818    0.78005482\n",
        "  0.80673793  0.82773623  0.84393427  0.85618246  0.86526095  0.87185704\n",
        "  0.87655483  0.87983452  0.88207895  0.88358457  0.88457462  0.88521279\n",
        "  0.88561602  0.88586577  0.88601741  0.88610765  0.8861603   0.88619041\n",
        "  0.88620729]\n"
       ]
      }
     ],
     "prompt_number": 27
    },
    {
     "cell_type": "code",
     "collapsed": false,
     "input": [
      "plot(b,f(b))"
     ],
     "language": "python",
     "metadata": {},
     "outputs": [
      {
       "output_type": "pyout",
       "prompt_number": 28,
       "text": [
        "[<matplotlib.lines.Line2D at 0x3471310>]"
       ]
      },
      {
       "output_type": "display_data",
       "png": "[encoded data removed]"
      }
     ],
     "prompt_number": 28
    },
    {
     "cell_type": "markdown",
     "metadata": {},
     "source": [
      "QUESTION 2"
     ]
    },
    {
     "cell_type": "markdown",
     "metadata": {},
     "source": [
      "$P(a,b) = \\\\int_a^b |\\\\psi(x)|^2dx$\n",
      "\n",
      "$\\sqrt{2./L}*sin((n\\pi*x)/L)$"
     ]
    },
    {
     "cell_type": "markdown",
     "metadata": {},
     "source": [
      "part a"
     ]
    },
    {
     "cell_type": "code",
     "collapsed": false,
     "input": [],
     "language": "python",
     "metadata": {},
     "outputs": []
    }
   ],
   "metadata": {}
  }
 ]
}