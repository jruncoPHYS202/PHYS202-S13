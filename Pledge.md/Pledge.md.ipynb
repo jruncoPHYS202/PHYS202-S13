{
 "metadata": {
  "name": "Pledge.md"
 },
 "nbformat": 3,
 "nbformat_minor": 0,
 "worksheets": [
  {
   "cells": [
    {
     "cell_type": "markdown",
     "metadata": {},
     "source": [
      "QUESTION 1 FROM MIDTERM\n",
      "======================="
     ]
    },
    {
     "cell_type": "markdown",
     "metadata": {},
     "source": [
      "Academic Honesty Pledge\n",
      "Cal Poly PHYS 202 - Spring 2013\n",
      "I have read and understand the rules regarding academic honesty and I agree to abide by them. I pledge on my honor that I have not given or received any unauthorized assistance on assignments or ex- aminations in this course.\n",
      "Signed: Jordan Runco \n",
      "Dated: 5/7/13"
     ]
    }
   ],
   "metadata": {}
  }
 ]
}