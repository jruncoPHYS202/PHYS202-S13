{
 "metadata": {
  "name": "DataIOandLinearRegression"
 },
 "nbformat": 3,
 "nbformat_minor": 0,
 "worksheets": [
  {
   "cells": [
    {
     "cell_type": "code",
     "collapsed": false,
     "input": [
      "DataIn = loadtxt('input.dat')\n",
      "print DataIn.shape\n",
      "print DataIn"
     ],
     "language": "python",
     "metadata": {},
     "outputs": [
      {
       "output_type": "stream",
       "stream": "stdout",
       "text": [
        "(5, 3)\n",
        "[[ 0.   1.1  0.1]\n",
        " [ 2.   1.9  0.2]\n",
        " [ 4.   3.2  0.1]\n",
        " [ 6.   4.   0.3]\n",
        " [ 8.   5.9  0.3]]\n"
       ]
      }
     ],
     "prompt_number": 5
    },
    {
     "cell_type": "code",
     "collapsed": false,
     "input": [
      "print DataIn[:,2]"
     ],
     "language": "python",
     "metadata": {},
     "outputs": [
      {
       "output_type": "stream",
       "stream": "stdout",
       "text": [
        "[ 0.1  0.2  0.1  0.3  0.3]\n"
       ]
      }
     ],
     "prompt_number": 6
    },
    {
     "cell_type": "code",
     "collapsed": false,
     "input": [
      "x,y,yerr = loadtxt('input.dat',unpack=True)\n",
      "print x\n",
      "print y\n",
      "print yerr"
     ],
     "language": "python",
     "metadata": {},
     "outputs": [
      {
       "output_type": "stream",
       "stream": "stdout",
       "text": [
        "[ 0.  2.  4.  6.  8.]\n",
        "[ 1.1  1.9  3.2  4.   5.9]\n",
        "[ 0.1  0.2  0.1  0.3  0.3]\n"
       ]
      }
     ],
     "prompt_number": 7
    },
    {
     "cell_type": "code",
     "collapsed": false,
     "input": [
      "x,y = loadtxt('input.dat',unpack=True,usecols=[0,1])\n",
      "print x\n",
      "print y"
     ],
     "language": "python",
     "metadata": {},
     "outputs": [
      {
       "output_type": "stream",
       "stream": "stdout",
       "text": [
        "[ 0.  2.  4.  6.  8.]\n",
        "[ 1.1  1.9  3.2  4.   5.9]\n"
       ]
      }
     ],
     "prompt_number": 8
    },
    {
     "cell_type": "code",
     "collapsed": false,
     "input": [
      "x,y = loadtxt('input.csv',unpack=True,delimiter=',',usecols=[0,1])\n",
      "print x,y"
     ],
     "language": "python",
     "metadata": {},
     "outputs": [
      {
       "output_type": "stream",
       "stream": "stdout",
       "text": [
        "[ 0.  2.  4.  6.  8.] [ 1.1  1.9  3.2  4.   5.9]\n"
       ]
      }
     ],
     "prompt_number": 9
    },
    {
     "cell_type": "code",
     "collapsed": false,
     "input": [
      "t = array([0.,.1,.2,.3,.4,.5,.6,.7,.8,.9])\n",
      "v = array([.137,.456,.591,.713,.859,.926,1.139,1.327,1.512,1.875])"
     ],
     "language": "python",
     "metadata": {},
     "outputs": [],
     "prompt_number": 10
    },
    {
     "cell_type": "code",
     "collapsed": false,
     "input": [
      "import numpy as np"
     ],
     "language": "python",
     "metadata": {},
     "outputs": [],
     "prompt_number": 11
    },
    {
     "cell_type": "code",
     "collapsed": false,
     "input": [
      "p = .15 + v/10.\n",
      "print p"
     ],
     "language": "python",
     "metadata": {},
     "outputs": [
      {
       "output_type": "stream",
       "stream": "stdout",
       "text": [
        "[ 0.1637  0.1956  0.2091  0.2213  0.2359  0.2426  0.2639  0.2827  0.3012\n",
        "  0.3375]\n"
       ]
      }
     ],
     "prompt_number": 12
    },
    {
     "cell_type": "code",
     "collapsed": false,
     "input": [
      "savetxt('output.dat',(t,p))"
     ],
     "language": "python",
     "metadata": {},
     "outputs": [],
     "prompt_number": 13
    },
    {
     "cell_type": "code",
     "collapsed": false,
     "input": [
      "DataOut = column_stack((t,p))\n",
      "savetxt('output.dat',DataOut)"
     ],
     "language": "python",
     "metadata": {},
     "outputs": [],
     "prompt_number": 14
    },
    {
     "cell_type": "code",
     "collapsed": false,
     "input": [
      "fmt = '%(width).(precision)(specifier)'"
     ],
     "language": "python",
     "metadata": {},
     "outputs": [],
     "prompt_number": 15
    },
    {
     "cell_type": "code",
     "collapsed": false,
     "input": [
      "savetxt('output.dat',DataOut,fmt=('%3i','%4.3f'))"
     ],
     "language": "python",
     "metadata": {},
     "outputs": [],
     "prompt_number": 23
    },
    {
     "cell_type": "code",
     "collapsed": false,
     "input": [
      "f = open('output.dat','w')\n",
      "f.write('#My comment line for this file, followed by a blank line, then the data\\n\\n')\n",
      "savetxt(f,DataOut,fmt=('%3i','%4.3f'))\n",
      "f.close()"
     ],
     "language": "python",
     "metadata": {},
     "outputs": [],
     "prompt_number": 24
    },
    {
     "cell_type": "markdown",
     "metadata": {},
     "source": [
      "Exercise 1\n",
      "="
     ]
    },
    {
     "cell_type": "code",
     "collapsed": false,
     "input": [
      "#created the lineardata.dat and the lineardata.csv files"
     ],
     "language": "python",
     "metadata": {},
     "outputs": [],
     "prompt_number": 18
    },
    {
     "cell_type": "markdown",
     "metadata": {},
     "source": [
      "Exercise 2\n",
      "="
     ]
    },
    {
     "cell_type": "markdown",
     "metadata": {},
     "source": [
      "part a\n",
      "-"
     ]
    },
    {
     "cell_type": "code",
     "collapsed": false,
     "input": [
      "import numpy as np"
     ],
     "language": "python",
     "metadata": {},
     "outputs": [],
     "prompt_number": 3
    },
    {
     "cell_type": "code",
     "collapsed": false,
     "input": [
      "def LinearLeastSquaresFit(x,y):\n",
      "    \"\"\"Take in arrays representing (x,y) values for a set of linearly \n",
      "    varying data and preform a linear least squares regression.  \n",
      "    Return the resulting slope and intercept parameters of the best \n",
      "    fit line with their uncertainties.\"\"\"\n",
      "    averageX = np.sum(x)/len(x) #x average\n",
      "    averageX2 = np.sum(x**2)/len(x**2) #x^2 average\n",
      "    averageY = np.sum(y)/len(y) #y average\n",
      "    averageXY = np.sum(x*y)/len(x*y) #x*y average\n",
      "    slope = (averageXY-(averageX*averageY))/(averageX2-(averageX**2)) #slope formula\n",
      "    intercept = (averageX2*averageY - (averageX*averageXY))/(averageX2-(averageX**2)) #intercept formula\n",
      "    deviation = y - (slope*x + intercept) #deviation to get deviation^2\n",
      "    deviation2 = np.sum(deviation**2)/len(x) #deviation^2 formula\n",
      "    slerr = np.sqrt((1/(len(x)-2.))*(deviation2/(averageX2 - (averageX**2)))) #slope uncertainty\n",
      "    interr = np.sqrt((1/(len(x)-2.))*((deviation2*averageX2)/(averageX2 - (averageX**2)))) #intercept uncertainty\n",
      "    return slope,intercept,slerr,interr\n",
      "    "
     ],
     "language": "python",
     "metadata": {},
     "outputs": [],
     "prompt_number": 37
    },
    {
     "cell_type": "markdown",
     "metadata": {},
     "source": [
      "part b\n",
      "-"
     ]
    },
    {
     "cell_type": "code",
     "collapsed": false,
     "input": [
      "x,y = loadtxt('LinearData.dat',unpack=True,usecols=[0,1]) #load lineardata.dat from nano\n",
      "print LinearLeastSquaresFit(x,y)"
     ],
     "language": "python",
     "metadata": {},
     "outputs": [
      {
       "output_type": "stream",
       "stream": "stdout",
       "text": [
        "(-0.49436363636363617, 8.3680000000000003, 0.024435105487091505, 0.15161584230008299)\n"
       ]
      }
     ],
     "prompt_number": 38
    },
    {
     "cell_type": "markdown",
     "metadata": {},
     "source": [
      "my values are really close.  I don't know how my values are so close but not right."
     ]
    },
    {
     "cell_type": "markdown",
     "metadata": {},
     "source": [
      "part c\n",
      "-"
     ]
    },
    {
     "cell_type": "code",
     "collapsed": false,
     "input": [
      "slope = LinearLeastSquaresFit(x,y)[0]\n",
      "print slope\n",
      "intercept = LinearLeastSquaresFit(x,y)[1]\n",
      "print intercept\n",
      "slerr = LinearLeastSquaresFit(x,y)[2]\n",
      "print slerr\n",
      "interr = LinearLeastSquaresFit(x,y)[3]\n",
      "print interr"
     ],
     "language": "python",
     "metadata": {},
     "outputs": [
      {
       "output_type": "stream",
       "stream": "stdout",
       "text": [
        "-0.494363636364\n",
        "8.368\n",
        "0.0244351054871\n",
        "0.1516158423\n"
       ]
      }
     ],
     "prompt_number": 6
    },
    {
     "cell_type": "code",
     "collapsed": false,
     "input": [
      "F = lambda x: slope*x + intercept #no error function\n",
      "F_AddError = lambda x: (slope+slerr)*x + (intercept+interr) #upper error function\n",
      "F_MinusError = lambda x: (slope-slerr)*x + (intercept-interr) #lower error function\n",
      "\n",
      "plot(x,F(x),label=\"No Error\")\n",
      "plot(x,F_AddError(x),'b:',label='Add Error')\n",
      "plot(x,F_MinusError(x),'g:',label='Minus Error')\n",
      "linelabel = \"y = %.4f x + %.4f\" % (slope,intercept)\n",
      "legend(loc='lower left')\n",
      "show()"
     ],
     "language": "python",
     "metadata": {},
     "outputs": [
      {
       "output_type": "display_data",
       "png": "[encoded data removed]"
      }
     ],
     "prompt_number": 7
    },
    {
     "cell_type": "markdown",
     "metadata": {},
     "source": [
      "Exercise 3\n",
      "="
     ]
    },
    {
     "cell_type": "markdown",
     "metadata": {},
     "source": [
      "part a\n",
      "-"
     ]
    },
    {
     "cell_type": "code",
     "collapsed": false,
     "input": [
      "def WeightedLinearLeastSquaresFit(x,y,w):\n",
      "    \"\"\"Take in arrays representing (x,y) values for a set of linearly varying data\n",
      "    and an array of weights w.  Preform a weighted linear least squares regression.\n",
      "    Return the resulting slope and intercept parameters of the best fit line with \n",
      "    their uncertainties.\"\"\"\n",
      "    wsum = np.sum(w) \n",
      "    w_x = np.sum(w*x) #weighted x sum\n",
      "    w_x2 = np.sum(w*(x**2)) #weighted x^2 sum\n",
      "    w_y = np.sum(w*y) #weighted y sum\n",
      "    w_xy = np.sum(w*x*y) #weighted x*y sum\n",
      "    slope = (wsum*w_xy - w_x*w_y)/(wsum*w_x2 - w_x**2) #slope formula\n",
      "    intercept = (w_x2*w_y - w_x*w_xy)/(wsum*w_x2 - w_x**2) #intercept\n",
      "    if sum(w)/len(w) == 1:\n",
      "        averageX = np.sum(x)/len(x) #all code for if part is from question 2\n",
      "        averageX2 = np.sum(x**2)/len(x**2)\n",
      "        averageY = np.sum(y)/len(y)\n",
      "        averageXY = np.sum(x*y)/len(x*y)\n",
      "        deviation = y - (slope*x + intercept) \n",
      "        deviation2 = np.sum(deviation**2)/len(x) \n",
      "        slerr = np.sqrt((1/(len(x)-2.))*(deviation2/(averageX2 - (averageX**2))))\n",
      "        interr = np.sqrt((1/(len(x)-2.))*((deviation2*averageX2)/(averageX2 - (averageX**2))))\n",
      "    else:\n",
      "        slerr = np.sqrt(wsum/((wsum*w_x2) - (w_x**2))) #weighted slope error\n",
      "        interr = np.sqrt(w_x2/(wsum*w_x2 - w_x**2)) #weighted intercept error\n",
      "    return slope,slerr,intercept,interr"
     ],
     "language": "python",
     "metadata": {},
     "outputs": [],
     "prompt_number": 73
    },
    {
     "cell_type": "markdown",
     "metadata": {},
     "source": [
      "part b\n",
      "-"
     ]
    },
    {
     "cell_type": "code",
     "collapsed": false,
     "input": [
      "x,y,z = loadtxt('LinearData.dat',unpack=True,usecols=[0,1,2])\n",
      "w = 1/(z**2)\n",
      "print WeightedLinearLeastSquaresFit(x,y,w)"
     ],
     "language": "python",
     "metadata": {},
     "outputs": [
      {
       "output_type": "stream",
       "stream": "stdout",
       "text": [
        "(-0.45859737530893546, 0.0065758708587924392, 8.2357498870292876, 0.021437765208320705)\n"
       ]
      }
     ],
     "prompt_number": 74
    },
    {
     "cell_type": "markdown",
     "metadata": {},
     "source": [
      "these are the right values"
     ]
    },
    {
     "cell_type": "markdown",
     "metadata": {},
     "source": [
      "part c\n",
      "="
     ]
    },
    {
     "cell_type": "code",
     "collapsed": false,
     "input": [
      "slopeL = LinearLeastSquaresFit(x,y)[0] #assign column values next 4 lines\n",
      "interceptL = LinearLeastSquaresFit(x,y)[1]\n",
      "slopew = WeightedLinearLeastSquaresFit(x,y,w)[0]\n",
      "interceptw = WeightedLinearLeastSquaresFit(x,y,w)[2]\n",
      "fL = lambda x: slopeL*x + interceptL \n",
      "fw = lambda x: slopew*x + interceptw\n",
      "\n",
      "linelabel = \"y = %.4f x + %.4f\" %(slopeL,interceptL)\n",
      "weightedlinelabel = \"weighted_y = %.4f x + %.4f\" %(slopew,interceptw)\n",
      "plot(x,fL(x),label=linelabel)\n",
      "plot(x,fw(x),label=weightedlinelabel)\n",
      "errorbar(x,y,z,label='error')\n",
      "legend()\n",
      "show()\n"
     ],
     "language": "python",
     "metadata": {},
     "outputs": [
      {
       "output_type": "display_data",
       "png": "[encoded data removed]"
      }
     ],
     "prompt_number": 75
    }
   ],
   "metadata": {}
  }
 ]
}