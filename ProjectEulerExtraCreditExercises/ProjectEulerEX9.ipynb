{
 "metadata": {
  "name": "ProjectEulerEX9"
 },
 "nbformat": 3,
 "nbformat_minor": 0,
 "worksheets": [
  {
   "cells": [
    {
     "cell_type": "markdown",
     "metadata": {},
     "source": [
      "Problem 9:\n",
      "=\n",
      "\n",
      "A Pythagorean triplet is a set of three natural numbers, a  b  c, for which,\n",
      "\n",
      "a2 + b2 = c2\n",
      "For example, 32 + 42 = 9 + 16 = 25 = 52.\n",
      "\n",
      "There exists exactly one Pythagorean triplet for which a + b + c = 1000.\n",
      "Find the product abc."
     ]
    },
    {
     "cell_type": "code",
     "collapsed": false,
     "input": [
      "#test case\n",
      "#lets make a double for loop\n",
      "for a in range(1,10): #ranges for a and b\n",
      "    for b in range(1,10):\n",
      "        c = 12 - (a+b) #defining c\n",
      "        if a**2 + b**2 == c**2 and a+b+c == 12 and a < b and b < c:\n",
      "            \"\"\"if pythagorean formula works and a<b<c\"\"\"\n",
      "            print a,b,c\n",
      "            print a*b*c"
     ],
     "language": "python",
     "metadata": {},
     "outputs": [
      {
       "output_type": "stream",
       "stream": "stdout",
       "text": [
        "3 4 5\n",
        "60\n"
       ]
      }
     ],
     "prompt_number": 22
    },
    {
     "cell_type": "markdown",
     "metadata": {},
     "source": [
      "my test case works so now let's move on to the real peoblem"
     ]
    },
    {
     "cell_type": "code",
     "collapsed": false,
     "input": [
      "#lets make a double for loop\n",
      "for a in range(1,1001): #ranges for a and b\n",
      "    for b in range(1,1001):\n",
      "        c = 1000 - (a+b) #defining c\n",
      "        if a**2 + b**2 == c**2 and a+b+c == 1000 and a < b and b < c:\n",
      "            \"\"\"if pythagorean formula works and a<b<c\"\"\"\n",
      "            print a,b,c\n",
      "            print a*b*c"
     ],
     "language": "python",
     "metadata": {},
     "outputs": [
      {
       "output_type": "stream",
       "stream": "stdout",
       "text": [
        "200 375 425\n",
        "31875000\n"
       ]
      }
     ],
     "prompt_number": 15
    },
    {
     "cell_type": "markdown",
     "metadata": {},
     "source": [
      "a = 200\n",
      "\n",
      "b = 375\n",
      "\n",
      "c = 425\n",
      "\n",
      "a*b*c = 31875000\n",
      "\n",
      "These are the right answers, so I conclude that my code works"
     ]
    }
   ],
   "metadata": {}
  }
 ]
}