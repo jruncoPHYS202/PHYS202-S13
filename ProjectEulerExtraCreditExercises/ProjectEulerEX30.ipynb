{
 "metadata": {
  "name": "ProjectEulerEX30"
 },
 "nbformat": 3,
 "nbformat_minor": 0,
 "worksheets": [
  {
   "cells": [
    {
     "cell_type": "markdown",
     "metadata": {},
     "source": [
      "DID NOT DO THIS PROJECT EULER BUT COULD NOT DELETE FOLDER ON GIT HUB\n",
      "="
     ]
    },
    {
     "cell_type": "code",
     "collapsed": false,
     "input": [],
     "language": "python",
     "metadata": {},
     "outputs": []
    }
   ],
   "metadata": {}
  }
 ]
}