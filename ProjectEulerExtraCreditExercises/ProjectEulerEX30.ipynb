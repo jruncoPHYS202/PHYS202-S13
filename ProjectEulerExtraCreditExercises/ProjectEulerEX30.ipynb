{
 "metadata": {
  "name": "ProjectEulerEX30"
 },
 "nbformat": 3,
 "nbformat_minor": 0,
 "worksheets": [
  {
   "cells": [
    {
     "cell_type": "code",
     "collapsed": false,
     "input": [],
     "language": "python",
     "metadata": {},
     "outputs": []
    },
    {
     "cell_type": "code",
     "collapsed": false,
     "input": [
      "#find the maximum number possible\n",
      "def largest_number(x):\n",
      "    \"\"\"finds the upper range for for this problem\"\"\"\n",
      "    maxx = 9**x\n",
      "    y = str(maxx)\n",
      "    x = len(y)\n",
      "    while 10**x <= maxx*x:\n",
      "        x +=1\n",
      "    largest = maxx*x\n",
      "    return largest"
     ],
     "language": "python",
     "metadata": {},
     "outputs": [],
     "prompt_number": 8
    },
    {
     "cell_type": "code",
     "collapsed": false,
     "input": [
      "print largest_number(5),\"this is the upper range for my code below\""
     ],
     "language": "python",
     "metadata": {},
     "outputs": [
      {
       "output_type": "stream",
       "stream": "stdout",
       "text": [
        "354294 this is the upper range for my code below\n"
       ]
      }
     ],
     "prompt_number": 15
    },
    {
     "cell_type": "code",
     "collapsed": false,
     "input": [
      "answer = 0\n",
      "for i in range(2, largest_number(5)): \n",
      "    t = i\n",
      "    temp = 0\n",
      "    while t != 0:\n",
      "        temp += (t % 10) ** 5\n",
      "        t = t/10\n",
      "    if temp == i:\n",
      "        answer += i\n",
      "    else:\n",
      "        pass\n",
      "print answer"
     ],
     "language": "python",
     "metadata": {},
     "outputs": [
      {
       "output_type": "stream",
       "stream": "stdout",
       "text": [
        "443839\n"
       ]
      }
     ],
     "prompt_number": 27
    },
    {
     "cell_type": "markdown",
     "metadata": {},
     "source": [
      "This is the right answer so I conclude that my code is correct"
     ]
    }
   ],
   "metadata": {}
  }
 ]
}