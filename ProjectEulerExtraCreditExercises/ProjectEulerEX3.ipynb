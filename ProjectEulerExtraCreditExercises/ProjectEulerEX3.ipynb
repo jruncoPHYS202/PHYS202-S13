{
 "metadata": {
  "name": "ProjectEulerEX3"
 },
 "nbformat": 3,
 "nbformat_minor": 0,
 "worksheets": [
  {
   "cells": [
    {
     "cell_type": "markdown",
     "metadata": {},
     "source": [
      "Question 3: Largest Prime Factor\n",
      "=\n",
      "The prime factors of 13195 are 5, 7, 13 and 29.\n",
      "\n",
      "What is the largest prime factor of the number 600851475143 ?"
     ]
    },
    {
     "cell_type": "code",
     "collapsed": false,
     "input": [
      "import math"
     ],
     "language": "python",
     "metadata": {},
     "outputs": [],
     "prompt_number": 43
    },
    {
     "cell_type": "code",
     "collapsed": false,
     "input": [
      "def largest_prime(number):\n",
      "    \"\"\"finds prime numbers\"\"\"\n",
      "    for i in range(2,int(math.sqrt(number))+1): #loops through range looking for prime numbers\n",
      "        if number%i == 0:\n",
      "            return None\n",
      "    return number"
     ],
     "language": "python",
     "metadata": {},
     "outputs": [],
     "prompt_number": 44
    },
    {
     "cell_type": "code",
     "collapsed": false,
     "input": [
      "#test case\n",
      "maximum = 1\n",
      "while maximum**2 <= 10: #loops through to find largest prime factor of 600851475143\n",
      "    maximum += 2\n",
      "    if 10 % maximum == 0:\n",
      "        if largest_prime(maximum):\n",
      "            answer = maximum\n",
      "print answer"
     ],
     "language": "python",
     "metadata": {},
     "outputs": [
      {
       "output_type": "stream",
       "stream": "stdout",
       "text": [
        "5\n"
       ]
      }
     ],
     "prompt_number": 45
    },
    {
     "cell_type": "code",
     "collapsed": false,
     "input": [
      "#test case\n",
      "maximum = 1\n",
      "while maximum**2 <= 100: #loops through to find largest prime factor of 600851475143\n",
      "    maximum += 2\n",
      "    if 100 % maximum == 0:\n",
      "        if largest_prime(maximum):\n",
      "            answer = maximum\n",
      "print answer"
     ],
     "language": "python",
     "metadata": {},
     "outputs": [
      {
       "output_type": "stream",
       "stream": "stdout",
       "text": [
        "5\n"
       ]
      }
     ],
     "prompt_number": 46
    },
    {
     "cell_type": "markdown",
     "metadata": {},
     "source": [
      "both test cases work so now lets try 600851475143\n",
      "-"
     ]
    },
    {
     "cell_type": "code",
     "collapsed": false,
     "input": [
      "maximum = 1\n",
      "while maximum**2 <= 600851475143: #loops through to find largest prime factor of 600851475143\n",
      "    maximum += 2\n",
      "    if 600851475143 % maximum == 0:\n",
      "        if largest_prime(maximum):\n",
      "            answer = maximum\n",
      "print answer"
     ],
     "language": "python",
     "metadata": {},
     "outputs": [
      {
       "output_type": "stream",
       "stream": "stdout",
       "text": [
        "6857\n"
       ]
      }
     ],
     "prompt_number": 47
    },
    {
     "cell_type": "markdown",
     "metadata": {},
     "source": [
      "6857 is the correct answer and the test cases work, so I conclude that the code works!\n",
      "="
     ]
    }
   ],
   "metadata": {}
  }
 ]
}