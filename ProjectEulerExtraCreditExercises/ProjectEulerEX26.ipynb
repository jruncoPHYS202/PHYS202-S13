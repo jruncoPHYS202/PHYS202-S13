{
 "metadata": {
  "name": "ProjectEulerEX26"
 },
 "nbformat": 3,
 "nbformat_minor": 0,
 "worksheets": [
  {
   "cells": [
    {
     "cell_type": "markdown",
     "metadata": {},
     "source": [
      "Problem 26: Reciprocal Cycles\n",
      "=\n",
      "A unit fraction contains 1 in the numerator. The decimal representation of the unit fractions with denominators 2 to 10 are given:\n",
      "\n",
      "1/2\t= \t0.5\n",
      "1/3\t= \t0.(3)\n",
      "1/4\t= \t0.25\n",
      "1/5\t= \t0.2\n",
      "1/6\t= \t0.1(6)\n",
      "1/7\t= \t0.(142857)\n",
      "1/8\t= \t0.125\n",
      "1/9\t= \t0.(1)\n",
      "1/10\t= \t0.1\n",
      "Where 0.1(6) means 0.166666..., and has a 1-digit recurring cycle. It can be seen that 1/7 has a 6-digit recurring cycle.\n",
      "\n",
      "Find the value of d  1000 for which 1/d contains the longest recurring cycle in its decimal fraction part."
     ]
    },
    {
     "cell_type": "code",
     "collapsed": false,
     "input": [
      "import numpy as np"
     ],
     "language": "python",
     "metadata": {},
     "outputs": [],
     "prompt_number": 1
    },
    {
     "cell_type": "code",
     "collapsed": false,
     "input": [
      "def cycle(x, y):\n",
      "    \"\"\"finds fractions that give recurring decimals\"\"\"\n",
      "    fraction_list = np.ones(y) #create an array of ones the length of y\n",
      "    recurring = 0\n",
      "    index = 1\n",
      "    while x != 0:\n",
      "        x = (x * 10) % y\n",
      "        if fraction_list[x] == 1:\n",
      "            fraction_list[x] = index\n",
      "        else:\n",
      "            recurring= index - fraction_list[x]\n",
      "            break\n",
      "        index += 1\n",
      "    return recurring"
     ],
     "language": "python",
     "metadata": {},
     "outputs": [],
     "prompt_number": 2
    },
    {
     "cell_type": "code",
     "collapsed": false,
     "input": [
      "#test case\n",
      "answer = 0\n",
      "for i in range(1, 11): #loop through every number between 1 and 10 looking for the largest recurring decimal using my definition above\n",
      "    largest_recurring = cycle(1, i) # largest_recurring is set to equal every i in the range\n",
      "    if largest_recurring > answer: # if the largest_recurring is bigger than my answer, my answer will equal that number until it is the largest\n",
      "        answer = i\n",
      "print answer"
     ],
     "language": "python",
     "metadata": {},
     "outputs": [
      {
       "output_type": "stream",
       "stream": "stdout",
       "text": [
        "7\n"
       ]
      }
     ],
     "prompt_number": 3
    },
    {
     "cell_type": "markdown",
     "metadata": {},
     "source": [
      "my test case agrees with the problem statement that between 1 and 10, 7 has the largest recurring decimal. now let's try it on the actual problem"
     ]
    },
    {
     "cell_type": "code",
     "collapsed": false,
     "input": [
      "answer = 0\n",
      "for i in range(1, 1001): #loop through every number between 1 and 1000 looking for the largest recurring decimal using my definition above\n",
      "    largest_recurring = cycle(1, i) # largest_recurring is set to equal every i in the range\n",
      "    if largest_recurring > answer: # if the largest_recurring is bigger than my answer, my answer will equal that number until it is the largest\n",
      "        answer = i\n",
      "print answer"
     ],
     "language": "python",
     "metadata": {},
     "outputs": [
      {
       "output_type": "stream",
       "stream": "stdout",
       "text": [
        "983\n"
       ]
      }
     ],
     "prompt_number": 4
    },
    {
     "cell_type": "markdown",
     "metadata": {},
     "source": [
      "I checked that 983 is the correct answer, so I conclude that my code is correct\n",
      "="
     ]
    }
   ],
   "metadata": {}
  }
 ]
}