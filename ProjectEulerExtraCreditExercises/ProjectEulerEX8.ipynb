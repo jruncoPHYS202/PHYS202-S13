{
 "metadata": {
  "name": "ProjectEulerEX8"
 },
 "nbformat": 3,
 "nbformat_minor": 0,
 "worksheets": [
  {
   "cells": [
    {
     "cell_type": "markdown",
     "metadata": {},
     "source": [
      "Problem 8: Largest product in a series\n",
      "=\n",
      "Find the greatest product of five consecutive digits in the 1000-digit number.\n",
      "\n",
      "73167176531330624919225119674426574742355349194934\n",
      "96983520312774506326239578318016984801869478851843\n",
      "85861560789112949495459501737958331952853208805511\n",
      "12540698747158523863050715693290963295227443043557\n",
      "66896648950445244523161731856403098711121722383113\n",
      "62229893423380308135336276614282806444486645238749\n",
      "30358907296290491560440772390713810515859307960866\n",
      "70172427121883998797908792274921901699720888093776\n",
      "65727333001053367881220235421809751254540594752243\n",
      "52584907711670556013604839586446706324415722155397\n",
      "53697817977846174064955149290862569321978468622482\n",
      "83972241375657056057490261407972968652414535100474\n",
      "82166370484403199890008895243450658541227588666881\n",
      "16427171479924442928230863465674813919123162824586\n",
      "17866458359124566529476545682848912883142607690042\n",
      "24219022671055626321111109370544217506941658960408\n",
      "07198403850962455444362981230987879927244284909188\n",
      "84580156166097919133875499200524063689912560717606\n",
      "05886116467109405077541002256983155200055935729725\n",
      "71636269561882670428252483600823257530420752963450"
     ]
    },
    {
     "cell_type": "code",
     "collapsed": false,
     "input": [
      "huge_number = \"\"\"73167176531330624919225119674426574742355349194934\\\n",
      "96983520312774506326239578318016984801869478851843\\\n",
      "85861560789112949495459501737958331952853208805511\\\n",
      "12540698747158523863050715693290963295227443043557\\\n",
      "66896648950445244523161731856403098711121722383113\\\n",
      "62229893423380308135336276614282806444486645238749\\\n",
      "30358907296290491560440772390713810515859307960866\\\n",
      "70172427121883998797908792274921901699720888093776\\\n",
      "65727333001053367881220235421809751254540594752243\\\n",
      "52584907711670556013604839586446706324415722155397\\\n",
      "53697817977846174064955149290862569321978468622482\\\n",
      "83972241375657056057490261407972968652414535100474\\\n",
      "82166370484403199890008895243450658541227588666881\\\n",
      "16427171479924442928230863465674813919123162824586\\\n",
      "17866458359124566529476545682848912883142607690042\\\n",
      "24219022671055626321111109370544217506941658960408\\\n",
      "07198403850962455444362981230987879927244284909188\\\n",
      "84580156166097919133875499200524063689912560717606\\\n",
      "05886116467109405077541002256983155200055935729725\\\n",
      "71636269561882670428252483600823257530420752963450\"\"\""
     ],
     "language": "python",
     "metadata": {},
     "outputs": [],
     "prompt_number": 24
    },
    {
     "cell_type": "code",
     "collapsed": false,
     "input": [
      "print len(huge_number)"
     ],
     "language": "python",
     "metadata": {},
     "outputs": [
      {
       "output_type": "stream",
       "stream": "stdout",
       "text": [
        "1000\n"
       ]
      }
     ],
     "prompt_number": 25
    },
    {
     "cell_type": "markdown",
     "metadata": {},
     "source": [
      "This is me making sure I transfered all of the 1000 numbers and didn't leave any out."
     ]
    },
    {
     "cell_type": "markdown",
     "metadata": {},
     "source": [
      "now let's get on with the actual problem"
     ]
    },
    {
     "cell_type": "code",
     "collapsed": false,
     "input": [
      "def integer(x):\n",
      "    \"\"\"turns a number in string form to integer form\"\"\"\n",
      "    if x <= '9' and x >= '0':\n",
      "        return int(x)"
     ],
     "language": "python",
     "metadata": {},
     "outputs": [],
     "prompt_number": 38
    },
    {
     "cell_type": "code",
     "collapsed": false,
     "input": [
      "#test case\n",
      "individual_number = list(\"123455\") \n",
      "answer = 0\n",
      "for i in range(1,len(individual_number)): #range of huge number\n",
      "    counter = 1\n",
      "    for j in range(i-4,i+1): #loop through range and multiplies every group of 5 numbers together\n",
      "        counter = counter*integer(individual_number[j])\n",
      "    answer = max(answer,counter) #make answer the largest product\n",
      "print answer"
     ],
     "language": "python",
     "metadata": {},
     "outputs": [
      {
       "output_type": "stream",
       "stream": "stdout",
       "text": [
        "600\n"
       ]
      }
     ],
     "prompt_number": 46
    },
    {
     "cell_type": "code",
     "collapsed": false,
     "input": [
      "#test case\n",
      "individual_number = list(\"567891\") \n",
      "answer = 0\n",
      "for i in range(1,len(individual_number)): #range of huge number\n",
      "    counter = 1\n",
      "    for j in range(i-4,i+1): #loop through range and multiplies every group of 5 numbers together\n",
      "        counter = counter*integer(individual_number[j])\n",
      "    answer = max(answer,counter) #make answer the largest product\n",
      "print answer"
     ],
     "language": "python",
     "metadata": {},
     "outputs": [
      {
       "output_type": "stream",
       "stream": "stdout",
       "text": [
        "15120\n"
       ]
      }
     ],
     "prompt_number": 45
    },
    {
     "cell_type": "markdown",
     "metadata": {},
     "source": [
      "both of these answers are correct so now let's move on to the actual problem"
     ]
    },
    {
     "cell_type": "code",
     "collapsed": false,
     "input": [
      "individual_number = list(huge_number) \n",
      "answer = 0\n",
      "for i in range(1,len(individual_number)): #range of huge number\n",
      "    counter = 1\n",
      "    for j in range(i-4,i+1): #loop through range and multiplies every group of 5 numbers together\n",
      "        counter = counter*integer(individual_number[j])\n",
      "    answer = max(answer,counter) #make answer the largest product\n",
      "print answer"
     ],
     "language": "python",
     "metadata": {},
     "outputs": [
      {
       "output_type": "stream",
       "stream": "stdout",
       "text": [
        "40824\n"
       ]
      }
     ],
     "prompt_number": 47
    },
    {
     "cell_type": "markdown",
     "metadata": {},
     "source": [
      "40824 is the correct answer"
     ]
    },
    {
     "cell_type": "markdown",
     "metadata": {},
     "source": [
      "the test cases and the actual problem work, so I can conclude that my code works!\n",
      "="
     ]
    }
   ],
   "metadata": {}
  }
 ]
}