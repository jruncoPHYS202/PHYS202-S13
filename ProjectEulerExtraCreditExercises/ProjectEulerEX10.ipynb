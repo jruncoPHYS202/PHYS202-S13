{
 "metadata": {
  "name": "ProjectEulerEX10"
 },
 "nbformat": 3,
 "nbformat_minor": 0,
 "worksheets": [
  {
   "cells": [
    {
     "cell_type": "markdown",
     "metadata": {},
     "source": [
      "Project 10: Summation of primes\n",
      "=\n",
      "\n",
      "The sum of the primes below 10 is 2 + 3 + 5 + 7 = 17.\n",
      "\n",
      "Find the sum of all the primes below two million."
     ]
    },
    {
     "cell_type": "code",
     "collapsed": false,
     "input": [
      "def sum_prime(number):\n",
      "    \"\"\"finds the sum of prime numbers\"\"\"\n",
      "    for i in range(2,int(math.sqrt(number))+1): #loops through range looking for prime numbers\n",
      "        if number%i == 0:\n",
      "            return None\n",
      "    return number"
     ],
     "language": "python",
     "metadata": {},
     "outputs": [],
     "prompt_number": 5
    },
    {
     "cell_type": "code",
     "collapsed": false,
     "input": [
      "#test case\n",
      "primes = 0\n",
      "for i in range(2,10): #range from 0 to 10 \n",
      "    if sum_prime(i):\n",
      "        primes +=i\n",
      "print primes"
     ],
     "language": "python",
     "metadata": {},
     "outputs": [
      {
       "output_type": "stream",
       "stream": "stdout",
       "text": [
        "17\n"
       ]
      }
     ],
     "prompt_number": 10
    },
    {
     "cell_type": "code",
     "collapsed": false,
     "input": [
      "#test case\n",
      "primes = 0\n",
      "for i in range(2,20):\n",
      "    if sum_prime(i):\n",
      "        primes +=i\n",
      "print primes"
     ],
     "language": "python",
     "metadata": {},
     "outputs": [
      {
       "output_type": "stream",
       "stream": "stdout",
       "text": [
        "77\n"
       ]
      }
     ],
     "prompt_number": 7
    },
    {
     "cell_type": "markdown",
     "metadata": {},
     "source": [
      "both test cases work so now let's move on to the real solution"
     ]
    },
    {
     "cell_type": "code",
     "collapsed": false,
     "input": [
      "primes = 0\n",
      "for i in range(2,2000000):\n",
      "    if sum_prime(i):\n",
      "        primes +=i\n",
      "print primes"
     ],
     "language": "python",
     "metadata": {},
     "outputs": [
      {
       "output_type": "stream",
       "stream": "stdout",
       "text": [
        "142913828922\n"
       ]
      }
     ],
     "prompt_number": 4
    },
    {
     "cell_type": "markdown",
     "metadata": {},
     "source": [
      "both test cases and the real problem work, so I conclude that the code works"
     ]
    }
   ],
   "metadata": {}
  }
 ]
}