{
 "metadata": {
  "name": "ProjectEulerEX7"
 },
 "nbformat": 3,
 "nbformat_minor": 0,
 "worksheets": [
  {
   "cells": [
    {
     "cell_type": "markdown",
     "metadata": {},
     "source": [
      "Problem 7: 10001st Prime\n",
      "=\n",
      "By listing the first six prime numbers: 2, 3, 5, 7, 11, and 13, we can see that the 6th prime is 13.\n",
      "\n",
      "What is the 10 001st prime number?"
     ]
    },
    {
     "cell_type": "code",
     "collapsed": false,
     "input": [
      "import math"
     ],
     "language": "python",
     "metadata": {},
     "outputs": [],
     "prompt_number": 2
    },
    {
     "cell_type": "code",
     "collapsed": false,
     "input": [
      "def find_prime(number):\n",
      "    \"\"\"finds prime numbers\"\"\"\n",
      "    for i in range(2,int(math.sqrt(number))+1): #loops through range looking for prime numbers\n",
      "        if number%i == 0:\n",
      "            return None\n",
      "    return number"
     ],
     "language": "python",
     "metadata": {},
     "outputs": [],
     "prompt_number": 3
    },
    {
     "cell_type": "code",
     "collapsed": false,
     "input": [
      "#test case\n",
      "prime_numbers = []\n",
      "answer = 1\n",
      "while len(prime_numbers) <= 3: #4th prime number\n",
      "    answer += 1 #loops through until you get to 4th prime number\n",
      "    if find_prime(answer):\n",
      "        prime_numbers.append(answer)\n",
      "print answer"
     ],
     "language": "python",
     "metadata": {},
     "outputs": [
      {
       "output_type": "stream",
       "stream": "stdout",
       "text": [
        "7\n"
       ]
      }
     ],
     "prompt_number": 4
    },
    {
     "cell_type": "markdown",
     "metadata": {},
     "source": [
      "the 4th prime number is 7"
     ]
    },
    {
     "cell_type": "code",
     "collapsed": false,
     "input": [
      "#test case\n",
      "prime_numbers = [] \n",
      "answer = 1\n",
      "while len(prime_numbers) <= 0: #first prime number\n",
      "    answer += 1 #loops through until you get to 1st prime number\n",
      "    if find_prime(answer):\n",
      "        prime_numbers.append(answer)\n",
      "print answer"
     ],
     "language": "python",
     "metadata": {},
     "outputs": [
      {
       "output_type": "stream",
       "stream": "stdout",
       "text": [
        "2\n"
       ]
      }
     ],
     "prompt_number": 5
    },
    {
     "cell_type": "markdown",
     "metadata": {},
     "source": [
      "the 1st prime number is 2"
     ]
    },
    {
     "cell_type": "markdown",
     "metadata": {},
     "source": [
      "both of these test cases work so now let's try the actual problem"
     ]
    },
    {
     "cell_type": "code",
     "collapsed": false,
     "input": [
      "prime_numbers = []\n",
      "answer = 1\n",
      "while len(prime_numbers) <= 10000: #10001st prime number\n",
      "    answer += 1 #loops through until you get to 10001st prime number\n",
      "    if find_prime(answer):\n",
      "        prime_numbers.append(answer)\n",
      "print answer"
     ],
     "language": "python",
     "metadata": {},
     "outputs": [
      {
       "output_type": "stream",
       "stream": "stdout",
       "text": [
        "104743\n"
       ]
      }
     ],
     "prompt_number": 6
    },
    {
     "cell_type": "markdown",
     "metadata": {},
     "source": [
      "104743 is the correct answer and both test cases work, so I conclude that my code is correct\n",
      "="
     ]
    }
   ],
   "metadata": {}
  }
 ]
}