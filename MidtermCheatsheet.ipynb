{
 "metadata": {
  "name": "MidtermCheatsheet"
 },
 "nbformat": 3,
 "nbformat_minor": 0,
 "worksheets": [
  {
   "cells": [
    {
     "cell_type": "code",
     "collapsed": false,
     "input": [
      "print 'Help! Help! I\\'m being repressed!'"
     ],
     "language": "python",
     "metadata": {},
     "outputs": [
      {
       "output_type": "stream",
       "stream": "stdout",
       "text": [
        "Help! Help! I'm being repressed!\n"
       ]
      }
     ],
     "prompt_number": 7
    },
    {
     "cell_type": "code",
     "collapsed": false,
     "input": [
      "fifth_letter = \"MONTY\"[4]\n",
      "print fifth_letter"
     ],
     "language": "python",
     "metadata": {},
     "outputs": [
      {
       "output_type": "stream",
       "stream": "stdout",
       "text": [
        "Y\n"
       ]
      }
     ],
     "prompt_number": 8
    },
    {
     "cell_type": "code",
     "collapsed": false,
     "input": [
      "len(name) #length of string \"xxxxxxx\" = 7\n",
      "name.lower() # make string lower case\n",
      "name.upper() #make string upper case\n",
      "str(5) # this turns a number into a string"
     ],
     "language": "python",
     "metadata": {},
     "outputs": []
    },
    {
     "cell_type": "code",
     "collapsed": false,
     "input": [
      "print \"The value of pi is around \" + str(3.14)"
     ],
     "language": "python",
     "metadata": {},
     "outputs": [
      {
       "output_type": "stream",
       "stream": "stdout",
       "text": [
        "The value of pi is around 3.14\n"
       ]
      }
     ],
     "prompt_number": 10
    },
    {
     "cell_type": "code",
     "collapsed": false,
     "input": [
      "string_1 = \"Camelot\"\n",
      "string_2 = \"place\"\n",
      "print \"Let's not go to %s. 'Tis a silly %s.\" % (string_1, string_2)"
     ],
     "language": "python",
     "metadata": {},
     "outputs": [
      {
       "output_type": "stream",
       "stream": "stdout",
       "text": [
        "Let's not go to Camelot. 'Tis a silly place.\n"
       ]
      }
     ],
     "prompt_number": 13
    },
    {
     "cell_type": "markdown",
     "metadata": {},
     "source": [
      "Note that == is used to compare whether two things are equal, and = is used to assign a value to a variable."
     ]
    },
    {
     "cell_type": "code",
     "collapsed": false,
     "input": [
      "!= #not equal to\n",
      "<= #less than or equal to\n",
      ">= #greater than or equal to"
     ],
     "language": "python",
     "metadata": {},
     "outputs": []
    },
    {
     "cell_type": "markdown",
     "metadata": {},
     "source": [
      "variablename.isalpha() checks to see if variablename is only letters and no numbers"
     ]
    },
    {
     "cell_type": "markdown",
     "metadata": {},
     "source": [
      "slice[i:j] (slice between i and j)\n",
      "slice[:j] (slice between start and j)"
     ]
    },
    {
     "cell_type": "code",
     "collapsed": false,
     "input": [
      "def function(*args): # *args means any number of arguments"
     ],
     "language": "python",
     "metadata": {},
     "outputs": []
    },
    {
     "cell_type": "code",
     "collapsed": false,
     "input": [
      "def favorite_actors(*hello):\n",
      "    \"\"\"Prints out your favorite actorS (plural!)\"\"\"\n",
      "    print \"Your favorite actors are:\" , hello\n",
      "favorite_actors(\"Michael Palin\", \"John Cleese\", \"Graham Chapman\")"
     ],
     "language": "python",
     "metadata": {},
     "outputs": [
      {
       "output_type": "stream",
       "stream": "stdout",
       "text": [
        "Your favorite actors are: ('Michael Palin', 'John Cleese', 'Graham Chapman')\n"
       ]
      }
     ],
     "prompt_number": 14
    },
    {
     "cell_type": "markdown",
     "metadata": {},
     "source": [
      "from math import * and import numpy as np"
     ]
    },
    {
     "cell_type": "markdown",
     "metadata": {},
     "source": [
      "The max() function takes any number of arguments and returns the largest one. min() does the opposite"
     ]
    },
    {
     "cell_type": "markdown",
     "metadata": {},
     "source": [
      "abs() returns absolute value of number"
     ]
    },
    {
     "cell_type": "markdown",
     "metadata": {},
     "source": [
      "type() says if argument inside () is a integer, float, or unicode (string)"
     ]
    },
    {
     "cell_type": "code",
     "collapsed": false,
     "input": [
      "raw_input() #manually input data"
     ],
     "language": "python",
     "metadata": {},
     "outputs": []
    },
    {
     "cell_type": "code",
     "collapsed": false,
     "input": [
      "list.append(\"string\") #add a string to a list"
     ],
     "language": "python",
     "metadata": {},
     "outputs": []
    },
    {
     "cell_type": "code",
     "collapsed": false,
     "input": [
      "#example of a dictionary\n",
      "# Assigning a dictionary with three key-value pairs to residents:\n",
      "residents = {'Puffin' : 104, 'Sloth' : 105, 'Burmese Python' : 106}\n",
      "\n",
      "print residents['Puffin'] # Prints Puffin's room number\n",
      "\n",
      "print residents['Sloth']\n",
      "print residents['Burmese Python'] # Your code here!\n",
      "# value can be a list. for example 104 above can be a list"
     ],
     "language": "python",
     "metadata": {},
     "outputs": [
      {
       "output_type": "stream",
       "stream": "stdout",
       "text": [
        "104\n",
        "105\n",
        "106\n"
       ]
      }
     ],
     "prompt_number": 20
    },
    {
     "cell_type": "code",
     "collapsed": false,
     "input": [
      "residents['Chicken Alfredo'] = 14.50 # Adding new key-value pair to dictionary\n",
      "del residents[\"Chicken Alfredo\"] # delete a key-value pair to dictionary"
     ],
     "language": "python",
     "metadata": {},
     "outputs": [],
     "prompt_number": 19
    },
    {
     "cell_type": "markdown",
     "metadata": {},
     "source": [
      "The while loop is similar to an if statement: it executes the code inside of it if some condition is true. The difference is that the while loop will continue to execute as long as the condition is true. In other words, instead of executing if something is true, it executes while that thing is true."
     ]
    },
    {
     "cell_type": "markdown",
     "metadata": {},
     "source": [
      "1. The loop_condition variable is set to True\n",
      "\n",
      "2. The while loop checks to see if loop_condition is True. It is, so the loop is entered.\n",
      "\n",
      "3. The print statement is executed.\n",
      "\n",
      "4. The variable loop_condition is set to False.\n",
      "\n",
      "5. The while loop again checks to see if loop_condition is True. It is not, so the loop is not executed a second time.\n",
      "\n",
      "This explains code below"
     ]
    },
    {
     "cell_type": "code",
     "collapsed": false,
     "input": [
      "loop_condition = True\n",
      "\n",
      "while loop_condition:\n",
      "    print \"I am a loop\"\n",
      "    loop_condition = False"
     ],
     "language": "python",
     "metadata": {},
     "outputs": [
      {
       "output_type": "stream",
       "stream": "stdout",
       "text": [
        "I am a loop\n"
       ]
      }
     ],
     "prompt_number": 21
    },
    {
     "cell_type": "markdown",
     "metadata": {},
     "source": [
      "For loop: This kind of loop is useful when you want to do something a certain number of times, such as append something to the end of a list."
     ]
    },
    {
     "cell_type": "code",
     "collapsed": false,
     "input": [
      "# using for loop through a dictionary\n",
      "d = {'x': 9, 'y': 10, 'z': 20}\n",
      "\n",
      "for key in d:\n",
      "    print key, str(d[key])"
     ],
     "language": "python",
     "metadata": {},
     "outputs": [
      {
       "output_type": "stream",
       "stream": "stdout",
       "text": [
        "y 10\n",
        "x 9\n",
        "z 20\n"
       ]
      }
     ],
     "prompt_number": 22
    },
    {
     "cell_type": "markdown",
     "metadata": {},
     "source": [
      "The function enumerate works by supplying a corresponding index to each element in the list that you pass it. Each time you go through the loop, index will be one greater, and item will be the next item in the sequence. It's very similar to using a normal for loop with a list, except this gives us an easy way to count how many items we've seen so far."
     ]
    },
    {
     "cell_type": "code",
     "collapsed": false,
     "input": [
      "choices = ['pizza', 'pasta', 'salad', 'nachos']\n",
      "\n",
      "print 'Your choices are:'\n",
      "for index, item in enumerate(choices):\n",
      "    print index+1, item"
     ],
     "language": "python",
     "metadata": {},
     "outputs": [
      {
       "output_type": "stream",
       "stream": "stdout",
       "text": [
        "Your choices are:\n",
        "1 pizza\n",
        "2 pasta\n",
        "3 salad\n",
        "4 nachos\n"
       ]
      }
     ],
     "prompt_number": 23
    },
    {
     "cell_type": "code",
     "collapsed": false,
     "input": [
      "# for/else statements\n",
      "fruits = ['banana', 'apple', 'orange', 'tomato', 'pear', 'grape']\n",
      "\n",
      "print 'You have...'\n",
      "for f in fruits:\n",
      "    if f == 'tomato':\n",
      "        print 'A tomato is not a fruit!' # (It actually is.)\n",
      "        break\n",
      "    print 'A', f\n",
      "else:\n",
      "    print 'A fine selection of fruits!'"
     ],
     "language": "python",
     "metadata": {},
     "outputs": [
      {
       "output_type": "stream",
       "stream": "stdout",
       "text": [
        "You have...\n",
        "A banana\n",
        "A apple\n",
        "A orange\n",
        "A tomato is not a fruit!\n"
       ]
      }
     ],
     "prompt_number": 24
    },
    {
     "cell_type": "code",
     "collapsed": false,
     "input": [
      "# print either keys or values in a dictionary\n",
      "my_dict = {\n",
      "    \"Name\": \"Guido\",\n",
      "    \"Age\": 56,\n",
      "    \"BDFL\": False\n",
      "}\n",
      "print my_dict.keys()\n",
      "print my_dict.values()"
     ],
     "language": "python",
     "metadata": {},
     "outputs": [
      {
       "output_type": "stream",
       "stream": "stdout",
       "text": [
        "['BDFL', 'Age', 'Name']\n",
        "[False, 56, 'Guido']\n"
       ]
      }
     ],
     "prompt_number": 25
    },
    {
     "cell_type": "code",
     "collapsed": false,
     "input": [
      "# build lists with for loops\n",
      "evens_to_50 = [i for i in range(51) if i % 2 == 0]\n",
      "print evens_to_50"
     ],
     "language": "python",
     "metadata": {},
     "outputs": [
      {
       "output_type": "stream",
       "stream": "stdout",
       "text": [
        "[0, 2, 4, 6, 8, 10, 12, 14, 16, 18, 20, 22, 24, 26, 28, 30, 32, 34, 36, 38, 40, 42, 44, 46, 48, 50]\n"
       ]
      }
     ],
     "prompt_number": 26
    },
    {
     "cell_type": "code",
     "collapsed": false,
     "input": [
      "l = [i ** 2 for i in range(1, 11)]\n",
      "# Should be [1, 4, 9, 16, 25, 36, 49, 64, 81, 100]\n",
      "\n",
      "print l[2:9:2] # [start:end:stride]\n",
      "# [::-1] will go through the list backwards"
     ],
     "language": "python",
     "metadata": {},
     "outputs": [
      {
       "output_type": "stream",
       "stream": "stdout",
       "text": [
        "[9, 25, 49, 81]\n"
       ]
      }
     ],
     "prompt_number": 28
    },
    {
     "cell_type": "code",
     "collapsed": false,
     "input": [
      "lambda x: x % 3 == 0\n",
      "Is the same as\n",
      "\n",
      "def by_three(x):\n",
      "    return x % 3 == 0\n",
      "Only we don't need to actually give the function a name; it does its work and returns a value without one. \n",
      "That's why the function the lambda creates is an anonymous function."
     ],
     "language": "python",
     "metadata": {},
     "outputs": []
    },
    {
     "cell_type": "code",
     "collapsed": false,
     "input": [
      "my_list = range(16)\n",
      "print filter(lambda x: x % 3 == 0, my_list)"
     ],
     "language": "python",
     "metadata": {},
     "outputs": [
      {
       "output_type": "stream",
       "stream": "stdout",
       "text": [
        "[0, 3, 6, 9, 12, 15]\n"
       ]
      }
     ],
     "prompt_number": 29
    },
    {
     "cell_type": "markdown",
     "metadata": {},
     "source": [
      "List Editing Functions\n",
      "Function Description Example\n",
      "\n",
      "append Add a value to the end of a list x = [1, 2, 3]\n",
      "x.append(4) # x is now [1, 2, 3, 4]\n",
      "\n",
      "del Delete a value from a list x = [1, 2, 3, 4]\n",
      "del x[1] # x is now [1, 3, 4]\n",
      "\n",
      "index Return the index of an item in a list x = [1, 2, 3, 5, 2, 4]\n",
      "y = x.index(3) # y is now 2\n",
      "\n",
      "len Return the number of values in a list x = [1, 2, 3, 4]\n",
      "y = len(x) # y is now 4\n",
      "\n",
      "pop Remove an item from a list and\n",
      "return it\n",
      "x = [1, 2, 3, 4]\n",
      "y = x.pop(1) # x is now [1, 3, 4]; y is now 2\n",
      "z = x.pop() # x is now [1, 3]; z is now 4\n",
      "\n",
      "remove Remove a specified element from a\n",
      "list\n",
      "x = [1, 2, 3, 4]\n",
      "x.remove(2) # x is now [1, 3, 4]\n",
      "reverse Reverse the order of a list x = [1, 2, 3, 4]\n",
      "x.reverse() # x is now [4, 3, 2, 1]\n",
      "\n",
      "sort Sort a list in numeric or alphabetic\n",
      "order\n",
      "x = [3, 1, 4, 2]\n",
      "x.sort() # x is now [1, 2, 3, 4]\n",
      "y = ['c', 'd', 'b', 'a']\n",
      "y.sort() # y is now ['a', 'b', 'c', 'd']"
     ]
    },
    {
     "cell_type": "markdown",
     "metadata": {},
     "source": [
      "Use while to define code to be executed while a specified condition is true:\n",
      "# display the numbers from 1 to 10\n",
      "x = 1\n",
      "while x <= 10:\n",
      "print x\n",
      "x = x + 1\n",
      "Use for to loop through a range of numbers or a list:\n",
      "# display the numbers from 1 to 10\n",
      "for x in range(1, 11):\n",
      "print x\n",
      "Controlling Loops: break and continue\n",
      "Use break to exit from the middle of a loop, or continue to start another iteration of a loop:\n",
      "# print 1 to 5 # print 1 to 10, skipping 5\n",
      "x = 1 x = 1\n",
      "while x <= 10: while x <= 10:\n",
      "print x if x == 5:\n",
      "if x == 5: x = x + 1\n",
      "break continue\n",
      "x = x + 1 print x\n",
      "x = x + 1"
     ]
    },
    {
     "cell_type": "code",
     "collapsed": false,
     "input": [],
     "language": "python",
     "metadata": {},
     "outputs": []
    }
   ],
   "metadata": {}
  }
 ]
}