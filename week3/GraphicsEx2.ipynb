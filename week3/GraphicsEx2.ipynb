{
 "metadata": {
  "name": "GraphicsEx2"
 },
 "nbformat": 3,
 "nbformat_minor": 0,
 "worksheets": [
  {
   "cells": [
    {
     "cell_type": "markdown",
     "metadata": {},
     "source": [
      "\\begin{equation}\n",
      "y = m*x + b\n",
      "\\end{equation}"
     ]
    },
    {
     "cell_type": "markdown",
     "metadata": {},
     "source": [
      "QUESTION 1\n",
      "Schrodinger's Equation"
     ]
    },
    {
     "cell_type": "markdown",
     "metadata": {},
     "source": [
      "\\begin{equation}\n",
      "\\psi_k(x) = A(\\frac{i*k - a*tanh(a*x)}{i*k + a})e^{+ikx}\n",
      "\\end{equation}"
     ]
    },
    {
     "cell_type": "markdown",
     "metadata": {},
     "source": [
      "\\begin{equation}\n",
      "v_1 = m_2\\sqrt{\\frac{2G}{M}(\\frac{1}{r}-\\frac{1}{r_0})}\n",
      "\\end{equation}"
     ]
    },
    {
     "cell_type": "markdown",
     "metadata": {},
     "source": [
      "\\begin{equation}\n",
      "f(\\theta) = \\frac{\\hbar}{p}\\sum\\limits_{\\ell=0}^\\infty (2\\ell + 1)e^{i\\delta_\\ell}sin\\delta_\\ell P_\\ell(cos\\theta)\n",
      "\\end{equation}"
     ]
    },
    {
     "cell_type": "markdown",
     "metadata": {},
     "source": [
      "\\begin{equation}\n",
      "\\frac{d\\sigma}{d\\Omega} = \\frac{k\\pi^{2}(\\pi - \\theta)}{mu_0^{2}\\theta^{2}(2\\pi - \\theta)^{2}sin\\theta}\n",
      "\\end{equation}"
     ]
    },
    {
     "cell_type": "markdown",
     "metadata": {},
     "source": [
      "\\begin{equation}\n",
      "\\langle f \\rangle = \\frac{1}{\\tau}\\int^{\\tau}_0f(t)dt.\n",
      "\\end{equation}"
     ]
    },
    {
     "cell_type": "markdown",
     "metadata": {},
     "source": [
      "\\begin{equation}\n",
      "\\Omega_S = \\omega\\frac{sin\\alpha}{sin\\theta} = \\frac{L}{\\lambda_1} = \\omega\\frac{\\sqrt{\\lambda^2_3 + (\\lambda^2_1 - \\lambda^2_3)sin\\alpha}}{\\lambda_1}\n",
      "\\end{equation}"
     ]
    },
    {
     "cell_type": "markdown",
     "metadata": {},
     "source": [
      "QUESTION 2"
     ]
    },
    {
     "cell_type": "code",
     "collapsed": false,
     "input": [],
     "language": "python",
     "metadata": {},
     "outputs": []
    }
   ],
   "metadata": {}
  }
 ]
}