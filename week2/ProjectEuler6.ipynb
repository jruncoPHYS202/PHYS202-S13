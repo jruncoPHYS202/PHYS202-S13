{
 "metadata": {
  "name": "ProjectEuler6"
 },
 "nbformat": 3,
 "nbformat_minor": 0,
 "worksheets": [
  {
   "cells": [
    {
     "cell_type": "markdown",
     "metadata": {},
     "source": [
      "Problem 6\n",
      "\n",
      "Published on Friday, 14th December 2001, 06:00 pm; Solved by 172177\n",
      "\n",
      "The sum of the squares of the first ten natural numbers is,\n",
      "\n",
      "1$^2$ + 2$^2$ + ... + 10$^2$ = 385\n",
      "The square of the sum of the first ten natural numbers is,\n",
      "\n",
      "(1 + 2 + ... + 10)$^2$ = 55$^2$ = 3025\n",
      "Hence the difference between the sum of the squares of the first ten natural numbers and the square of the sum is 3025  385 = 2640.\n",
      "\n",
      "Find the difference between the sum of the squares of the first one hundred natural numbers and the square of the sum."
     ]
    },
    {
     "cell_type": "code",
     "collapsed": false,
     "input": [
      "sum_square = 0\n",
      "square_sum = 0\n",
      "for i in range(100):\n",
      "    sum_square += (i + 1) ** 2\n",
      "    square_sum += i + 1\n",
      "print (square_sum ** 2) - sum_square\n",
      "        \n",
      "      "
     ],
     "language": "python",
     "metadata": {},
     "outputs": []
    },
    {
     "cell_type": "code",
     "collapsed": false,
     "input": [
      "2$^2$"
     ],
     "language": "python",
     "metadata": {},
     "outputs": [
      {
       "ename": "SyntaxError",
       "evalue": "invalid syntax (<ipython-input-2-e98ba8d966d2>, line 1)",
       "output_type": "pyerr",
       "traceback": [
        "\u001b[0;36m  File \u001b[0;32m\"<ipython-input-2-e98ba8d966d2>\"\u001b[0;36m, line \u001b[0;32m1\u001b[0m\n\u001b[0;31m    2$^2$\u001b[0m\n\u001b[0m     ^\u001b[0m\n\u001b[0;31mSyntaxError\u001b[0m\u001b[0;31m:\u001b[0m invalid syntax\n"
       ]
      }
     ],
     "prompt_number": 2
    },
    {
     "cell_type": "code",
     "collapsed": false,
     "input": [],
     "language": "python",
     "metadata": {},
     "outputs": []
    }
   ],
   "metadata": {}
  }
 ]
}