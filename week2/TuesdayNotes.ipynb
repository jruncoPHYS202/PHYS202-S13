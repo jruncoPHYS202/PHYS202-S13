{
 "metadata": {
  "name": "TuesdayNotes"
 },
 "nbformat": 3,
 "nbformat_minor": 0,
 "worksheets": [
  {
   "cells": [
    {
     "cell_type": "code",
     "collapsed": false,
     "input": [
      "a = 1.5 + 7.2j"
     ],
     "language": "python",
     "metadata": {},
     "outputs": [],
     "prompt_number": 1
    },
    {
     "cell_type": "code",
     "collapsed": false,
     "input": [
      "a.real"
     ],
     "language": "python",
     "metadata": {},
     "outputs": [
      {
       "output_type": "pyout",
       "prompt_number": 2,
       "text": [
        "1.5"
       ]
      }
     ],
     "prompt_number": 2
    },
    {
     "cell_type": "code",
     "collapsed": false,
     "input": [
      "a.imag"
     ],
     "language": "python",
     "metadata": {},
     "outputs": [
      {
       "output_type": "pyout",
       "prompt_number": 3,
       "text": [
        "7.2"
       ]
      }
     ],
     "prompt_number": 3
    },
    {
     "cell_type": "code",
     "collapsed": false,
     "input": [
      "b = 4.2 + 9.1j"
     ],
     "language": "python",
     "metadata": {},
     "outputs": [],
     "prompt_number": 4
    },
    {
     "cell_type": "code",
     "collapsed": false,
     "input": [
      "print b"
     ],
     "language": "python",
     "metadata": {},
     "outputs": [
      {
       "output_type": "stream",
       "stream": "stdout",
       "text": [
        "(4.2+9.1j)\n"
       ]
      }
     ],
     "prompt_number": 5
    },
    {
     "cell_type": "markdown",
     "metadata": {},
     "source": [
      "we just added a number and a complex number"
     ]
    },
    {
     "cell_type": "code",
     "collapsed": false,
     "input": [
      "foo = \"\"\"first\n",
      "second\n",
      "third\"\"\"\n",
      "print foo"
     ],
     "language": "python",
     "metadata": {},
     "outputs": [
      {
       "output_type": "stream",
       "stream": "stdout",
       "text": [
        "first\n",
        "second\n",
        "third\n"
       ]
      }
     ],
     "prompt_number": 9
    },
    {
     "cell_type": "code",
     "collapsed": false,
     "input": [
      "\"It's lame\""
     ],
     "language": "python",
     "metadata": {},
     "outputs": [
      {
       "output_type": "pyout",
       "prompt_number": 10,
       "text": [
        "\"It's lame\""
       ]
      }
     ],
     "prompt_number": 10
    },
    {
     "cell_type": "code",
     "collapsed": false,
     "input": [
      "foo2 = \"either\\nabc\\nor\"\n",
      "print foo2"
     ],
     "language": "python",
     "metadata": {},
     "outputs": [
      {
       "output_type": "stream",
       "stream": "stdout",
       "text": [
        "either\n",
        "abc\n",
        "or\n"
       ]
      }
     ],
     "prompt_number": 12
    },
    {
     "cell_type": "code",
     "collapsed": false,
     "input": [
      "mylist = [100, 3, 45, 20]"
     ],
     "language": "python",
     "metadata": {},
     "outputs": [],
     "prompt_number": 13
    },
    {
     "cell_type": "code",
     "collapsed": false,
     "input": [
      "print mylist"
     ],
     "language": "python",
     "metadata": {},
     "outputs": [
      {
       "output_type": "stream",
       "stream": "stdout",
       "text": [
        "[100, 3, 45, 20]\n"
       ]
      }
     ],
     "prompt_number": 14
    },
    {
     "cell_type": "code",
     "collapsed": false,
     "input": [
      "print len(mylist)"
     ],
     "language": "python",
     "metadata": {},
     "outputs": [
      {
       "output_type": "stream",
       "stream": "stdout",
       "text": [
        "4\n"
       ]
      }
     ],
     "prompt_number": 15
    },
    {
     "cell_type": "code",
     "collapsed": false,
     "input": [
      "print mylist[1]"
     ],
     "language": "python",
     "metadata": {},
     "outputs": [
      {
       "output_type": "stream",
       "stream": "stdout",
       "text": [
        "3\n"
       ]
      }
     ],
     "prompt_number": 17
    },
    {
     "cell_type": "code",
     "collapsed": false,
     "input": [
      "for i in mylist:\n",
      "    print i"
     ],
     "language": "python",
     "metadata": {},
     "outputs": [
      {
       "output_type": "stream",
       "stream": "stdout",
       "text": [
        "100\n",
        "3\n",
        "45\n",
        "20\n"
       ]
      }
     ],
     "prompt_number": 18
    },
    {
     "cell_type": "markdown",
     "metadata": {},
     "source": [
      "Numerical Python: numpy"
     ]
    },
    {
     "cell_type": "code",
     "collapsed": false,
     "input": [
      "import numpy as np"
     ],
     "language": "python",
     "metadata": {},
     "outputs": [],
     "prompt_number": 25
    },
    {
     "cell_type": "code",
     "collapsed": false,
     "input": [
      "print np"
     ],
     "language": "python",
     "metadata": {},
     "outputs": [
      {
       "output_type": "stream",
       "stream": "stdout",
       "text": [
        "<module 'numpy' from '/Library/Frameworks/EPD64.framework/Versions/7.3/lib/python2.7/site-packages/numpy/__init__.py'>\n"
       ]
      }
     ],
     "prompt_number": 26
    },
    {
     "cell_type": "code",
     "collapsed": false,
     "input": [
      "a = np.array([0, 1, 2, 3])"
     ],
     "language": "python",
     "metadata": {},
     "outputs": [],
     "prompt_number": 22
    },
    {
     "cell_type": "markdown",
     "metadata": {},
     "source": [
      "numpy arrays take python lists as arguments/\n",
      "python lists take square brackets"
     ]
    },
    {
     "cell_type": "code",
     "collapsed": false,
     "input": [
      "blist = [123, 1, 4, 6, 2]"
     ],
     "language": "python",
     "metadata": {},
     "outputs": [],
     "prompt_number": 23
    },
    {
     "cell_type": "code",
     "collapsed": false,
     "input": [
      "b = np.array(blist)"
     ],
     "language": "python",
     "metadata": {},
     "outputs": [],
     "prompt_number": 24
    },
    {
     "cell_type": "code",
     "collapsed": false,
     "input": [
      "print b"
     ],
     "language": "python",
     "metadata": {},
     "outputs": [
      {
       "output_type": "stream",
       "stream": "stdout",
       "text": [
        "[123   1   4   6   2]\n"
       ]
      }
     ],
     "prompt_number": 27
    },
    {
     "cell_type": "markdown",
     "metadata": {},
     "source": [
      "benchmark python list vs numpy arrays using the os time python"
     ]
    },
    {
     "cell_type": "code",
     "collapsed": false,
     "input": [
      "L = range(1000)"
     ],
     "language": "python",
     "metadata": {},
     "outputs": [],
     "prompt_number": 28
    },
    {
     "cell_type": "code",
     "collapsed": false,
     "input": [
      "%timeit [i ** 2 for i in L]"
     ],
     "language": "python",
     "metadata": {},
     "outputs": [
      {
       "output_type": "stream",
       "stream": "stdout",
       "text": [
        "10000 loops, best of 3: 124 us per loop\n"
       ]
      }
     ],
     "prompt_number": 29
    },
    {
     "cell_type": "code",
     "collapsed": false,
     "input": [
      "a = np.arange(1000)"
     ],
     "language": "python",
     "metadata": {},
     "outputs": [],
     "prompt_number": 30
    },
    {
     "cell_type": "code",
     "collapsed": false,
     "input": [
      "%timeit a**2"
     ],
     "language": "python",
     "metadata": {},
     "outputs": [
      {
       "output_type": "stream",
       "stream": "stdout",
       "text": [
        "100000 loops, best of 3: 3.81 us per loop\n"
       ]
      }
     ],
     "prompt_number": 31
    },
    {
     "cell_type": "code",
     "collapsed": false,
     "input": [
      "help(np.array)"
     ],
     "language": "python",
     "metadata": {},
     "outputs": [
      {
       "output_type": "stream",
       "stream": "stdout",
       "text": [
        "Help on built-in function array in module numpy.core.multiarray:\n",
        "\n",
        "array(...)\n",
        "    array(object, dtype=None, copy=True, order=None, subok=False, ndmin=0)\n",
        "    \n",
        "    Create an array.\n",
        "    \n",
        "    Parameters\n",
        "    ----------\n",
        "    object : array_like\n",
        "        An array, any object exposing the array interface, an\n",
        "        object whose __array__ method returns an array, or any\n",
        "        (nested) sequence.\n",
        "    dtype : data-type, optional\n",
        "        The desired data-type for the array.  If not given, then\n",
        "        the type will be determined as the minimum type required\n",
        "        to hold the objects in the sequence.  This argument can only\n",
        "        be used to 'upcast' the array.  For downcasting, use the\n",
        "        .astype(t) method.\n",
        "    copy : bool, optional\n",
        "        If true (default), then the object is copied.  Otherwise, a copy\n",
        "        will only be made if __array__ returns a copy, if obj is a\n",
        "        nested sequence, or if a copy is needed to satisfy any of the other\n",
        "        requirements (`dtype`, `order`, etc.).\n",
        "    order : {'C', 'F', 'A'}, optional\n",
        "        Specify the order of the array.  If order is 'C' (default), then the\n",
        "        array will be in C-contiguous order (last-index varies the\n",
        "        fastest).  If order is 'F', then the returned array\n",
        "        will be in Fortran-contiguous order (first-index varies the\n",
        "        fastest).  If order is 'A', then the returned array may\n",
        "        be in any order (either C-, Fortran-contiguous, or even\n",
        "        discontiguous).\n",
        "    subok : bool, optional\n",
        "        If True, then sub-classes will be passed-through, otherwise\n",
        "        the returned array will be forced to be a base-class array (default).\n",
        "    ndmin : int, optional\n",
        "        Specifies the minimum number of dimensions that the resulting\n",
        "        array should have.  Ones will be pre-pended to the shape as\n",
        "        needed to meet this requirement.\n",
        "    \n",
        "    Returns\n",
        "    -------\n",
        "    out : ndarray\n",
        "        An array object satisfying the specified requirements.\n",
        "    \n",
        "    See Also\n",
        "    --------\n",
        "    empty, empty_like, zeros, zeros_like, ones, ones_like, fill\n",
        "    \n",
        "    Examples\n",
        "    --------\n",
        "    >>> np.array([1, 2, 3])\n",
        "    array([1, 2, 3])\n",
        "    \n",
        "    Upcasting:\n",
        "    \n",
        "    >>> np.array([1, 2, 3.0])\n",
        "    array([ 1.,  2.,  3.])\n",
        "    \n",
        "    More than one dimension:\n",
        "    \n",
        "    >>> np.array([[1, 2], [3, 4]])\n",
        "    array([[1, 2],\n",
        "           [3, 4]])\n",
        "    \n",
        "    Minimum dimensions 2:\n",
        "    \n",
        "    >>> np.array([1, 2, 3], ndmin=2)\n",
        "    array([[1, 2, 3]])\n",
        "    \n",
        "    Type provided:\n",
        "    \n",
        "    >>> np.array([1, 2, 3], dtype=complex)\n",
        "    array([ 1.+0.j,  2.+0.j,  3.+0.j])\n",
        "    \n",
        "    Data-type consisting of more than one element:\n",
        "    \n",
        "    >>> x = np.array([(1,2),(3,4)],dtype=[('a','<i4'),('b','<i4')])\n",
        "    >>> x['a']\n",
        "    array([1, 3])\n",
        "    \n",
        "    Creating an array from sub-classes:\n",
        "    \n",
        "    >>> np.array(np.mat('1 2; 3 4'))\n",
        "    array([[1, 2],\n",
        "           [3, 4]])\n",
        "    \n",
        "    >>> np.array(np.mat('1 2; 3 4'), subok=True)\n",
        "    matrix([[1, 2],\n",
        "            [3, 4]])\n",
        "\n"
       ]
      }
     ],
     "prompt_number": 32
    },
    {
     "cell_type": "code",
     "collapsed": false,
     "input": [
      "np.array([0, 1, 2, 3])"
     ],
     "language": "python",
     "metadata": {},
     "outputs": [
      {
       "output_type": "pyout",
       "prompt_number": 33,
       "text": [
        "array([0, 1, 2, 3])"
       ]
      }
     ],
     "prompt_number": 33
    },
    {
     "cell_type": "code",
     "collapsed": false,
     "input": [
      "print a"
     ],
     "language": "python",
     "metadata": {},
     "outputs": [
      {
       "output_type": "stream",
       "stream": "stdout",
       "text": [
        "[  0   1   2   3   4   5   6   7   8   9  10  11  12  13  14  15  16  17\n",
        "  18  19  20  21  22  23  24  25  26  27  28  29  30  31  32  33  34  35\n",
        "  36  37  38  39  40  41  42  43  44  45  46  47  48  49  50  51  52  53\n",
        "  54  55  56  57  58  59  60  61  62  63  64  65  66  67  68  69  70  71\n",
        "  72  73  74  75  76  77  78  79  80  81  82  83  84  85  86  87  88  89\n",
        "  90  91  92  93  94  95  96  97  98  99 100 101 102 103 104 105 106 107\n",
        " 108 109 110 111 112 113 114 115 116 117 118 119 120 121 122 123 124 125\n",
        " 126 127 128 129 130 131 132 133 134 135 136 137 138 139 140 141 142 143\n",
        " 144 145 146 147 148 149 150 151 152 153 154 155 156 157 158 159 160 161\n",
        " 162 163 164 165 166 167 168 169 170 171 172 173 174 175 176 177 178 179\n",
        " 180 181 182 183 184 185 186 187 188 189 190 191 192 193 194 195 196 197\n",
        " 198 199 200 201 202 203 204 205 206 207 208 209 210 211 212 213 214 215\n",
        " 216 217 218 219 220 221 222 223 224 225 226 227 228 229 230 231 232 233\n",
        " 234 235 236 237 238 239 240 241 242 243 244 245 246 247 248 249 250 251\n",
        " 252 253 254 255 256 257 258 259 260 261 262 263 264 265 266 267 268 269\n",
        " 270 271 272 273 274 275 276 277 278 279 280 281 282 283 284 285 286 287\n",
        " 288 289 290 291 292 293 294 295 296 297 298 299 300 301 302 303 304 305\n",
        " 306 307 308 309 310 311 312 313 314 315 316 317 318 319 320 321 322 323\n",
        " 324 325 326 327 328 329 330 331 332 333 334 335 336 337 338 339 340 341\n",
        " 342 343 344 345 346 347 348 349 350 351 352 353 354 355 356 357 358 359\n",
        " 360 361 362 363 364 365 366 367 368 369 370 371 372 373 374 375 376 377\n",
        " 378 379 380 381 382 383 384 385 386 387 388 389 390 391 392 393 394 395\n",
        " 396 397 398 399 400 401 402 403 404 405 406 407 408 409 410 411 412 413\n",
        " 414 415 416 417 418 419 420 421 422 423 424 425 426 427 428 429 430 431\n",
        " 432 433 434 435 436 437 438 439 440 441 442 443 444 445 446 447 448 449\n",
        " 450 451 452 453 454 455 456 457 458 459 460 461 462 463 464 465 466 467\n",
        " 468 469 470 471 472 473 474 475 476 477 478 479 480 481 482 483 484 485\n",
        " 486 487 488 489 490 491 492 493 494 495 496 497 498 499 500 501 502 503\n",
        " 504 505 506 507 508 509 510 511 512 513 514 515 516 517 518 519 520 521\n",
        " 522 523 524 525 526 527 528 529 530 531 532 533 534 535 536 537 538 539\n",
        " 540 541 542 543 544 545 546 547 548 549 550 551 552 553 554 555 556 557\n",
        " 558 559 560 561 562 563 564 565 566 567 568 569 570 571 572 573 574 575\n",
        " 576 577 578 579 580 581 582 583 584 585 586 587 588 589 590 591 592 593\n",
        " 594 595 596 597 598 599 600 601 602 603 604 605 606 607 608 609 610 611\n",
        " 612 613 614 615 616 617 618 619 620 621 622 623 624 625 626 627 628 629\n",
        " 630 631 632 633 634 635 636 637 638 639 640 641 642 643 644 645 646 647\n",
        " 648 649 650 651 652 653 654 655 656 657 658 659 660 661 662 663 664 665\n",
        " 666 667 668 669 670 671 672 673 674 675 676 677 678 679 680 681 682 683\n",
        " 684 685 686 687 688 689 690 691 692 693 694 695 696 697 698 699 700 701\n",
        " 702 703 704 705 706 707 708 709 710 711 712 713 714 715 716 717 718 719\n",
        " 720 721 722 723 724 725 726 727 728 729 730 731 732 733 734 735 736 737\n",
        " 738 739 740 741 742 743 744 745 746 747 748 749 750 751 752 753 754 755\n",
        " 756 757 758 759 760 761 762 763 764 765 766 767 768 769 770 771 772 773\n",
        " 774 775 776 777 778 779 780 781 782 783 784 785 786 787 788 789 790 791\n",
        " 792 793 794 795 796 797 798 799 800 801 802 803 804 805 806 807 808 809\n",
        " 810 811 812 813 814 815 816 817 818 819 820 821 822 823 824 825 826 827\n",
        " 828 829 830 831 832 833 834 835 836 837 838 839 840 841 842 843 844 845\n",
        " 846 847 848 849 850 851 852 853 854 855 856 857 858 859 860 861 862 863\n",
        " 864 865 866 867 868 869 870 871 872 873 874 875 876 877 878 879 880 881\n",
        " 882 883 884 885 886 887 888 889 890 891 892 893 894 895 896 897 898 899\n",
        " 900 901 902 903 904 905 906 907 908 909 910 911 912 913 914 915 916 917\n",
        " 918 919 920 921 922 923 924 925 926 927 928 929 930 931 932 933 934 935\n",
        " 936 937 938 939 940 941 942 943 944 945 946 947 948 949 950 951 952 953\n",
        " 954 955 956 957 958 959 960 961 962 963 964 965 966 967 968 969 970 971\n",
        " 972 973 974 975 976 977 978 979 980 981 982 983 984 985 986 987 988 989\n",
        " 990 991 992 993 994 995 996 997 998 999]\n"
       ]
      }
     ],
     "prompt_number": 34
    },
    {
     "cell_type": "code",
     "collapsed": false,
     "input": [
      "a.shape"
     ],
     "language": "python",
     "metadata": {},
     "outputs": [
      {
       "output_type": "pyout",
       "prompt_number": 35,
       "text": [
        "(1000,)"
       ]
      }
     ],
     "prompt_number": 35
    },
    {
     "cell_type": "code",
     "collapsed": false,
     "input": [
      "len(a)"
     ],
     "language": "python",
     "metadata": {},
     "outputs": [
      {
       "output_type": "pyout",
       "prompt_number": 36,
       "text": [
        "1000"
       ]
      }
     ],
     "prompt_number": 36
    },
    {
     "cell_type": "markdown",
     "metadata": {},
     "source": [
      "Create multidimensional arrays"
     ]
    },
    {
     "cell_type": "code",
     "collapsed": false,
     "input": [
      "b = np.array([[0, 1, 2], [3, 4, 5]]) # 2x3 array"
     ],
     "language": "python",
     "metadata": {},
     "outputs": [],
     "prompt_number": 38
    },
    {
     "cell_type": "code",
     "collapsed": false,
     "input": [
      "print b"
     ],
     "language": "python",
     "metadata": {},
     "outputs": [
      {
       "output_type": "stream",
       "stream": "stdout",
       "text": [
        "[[0 1 2]\n",
        " [3 4 5]]\n"
       ]
      }
     ],
     "prompt_number": 39
    },
    {
     "cell_type": "code",
     "collapsed": false,
     "input": [
      "b.ndim"
     ],
     "language": "python",
     "metadata": {},
     "outputs": [
      {
       "output_type": "pyout",
       "prompt_number": 40,
       "text": [
        "2"
       ]
      }
     ],
     "prompt_number": 40
    },
    {
     "cell_type": "code",
     "collapsed": false,
     "input": [
      "b.shape"
     ],
     "language": "python",
     "metadata": {},
     "outputs": [
      {
       "output_type": "pyout",
       "prompt_number": 41,
       "text": [
        "(2, 3)"
       ]
      }
     ],
     "prompt_number": 41
    },
    {
     "cell_type": "code",
     "collapsed": false,
     "input": [
      "len(b)"
     ],
     "language": "python",
     "metadata": {},
     "outputs": [
      {
       "output_type": "pyout",
       "prompt_number": 42,
       "text": [
        "2"
       ]
      }
     ],
     "prompt_number": 42
    },
    {
     "cell_type": "code",
     "collapsed": false,
     "input": [],
     "language": "python",
     "metadata": {},
     "outputs": []
    }
   ],
   "metadata": {}
  }
 ]
}