{
 "metadata": {
  "name": "ThursdayNotes"
 },
 "nbformat": 3,
 "nbformat_minor": 0,
 "worksheets": [
  {
   "cells": [
    {
     "cell_type": "markdown",
     "metadata": {},
     "source": [
      "EXAMPLE 1: FREE FALL\n",
      "="
     ]
    },
    {
     "cell_type": "code",
     "collapsed": false,
     "input": [
      "g = -9.8 #gravitational acceleration\n",
      "dt = .1 # time step\n",
      "y = arange(0.,10.1,dt)\n",
      "v_y = zeros(y.shape)\n",
      "v_y[0] = 0 #initial velocity = 0\n",
      "for i in range(y.shape[0]):\n",
      "    v_y[i] = v_y[i-1] + g*dt #get velocity for each step\n",
      "plot(y,v_y)"
     ],
     "language": "python",
     "metadata": {},
     "outputs": [
      {
       "output_type": "pyout",
       "prompt_number": 1,
       "text": [
        "[<matplotlib.lines.Line2D at 0x3073890>]"
       ]
      },
      {
       "output_type": "display_data",
       "png": "[encoded data removed]"
      }
     ],
     "prompt_number": 1
    },
    {
     "cell_type": "code",
     "collapsed": false,
     "input": [
      "r = zeros(y.shape)\n",
      "r[0] = 0 #set initial position equal to 0\n",
      "for i in range(y.shape[0]):\n",
      "    r[i] = r[i-1] + v_y[i]*dt\n",
      "plot(y,r)"
     ],
     "language": "python",
     "metadata": {},
     "outputs": [
      {
       "output_type": "pyout",
       "prompt_number": 3,
       "text": [
        "[<matplotlib.lines.Line2D at 0x32a0790>]"
       ]
      },
      {
       "output_type": "display_data",
       "png": "[encoded data removed]"
      }
     ],
     "prompt_number": 3
    },
    {
     "cell_type": "markdown",
     "metadata": {},
     "source": [
      "EXERCISE 1\n",
      "="
     ]
    },
    {
     "cell_type": "markdown",
     "metadata": {},
     "source": [
      "part a. use eulers method to solve dy/dx = x + 2y given y(0) = 0.  find y(1) with step size .25 and .02"
     ]
    },
    {
     "cell_type": "code",
     "collapsed": false,
     "input": [
      "import math\n",
      "import numpy as np\n",
      "# First Order ODE (y' = f(x, y)) Solver using Euler method\n",
      "# n : number of steps (higher the better)\n",
      "def Euler(f, xa, xb, ya, n):\n",
      "      h = (xb - xa) / float(n) # xb: final value of independent variable\n",
      "      x = xa # xa: initial value of independent variable\n",
      "      y = ya # ya: initial value of dependent variable\n",
      "      z = np.zeros(n)\n",
      "      for i in range(n):\n",
      "          y += h * f(x, y)\n",
      "          x += h\n",
      "          z[i] = y\n",
      "      return y,z # Returns value of y at xb. \n"
     ],
     "language": "python",
     "metadata": {},
     "outputs": [],
     "prompt_number": 5
    },
    {
     "cell_type": "code",
     "collapsed": false,
     "input": [
      "y,z = Euler(lambda x,y: x+2*y, 0, 1.25, 0, 5) # 4 for step size of .25\n",
      "z"
     ],
     "language": "python",
     "metadata": {},
     "outputs": [
      {
       "output_type": "pyout",
       "prompt_number": 6,
       "text": [
        "array([ 0.       ,  0.0625   ,  0.21875  ,  0.515625 ,  1.0234375])"
       ]
      }
     ],
     "prompt_number": 6
    },
    {
     "cell_type": "code",
     "collapsed": false,
     "input": [
      "y1,z1 = Euler(lambda x,y: x+2*y, 0, 1, 0, 50) # 50 for step size of .02\n",
      "z1"
     ],
     "language": "python",
     "metadata": {},
     "outputs": [
      {
       "output_type": "pyout",
       "prompt_number": 7,
       "text": [
        "array([  0.00000000e+00,   4.00000000e-04,   1.21600000e-03,\n",
        "         2.46464000e-03,   4.16322560e-03,   6.32975462e-03,\n",
        "         8.98294481e-03,   1.21422626e-02,   1.58279531e-02,\n",
        "         2.00610712e-02,   2.48635141e-02,   3.02580546e-02,\n",
        "         3.62683768e-02,   4.29191119e-02,   5.02358764e-02,\n",
        "         5.82453114e-02,   6.69751239e-02,   7.64541288e-02,\n",
        "         8.67122940e-02,   9.77807858e-02,   1.09692017e-01,\n",
        "         1.22479698e-01,   1.36178886e-01,   1.50826041e-01,\n",
        "         1.66459083e-01,   1.83117446e-01,   2.00842144e-01,\n",
        "         2.19675830e-01,   2.39662863e-01,   2.60849378e-01,\n",
        "         2.83283353e-01,   3.07014687e-01,   3.32095274e-01,\n",
        "         3.58579085e-01,   3.86522249e-01,   4.15983138e-01,\n",
        "         4.47022464e-01,   4.79703363e-01,   5.14091497e-01,\n",
        "         5.50255157e-01,   5.88265363e-01,   6.28195978e-01,\n",
        "         6.70123817e-01,   7.14128770e-01,   7.60293920e-01,\n",
        "         8.08705677e-01,   8.59453904e-01,   9.12632060e-01,\n",
        "         9.68337343e-01,   1.02667084e+00])"
       ]
      }
     ],
     "prompt_number": 7
    },
    {
     "cell_type": "markdown",
     "metadata": {},
     "source": [
      "part b: plot the results from part a for the 2 different step sizes with the exact solution .25e^(2x) - .5x - .25 on one plot. include a legend"
     ]
    },
    {
     "cell_type": "markdown",
     "metadata": {},
     "source": [
      "step size of 50 (.02) gives a more accurate solution"
     ]
    },
    {
     "cell_type": "code",
     "collapsed": false,
     "input": [
      "def f(x): #function f\n",
      "    return .25*exp(2*x)-.5*x-.25\n",
      "x = arange(0.,1.25,.25)\n",
      "x1 = arange(0.,1.0,.02)\n",
      "plot(x,f(x), linestyle = \":\", label = \"exact solution\")\n",
      "plot(x,z, label = \"4 steps\")\n",
      "plot(x1,z1, label = \"50 steps\")\n",
      "legend(loc = \"upper left\")\n",
      "show()"
     ],
     "language": "python",
     "metadata": {},
     "outputs": [
      {
       "output_type": "display_data",
       "png": "[encoded data removed]"
      }
     ],
     "prompt_number": 8
    },
    {
     "cell_type": "markdown",
     "metadata": {},
     "source": [
      "part c: solve the same problem using the Euler-Cromer and the midpoint method, using the same step sizes and plot the results with the same solution. plot the difference between the numerical solution and the exact solution"
     ]
    },
    {
     "cell_type": "code",
     "collapsed": false,
     "input": [
      "#Euler-Cromer\n",
      "dx = .25\n",
      "x2 = arange(0.,10.,dx)\n",
      "z2 = zeros(x2.shape)\n",
      "for i in range(x2.shape[0]):\n",
      "    z2[i] = z2[i-1] + (x2[i]+2*z[i])*dx\n",
      "plot(x2,z2)"
     ],
     "language": "python",
     "metadata": {},
     "outputs": [
      {
       "ename": "IndexError",
       "evalue": "index out of bounds",
       "output_type": "pyerr",
       "traceback": [
        "\u001b[1;31m---------------------------------------------------------------------------\u001b[0m\n\u001b[1;31mIndexError\u001b[0m                                Traceback (most recent call last)",
        "\u001b[1;32m<ipython-input-10-83b6659530c1>\u001b[0m in \u001b[0;36m<module>\u001b[1;34m()\u001b[0m\n\u001b[0;32m      4\u001b[0m \u001b[0mz2\u001b[0m \u001b[1;33m=\u001b[0m \u001b[0mzeros\u001b[0m\u001b[1;33m(\u001b[0m\u001b[0mx2\u001b[0m\u001b[1;33m.\u001b[0m\u001b[0mshape\u001b[0m\u001b[1;33m)\u001b[0m\u001b[1;33m\u001b[0m\u001b[0m\n\u001b[0;32m      5\u001b[0m \u001b[1;32mfor\u001b[0m \u001b[0mi\u001b[0m \u001b[1;32min\u001b[0m \u001b[0mrange\u001b[0m\u001b[1;33m(\u001b[0m\u001b[0mx2\u001b[0m\u001b[1;33m.\u001b[0m\u001b[0mshape\u001b[0m\u001b[1;33m[\u001b[0m\u001b[1;36m0\u001b[0m\u001b[1;33m]\u001b[0m\u001b[1;33m)\u001b[0m\u001b[1;33m:\u001b[0m\u001b[1;33m\u001b[0m\u001b[0m\n\u001b[1;32m----> 6\u001b[1;33m     \u001b[0mz2\u001b[0m\u001b[1;33m[\u001b[0m\u001b[0mi\u001b[0m\u001b[1;33m]\u001b[0m \u001b[1;33m=\u001b[0m \u001b[0mz2\u001b[0m\u001b[1;33m[\u001b[0m\u001b[0mi\u001b[0m\u001b[1;33m-\u001b[0m\u001b[1;36m1\u001b[0m\u001b[1;33m]\u001b[0m \u001b[1;33m+\u001b[0m \u001b[1;33m(\u001b[0m\u001b[0mx2\u001b[0m\u001b[1;33m[\u001b[0m\u001b[0mi\u001b[0m\u001b[1;33m]\u001b[0m\u001b[1;33m+\u001b[0m\u001b[1;36m2\u001b[0m\u001b[1;33m*\u001b[0m\u001b[0mz\u001b[0m\u001b[1;33m[\u001b[0m\u001b[0mi\u001b[0m\u001b[1;33m]\u001b[0m\u001b[1;33m)\u001b[0m\u001b[1;33m*\u001b[0m\u001b[0mdx\u001b[0m\u001b[1;33m\u001b[0m\u001b[0m\n\u001b[0m\u001b[0;32m      7\u001b[0m \u001b[0mplot\u001b[0m\u001b[1;33m(\u001b[0m\u001b[0mx2\u001b[0m\u001b[1;33m,\u001b[0m\u001b[0mz2\u001b[0m\u001b[1;33m)\u001b[0m\u001b[1;33m\u001b[0m\u001b[0m\n",
        "\u001b[1;31mIndexError\u001b[0m: index out of bounds"
       ]
      }
     ],
     "prompt_number": 10
    },
    {
     "cell_type": "markdown",
     "metadata": {},
     "source": [
      "QUADRATIC DRAG WITH MATHEMATICA MANIPULATE\n",
      "="
     ]
    },
    {
     "cell_type": "markdown",
     "metadata": {},
     "source": [
      "EXERCISE 2\n",
      "="
     ]
    },
    {
     "cell_type": "markdown",
     "metadata": {},
     "source": [
      "part a: already downloaded it"
     ]
    },
    {
     "cell_type": "markdown",
     "metadata": {},
     "source": [
      "part b"
     ]
    },
    {
     "cell_type": "code",
     "collapsed": false,
     "input": [],
     "language": "python",
     "metadata": {},
     "outputs": []
    }
   ],
   "metadata": {}
  }
 ]
}