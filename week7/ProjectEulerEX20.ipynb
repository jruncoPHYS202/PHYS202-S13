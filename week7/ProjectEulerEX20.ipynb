{
 "metadata": {
  "name": "ProjectEulerEX20"
 },
 "nbformat": 3,
 "nbformat_minor": 0,
 "worksheets": [
  {
   "cells": [
    {
     "cell_type": "markdown",
     "metadata": {},
     "source": [
      "PROJECT EULER PROBLEM 20: FACTORIAL DIGIT SUM\n",
      "="
     ]
    },
    {
     "cell_type": "markdown",
     "metadata": {},
     "source": [
      "Find the sum of the digits in the number 100!"
     ]
    },
    {
     "cell_type": "code",
     "collapsed": false,
     "input": [
      "def find_factorial(x):\n",
      "    \"\"\"finds the factorial of x (x!) for a number greater than 0\"\"\"\n",
      "    factorial = 1\n",
      "    while x > 1: #counts down from x to 1\n",
      "        factorial = factorial*x\n",
      "        x = x-1\n",
      "    return factorial\n",
      "print find_factorial(4) #test case\n",
      "print find_factorial(100) #print 100!"
     ],
     "language": "python",
     "metadata": {},
     "outputs": [
      {
       "output_type": "stream",
       "stream": "stdout",
       "text": [
        "24\n",
        "93326215443944152681699238856266700490715968264381621468592963895217599993229915608941463976156518286253697920827223758251185210916864000000000000000000000000\n"
       ]
      }
     ],
     "prompt_number": 2
    },
    {
     "cell_type": "code",
     "collapsed": false,
     "input": [
      "\"\"\"Test case for 4! = 24\"\"\"\n",
      "factorial_sum = 0\n",
      "factorial_string = str(find_factorial(4))\n",
      "for i in factorial_string:\n",
      "    factorial_sum += int(i)\n",
      "print factorial_sum"
     ],
     "language": "python",
     "metadata": {},
     "outputs": [
      {
       "output_type": "stream",
       "stream": "stdout",
       "text": [
        "6\n"
       ]
      }
     ],
     "prompt_number": 4
    },
    {
     "cell_type": "code",
     "collapsed": false,
     "input": [
      "factorial_sum = 0\n",
      "factorial_string = str(find_factorial(100))\n",
      "for i in factorial_string:\n",
      "    factorial_sum += int(i)\n",
      "print factorial_sum"
     ],
     "language": "python",
     "metadata": {},
     "outputs": [
      {
       "output_type": "stream",
       "stream": "stdout",
       "text": [
        "648\n"
       ]
      }
     ],
     "prompt_number": 5
    },
    {
     "cell_type": "markdown",
     "metadata": {},
     "source": [
      "The sum of the the digits in 100! is 648\n",
      "="
     ]
    }
   ],
   "metadata": {}
  }
 ]
}