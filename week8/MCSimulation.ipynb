{
 "metadata": {
  "name": "MCSimulation"
 },
 "nbformat": 3,
 "nbformat_minor": 0,
 "worksheets": [
  {
   "cells": [
    {
     "cell_type": "markdown",
     "metadata": {},
     "source": [
      "Question 1: See RandomNumberMonteCarlo in week8 directory\n",
      "="
     ]
    },
    {
     "cell_type": "markdown",
     "metadata": {},
     "source": [
      "Question 2\n",
      "="
     ]
    },
    {
     "cell_type": "markdown",
     "metadata": {},
     "source": [
      "part a: Solve for the CDF of the Weibull distribution analytically, using\n",
      "-\n",
      "$F(x) = \\\\int\\\\limits_0^x \\\\alpha \\\\beta ^ {-\\\\alpha} t ^{\\\\alpha - 1} e^{-\\\\left(\\\\frac{x}{\\\\beta} \\\\right) ^ {\\\\alpha}} dt$"
     ]
    },
    {
     "cell_type": "markdown",
     "metadata": {},
     "source": [
      "Answer: $F(x) = 1 - e^{-\\\\left(\\\\frac{x}{\\\\beta} \\\\right) ^ {\\\\alpha}}, x > 0$\n",
      "\n",
      "$F(x) = 0$ otherwise"
     ]
    },
    {
     "cell_type": "markdown",
     "metadata": {},
     "source": [
      "part b: Find the inverse of the CDF F^-1(x) analytically\n",
      "-"
     ]
    },
    {
     "cell_type": "markdown",
     "metadata": {},
     "source": [
      "Answer: $F^{-1}(x) = \\\\frac{(-ln(1-x))^{\\\\frac{1}{\\\\alpha}}}{\\\\beta}$"
     ]
    },
    {
     "cell_type": "markdown",
     "metadata": {},
     "source": [
      "part c: Write a program to generate 10,000 samples from the Weibull distribution. Do not use the built-in function from numpy.random\n",
      "-"
     ]
    },
    {
     "cell_type": "markdown",
     "metadata": {},
     "source": [
      "for reference:\n",
      "\n",
      "y = $\\\\alpha$\n",
      "\n",
      "z = $\\\\beta$"
     ]
    },
    {
     "cell_type": "code",
     "collapsed": false,
     "input": [
      "f = lambda x: y*z**(-y) * x**(y-1) * exp(-(x/z)**y)\n",
      "F = lambda x: 1 - exp(-(x/z)**y)\n",
      "invF = lambda x: z*(-log(1-x))**(1/y)\n",
      "\n",
      "y = 1.5 #y,z,N given values\n",
      "z = 6.0\n",
      "N = 10000 \n",
      "x = arange(0,10,.01) #was not sure what to use for range so randomly picked 0 to 10\n",
      "a = numpy.random.random_sample(N) #create a random sample. hope this isn't what you told us not to do...\n",
      "xsamples = invF(a)"
     ],
     "language": "python",
     "metadata": {},
     "outputs": [],
     "prompt_number": 33
    },
    {
     "cell_type": "markdown",
     "metadata": {},
     "source": [
      "part d: Plot the true distribution, the CDF and the sampled distribution as a histogram, all on the same graph. Let \u000b",
      "$\\\\alpha$ = 1.5, $\\\\beta$\f",
      " = 6.\n",
      "-"
     ]
    },
    {
     "cell_type": "code",
     "collapsed": false,
     "input": [
      "hist(xsamples,50,normed=True,label='random sample with 50 bins')\n",
      "plot(x,f(x),label='actual sample',lw=3)\n",
      "plot(x,F(x),label='CDF',lw=3)\n",
      "legend()\n",
      "xlim(0,10)\n",
      "show()"
     ],
     "language": "python",
     "metadata": {},
     "outputs": [
      {
       "output_type": "display_data",
       "png": "[encoded data removed]"
      }
     ],
     "prompt_number": 34
    },
    {
     "cell_type": "markdown",
     "metadata": {},
     "source": [
      "Question 3\n",
      "="
     ]
    },
    {
     "cell_type": "markdown",
     "metadata": {},
     "source": [
      "part a: Write a program that uses the Rejection Sampling Method to generate a set of 10,000 samples from this distribution.\n",
      "-"
     ]
    },
    {
     "cell_type": "code",
     "collapsed": false,
     "input": [
      "f = lambda x: 60 *x**3 * (1-x)**2\n",
      "F = lambda x: x**4 * (10*x**2 - 24*x + 15)\n",
      "\n",
      "xmin = 0.\n",
      "xmax = 1.\n",
      "subx = []\n"
     ],
     "language": "python",
     "metadata": {},
     "outputs": [
      {
       "ename": "ValueError",
       "evalue": "The truth value of an array with more than one element is ambiguous. Use a.any() or a.all()",
       "output_type": "pyerr",
       "traceback": [
        "\u001b[1;31m---------------------------------------------------------------------------\u001b[0m\n\u001b[1;31mValueError\u001b[0m                                Traceback (most recent call last)",
        "\u001b[1;32m<ipython-input-38-4bafe61b8000>\u001b[0m in \u001b[0;36m<module>\u001b[1;34m()\u001b[0m\n\u001b[0;32m      5\u001b[0m \u001b[0mxmax\u001b[0m \u001b[1;33m=\u001b[0m \u001b[1;36m1.\u001b[0m\u001b[1;33m\u001b[0m\u001b[0m\n\u001b[0;32m      6\u001b[0m \u001b[0msubx\u001b[0m \u001b[1;33m=\u001b[0m \u001b[1;33m[\u001b[0m\u001b[1;33m]\u001b[0m\u001b[1;33m\u001b[0m\u001b[0m\n\u001b[1;32m----> 7\u001b[1;33m \u001b[1;32mif\u001b[0m \u001b[0mx\u001b[0m\u001b[1;33m>\u001b[0m\u001b[0mxmin\u001b[0m \u001b[1;32mand\u001b[0m \u001b[0mx\u001b[0m\u001b[1;33m<\u001b[0m\u001b[0mxmax\u001b[0m\u001b[1;33m:\u001b[0m\u001b[1;33m\u001b[0m\u001b[0m\n\u001b[0m\u001b[0;32m      8\u001b[0m     \u001b[0msubx\u001b[0m\u001b[1;33m.\u001b[0m\u001b[0mappend\u001b[0m\u001b[1;33m(\u001b[0m\u001b[1;33m)\u001b[0m\u001b[1;33m\u001b[0m\u001b[0m\n\u001b[0;32m      9\u001b[0m \u001b[1;32mreturn\u001b[0m \u001b[0msubx\u001b[0m\u001b[1;33m\u001b[0m\u001b[0m\n",
        "\u001b[1;31mValueError\u001b[0m: The truth value of an array with more than one element is ambiguous. Use a.any() or a.all()"
       ]
      }
     ],
     "prompt_number": 38
    },
    {
     "cell_type": "markdown",
     "metadata": {},
     "source": [
      "part b: plot the density distribution, the CDF, and a histogram of the sampled distribution on the same graph.\n",
      "-"
     ]
    },
    {
     "cell_type": "code",
     "collapsed": false,
     "input": [],
     "language": "python",
     "metadata": {},
     "outputs": []
    }
   ],
   "metadata": {}
  }
 ]
}