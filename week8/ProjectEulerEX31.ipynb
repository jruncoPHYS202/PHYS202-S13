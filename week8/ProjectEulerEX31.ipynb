{
 "metadata": {
  "name": "ProjectEulerEX31"
 },
 "nbformat": 3,
 "nbformat_minor": 0,
 "worksheets": [
  {
   "cells": [
    {
     "cell_type": "markdown",
     "metadata": {},
     "source": [
      "Project Euler Problem 31 - Coin Sums"
     ]
    },
    {
     "cell_type": "markdown",
     "metadata": {},
     "source": [
      "In England the currency is made up of pound, \u00a3, and pence, p, and there are eight coins in general circulation:\n",
      "\n",
      "1p, 2p, 5p, 10p, 20p, 50p, \u00a31 (100p) and \u00a32 (200p).\n",
      "It is possible to make \u00a32 in the following way:\n",
      "\n",
      "1\u00a31 + 150p + 220p + 15p + 12p + 31p\n",
      "How many different ways can \u00a32 be made using any number of coins?"
     ]
    },
    {
     "cell_type": "code",
     "collapsed": false,
     "input": [
      "def English_coins(total):\n",
      "    \"\"\"takes a list of English coin values and returns the number of possibilities\"\"\"\n",
      "    #amount_wanted = 200 (not actually needed so put in hastag\n",
      "    coins = [1,2,5,10,20,50,100,200] #list of coin values\n",
      "    possibilities = [0]*(total+1) #add 1 to total to keep index in range\n",
      "    possibilities[0] = 1 #starting the list at 1 to add on to in the for loop. without this would lead to an answer of 0\n",
      "    for i in coins: #2 for loops to loop through coin values and add up to 200\n",
      "        for k in range(i,total+1): #add 1 to total to keep index in range\n",
      "            possibilities[k] = possibilities[k] + possibilities[k-i]\n",
      "    return possibilities[total]\n",
      "print \"number of possibilities = \",English_coins(200)"
     ],
     "language": "python",
     "metadata": {},
     "outputs": [
      {
       "output_type": "stream",
       "stream": "stdout",
       "text": [
        "number of possibilities =  73682\n"
       ]
      }
     ],
     "prompt_number": 8
    },
    {
     "cell_type": "markdown",
     "metadata": {},
     "source": [
      "The number of possibilities for English coins to add up to 200 is 73682\n",
      "="
     ]
    },
    {
     "cell_type": "code",
     "collapsed": false,
     "input": [
      "#Test case for number of possibilities for coins to add up to 4\n",
      "def English_coins(total):\n",
      "    #amount_wanted = 4\n",
      "    coins = [1,2,5,10,20,50,100,200]\n",
      "    possibilities = [0]*(total+1)\n",
      "    possibilities[0] = 1\n",
      "    for i in coins:\n",
      "        for k in range(i,total+1):\n",
      "            possibilities[k] = possibilities[k] + possibilities[k-i]\n",
      "    return possibilities[total]\n",
      "print \"number of possibilities = \",English_coins(4)"
     ],
     "language": "python",
     "metadata": {},
     "outputs": [
      {
       "output_type": "stream",
       "stream": "stdout",
       "text": [
        "number of possibilities =  3\n"
       ]
      }
     ],
     "prompt_number": 9
    },
    {
     "cell_type": "markdown",
     "metadata": {},
     "source": [
      "the test case works for adding up to 4. and the real case works for 200 so code works"
     ]
    },
    {
     "cell_type": "code",
     "collapsed": false,
     "input": [],
     "language": "python",
     "metadata": {},
     "outputs": []
    }
   ],
   "metadata": {}
  }
 ]
}