{
 "metadata": {
  "name": "ProjectEulerEX25"
 },
 "nbformat": 3,
 "nbformat_minor": 0,
 "worksheets": [
  {
   "cells": [
    {
     "cell_type": "markdown",
     "metadata": {},
     "source": [
      "Problem: Find the first fibonacci term with 1000 digits."
     ]
    },
    {
     "cell_type": "code",
     "collapsed": false,
     "input": [
      "fibonacci_term = 1\n",
      "term_one = 0\n",
      "term_two = 1\n",
      "stop_when = 1000\n",
      "x = 1 # x is the actual term number\n",
      "while stop_when > len(str(fibonacci_term)): #loop through until fibonacci term is greater than 1000\n",
      "    fibonacci_term = term_one + term_two #add the first 2 terms\n",
      "    term_one = term_two #set term one = to term two\n",
      "    term_two = fibonacci_term # set term two equal to fibonacci_term\n",
      "    x = x + 1 #add one to x\n",
      "    \n",
      "print x\n",
      "\"\"\"Term 4782 is the first fibonacci term with 1000 digits\"\"\""
     ],
     "language": "python",
     "metadata": {},
     "outputs": [
      {
       "output_type": "stream",
       "stream": "stdout",
       "text": [
        "4782\n"
       ]
      },
      {
       "output_type": "pyout",
       "prompt_number": 23,
       "text": [
        "'Term 4782 is the first fibonacci term with 1000 digits'"
       ]
      }
     ],
     "prompt_number": 23
    },
    {
     "cell_type": "code",
     "collapsed": false,
     "input": [],
     "language": "python",
     "metadata": {},
     "outputs": []
    }
   ],
   "metadata": {}
  }
 ]
}