{
 "metadata": {
  "name": "ProjectEulerEX17"
 },
 "nbformat": 3,
 "nbformat_minor": 0,
 "worksheets": [
  {
   "cells": [
    {
     "cell_type": "markdown",
     "metadata": {},
     "source": [
      "Question\n",
      "="
     ]
    },
    {
     "cell_type": "markdown",
     "metadata": {},
     "source": [
      "If the numbers 1 to 5 are written out in words: one, two, three, four, five, then there are 3 + 3 + 5 + 4 + 4 = 19 letters used in total.\n",
      "\n",
      "If all the numbers from 1 to 1000 (one thousand) inclusive were written out in words, how many letters would be used?\n",
      "\n",
      "\n",
      "NOTE: Do not count spaces or hyphens. For example, 342 (three hundred and forty-two) contains 23 letters and 115 (one hundred and fifteen) contains 20 letters. The use of \"and\" when writing out numbers is in compliance with British usage."
     ]
    },
    {
     "cell_type": "code",
     "collapsed": false,
     "input": [
      "number_name = dict([(1,'one'), (2, 'two'), (3, 'three'),(4,'four'),(5,'five'),(6,'six'),(7,'seven'),(8,'eight'),(9,'nine'),(10,'ten'),(11,'eleven'),(12,'twelve'),(13,'thirteen'),(14,'fourteen'),(15,'fifteen'),(16,'sixteen'),(17,'seventeen'),(18,'eighteen'),(19,'nineteen'),(20,'twenty'),(30,'thirty'),(40,'forty'),(50,'fifty'),(60,'sixty'),(70,'seventy'),(80,'eighty'),(90,'ninety'),(100,'hundred')])"
     ],
     "language": "python",
     "metadata": {},
     "outputs": [],
     "prompt_number": 3
    },
    {
     "cell_type": "code",
     "collapsed": false,
     "input": [
      "print number_name"
     ],
     "language": "python",
     "metadata": {},
     "outputs": [
      {
       "output_type": "stream",
       "stream": "stdout",
       "text": [
        "{1: 'one', 2: 'two', 3: 'three', 4: 'four', 5: 'five', 6: 'six', 7: 'seven', 8: 'eight', 9: 'nine', 10: 'ten', 11: 'eleven', 12: 'twelve', 13: 'thirteen', 14: 'fourteen', 15: 'fifteen', 16: 'sixteen', 17: 'seventeen', 18: 'eighteen', 19: 'nineteen', 20: 'twenty', 30: 'thirty', 40: 'forty', 50: 'fifty', 60: 'sixty', 70: 'seventy', 80: 'eighty', 90: 'ninety', 100: 'hundred'}\n"
       ]
      }
     ],
     "prompt_number": 4
    },
    {
     "cell_type": "code",
     "collapsed": false,
     "input": [
      "def number(name):\n",
      "    \"\"\"count the number of letters for a single number from 1-1000\"\"\"\n",
      "    hundred = name//100 #hundreds place\n",
      "    hundred_string = \"\" \n",
      "    remainder = name%100 #remainder\n",
      "    remainder_string = \"\"\n",
      "    if hundred == 10: # one thousand\n",
      "        hundred_string = \"onethousand\"\n",
      "    elif hundred != 0 and remainder != 0: #if it not a multiple of 100\n",
      "        hundred_string = number_name[hundred] + number_name[100] + \"and\"\n",
      "    elif hundred == 0: #if it is less than 100\n",
      "        pass\n",
      "    else: # if it is not a multiple of 100 such as 233\n",
      "        hundred_string = number_name[hundred] + number_name[100]\n",
      "    if remainder == 0: #if there is no remainder\n",
      "        pass\n",
      "    elif remainder <= 20: #if the remainder is less than 21, return the remainder using the dictionary\n",
      "        remainder_string = number_name[remainder]\n",
      "    elif remainder//10*10 != 0 and remainder%10 != 0: #if remainder is more than 20\n",
      "        remainder_string = number_name[remainder//10*10]+ number_name[remainder%10] #not in dictionary so have to create it\n",
      "    else:\n",
      "        remainder_string = number_name[remainder//10*10]\n",
      "    return len(hundred_string+remainder_string)"
     ],
     "language": "python",
     "metadata": {},
     "outputs": [],
     "prompt_number": 56
    },
    {
     "cell_type": "code",
     "collapsed": false,
     "input": [
      "print number(1000)\n",
      "print number(133)\n",
      "print number(12)\n",
      "print number(78)"
     ],
     "language": "python",
     "metadata": {},
     "outputs": [
      {
       "output_type": "stream",
       "stream": "stdout",
       "text": [
        "11\n",
        "24\n",
        "6\n",
        "12\n"
       ]
      }
     ],
     "prompt_number": 57
    },
    {
     "cell_type": "markdown",
     "metadata": {},
     "source": [
      "my function works for single numbers. now let's make it loop through 1000"
     ]
    },
    {
     "cell_type": "code",
     "collapsed": false,
     "input": [
      "def number_looper(x):\n",
      "    \"\"\"loops through a range of numbers to return the number of letters it has\"\"\"\n",
      "    answer = 0 \n",
      "    for i in range(1,x+1): #loops through every number in the range\n",
      "        answer += number(i) #add it to the answer\n",
      "    return answer"
     ],
     "language": "python",
     "metadata": {},
     "outputs": [],
     "prompt_number": 58
    },
    {
     "cell_type": "code",
     "collapsed": false,
     "input": [
      "print number_looper(1)\n",
      "print number_looper(10)\n",
      "print number_looper(3)"
     ],
     "language": "python",
     "metadata": {},
     "outputs": [
      {
       "output_type": "stream",
       "stream": "stdout",
       "text": [
        "3\n",
        "39\n",
        "11\n"
       ]
      }
     ],
     "prompt_number": 59
    },
    {
     "cell_type": "markdown",
     "metadata": {},
     "source": [
      "these work so now let's try 1000"
     ]
    },
    {
     "cell_type": "code",
     "collapsed": false,
     "input": [
      "print number_looper(1000)"
     ],
     "language": "python",
     "metadata": {},
     "outputs": [
      {
       "output_type": "stream",
       "stream": "stdout",
       "text": [
        "21124\n"
       ]
      }
     ],
     "prompt_number": 60
    },
    {
     "cell_type": "markdown",
     "metadata": {},
     "source": [
      "It takes 21124 letters to write out 1-1000.  This is the answer I got above; therefore, I got the right answer conclude that my code works!\n",
      "-"
     ]
    }
   ],
   "metadata": {}
  }
 ]
}