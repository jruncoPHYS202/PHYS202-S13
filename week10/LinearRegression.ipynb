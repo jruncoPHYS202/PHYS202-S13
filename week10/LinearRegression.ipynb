{
 "metadata": {
  "name": "LinearRegression"
 },
 "nbformat": 3,
 "nbformat_minor": 0,
 "worksheets": [
  {
   "cells": [
    {
     "cell_type": "markdown",
     "metadata": {},
     "source": [
      "Exercise 1\n",
      "="
     ]
    },
    {
     "cell_type": "code",
     "collapsed": false,
     "input": [
      "DataIn = loadtxt('RadioactiveDecay') #made a nano file and loaded it into here\n",
      "print DataIn"
     ],
     "language": "python",
     "metadata": {},
     "outputs": [
      {
       "output_type": "stream",
       "stream": "stdout",
       "text": [
        "[[  0.    10.48]\n",
        " [  1.     7.54]\n",
        " [  2.     5.49]\n",
        " [  3.     4.02]\n",
        " [  4.     2.74]\n",
        " [  5.     2.02]\n",
        " [  6.     1.5 ]\n",
        " [  7.     1.09]\n",
        " [  8.     0.68]\n",
        " [  9.     0.57]\n",
        " [ 10.     0.37]\n",
        " [ 11.     0.31]\n",
        " [ 12.     0.19]\n",
        " [ 13.     0.15]\n",
        " [ 14.     0.13]\n",
        " [ 15.     0.11]]\n"
       ]
      }
     ],
     "prompt_number": 2
    },
    {
     "cell_type": "code",
     "collapsed": false,
     "input": [
      "N,t = loadtxt('RadioactiveDecay', unpack=True)\n",
      "plot(N,t,'b*')\n",
      "show()"
     ],
     "language": "python",
     "metadata": {},
     "outputs": [
      {
       "output_type": "display_data",
       "png": "[encoded data removed]"
      }
     ],
     "prompt_number": 17
    },
    {
     "cell_type": "code",
     "collapsed": false,
     "input": [
      "#ln plot\n",
      "plot(log(N),log(t),'b*')\n",
      "show()"
     ],
     "language": "python",
     "metadata": {},
     "outputs": [
      {
       "output_type": "display_data",
       "png": "[encoded data removed]"
      }
     ],
     "prompt_number": 18
    },
    {
     "cell_type": "code",
     "collapsed": false,
     "input": [],
     "language": "python",
     "metadata": {},
     "outputs": []
    }
   ],
   "metadata": {}
  }
 ]
}