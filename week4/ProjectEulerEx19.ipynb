{
 "metadata": {
  "name": "ProjectEulerEx19"
 },
 "nbformat": 3,
 "nbformat_minor": 0,
 "worksheets": [
  {
   "cells": [
    {
     "cell_type": "code",
     "collapsed": false,
     "input": [
      "months = [31,28,31,30,31,30,31,31,30,31,30,31]\n",
      "week = ['sunday', 'monday', 'tuesday', 'wednesday', 'thursday', 'friday', 'saturday']\n",
      "leapyear = [year for year in range(1, 101) if year % 4 == 0]\n",
      "day_week = 2 # Tuesday\n",
      "day_year = 0 # 1st\n",
      "month = 0 # January\n",
      "year = 1 # 1901\n",
      "days = {day_year: week[day_week]} \n",
      "since_last_month = 0\n",
      "since_last_year = 0\n",
      "\n",
      "first_of_months = {}\n",
      "while year <= 100:\n",
      "    if since_last_month == 0:\n",
      "        first_of_months[\"%s/%s/%s\" % (month+1, since_last_month+1, year+1900)] = week[day_week]\n",
      "    day_year += 1\n",
      "    since_last_month += 1\n",
      "    since_last_year += 1\n",
      "    \n",
      "    day_week += 1 #changing week\n",
      "    if day_week > len(week)-1: # resets week after end of week\n",
      "        day_week = 0\n",
      "    days[day_year] = week[day_week]\n",
      "    \n",
      "    days_of_month = months[month] #changing month\n",
      "    if month == 1 and year in leapyear: #if in february\n",
      "        days_of_month += 1 #add one day to february\n",
      "    if since_last_month >= days_of_month: # goes to next month after last day of previous month\n",
      "        month += 1\n",
      "        since_last_month = 0\n",
      "        if month > len(months)-1:\n",
      "            month = 0\n",
      "    \n",
      "    days_of_year = 365 #changing year\n",
      "    if year in leapyear:\n",
      "        days_of_year += 1\n",
      "    if since_last_year >= days_of_year: # add one to year/set since_last_year to 0\n",
      "        year += 1\n",
      "        since_last_year = 0\n",
      "\n",
      "def date_sort(date):\n",
      "    date_number = date[0]\n",
      "    month,day,year = date_number.split('/') #splits date with '/'\n",
      "    return int(month)*int(day_year)*int(year)\n",
      "print len([day_week for day_week in first_of_months.values() if day_week == 'sunday']) #print number of sunday"
     ],
     "language": "python",
     "metadata": {},
     "outputs": [
      {
       "output_type": "stream",
       "stream": "stdout",
       "text": [
        "171\n"
       ]
      }
     ],
     "prompt_number": 14
    },
    {
     "cell_type": "code",
     "collapsed": false,
     "input": [],
     "language": "python",
     "metadata": {},
     "outputs": [],
     "prompt_number": 4
    },
    {
     "cell_type": "code",
     "collapsed": false,
     "input": [],
     "language": "python",
     "metadata": {},
     "outputs": []
    }
   ],
   "metadata": {}
  }
 ]
}