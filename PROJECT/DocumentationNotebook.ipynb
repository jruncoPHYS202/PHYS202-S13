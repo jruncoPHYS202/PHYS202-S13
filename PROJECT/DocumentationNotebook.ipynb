{
 "metadata": {
  "name": "DocumentationNotebook"
 },
 "nbformat": 3,
 "nbformat_minor": 0,
 "worksheets": [
  {
   "cells": [
    {
     "cell_type": "markdown",
     "metadata": {},
     "source": [
      "In this notebook, I will describe the project and how it runs and include the data plots from my project\n",
      "="
     ]
    },
    {
     "cell_type": "markdown",
     "metadata": {},
     "source": [
      "I start out my code by defining functions for the CA184, STCA, and ASEP rule sets.  I include the given rules from the assignment above the definitions.  After testing each rule set to make sure that they work.  Next, I move on to plotting my functions over 150 time steps.  I make an definition that lays out my initial conditions for the cars in the graph.  Then I start with the CA184 rule set.  I redifine the function and has it return the variables I need to carry out my plot instead of printing the arrays.  Then I use for loops to carry out my definition 150 times and return an array of positions and velocities.  I then find the current, which is the the number of cars times the average x-position divided by the road length.  After finding all of these values, I can then plot average position vs. time, average velocity vs. time, and current vs. time.  I then carried out the same procedure for the STCA and ASEP rule sets as the CA184 rule set.  I have the right idea with the graphs; however, I could not figure out how to loop around my cars to the beginning of the road once they reach the end, which caused flat lines for all of my graphs after the cars reached the end of the road.  I do believe that my graphs are correct until that point, and if I got my cars to loop around, my graph would have been correct.  The final step of my project was to create an animation for my definitions.  I tried to upload the JSAnimation like instructed to, but I could not get it to upload correctly.  The animation would have been a animated representation of my graphs, so if I did get the animations to work, I would have run into the same problem as my graphs.  A working animation would have the cars going to the end of the road and looping around in a given amount of time steps.  Because I could not get my cars to loop around, my animation would have been the cars driving to the end of the road and stopping at the end of it.  \n",
      "-"
     ]
    },
    {
     "cell_type": "markdown",
     "metadata": {},
     "source": [
      "How to run the code\n",
      "="
     ]
    },
    {
     "cell_type": "markdown",
     "metadata": {},
     "source": [
      "To run the program, you start with running the first cell to import numpy and random.  These I use functions from these, so without importing the two, my code will not work.  You then need to run the CA184, STCA, ASEP, and initial conditions definitions.  I call on these frequently during the rest of my code, so there will be many errors if you do not run them first.  To test my code run the normal CA184, STCA, and ASEP functions.  If you want to plot the graphs, you need to run the plot_CA184, plot_STCA, plot_ASEP, and initial conditions definitions.  After running the definitions, you then need to run the cells in order to properly to correctly plot the graphs.\n",
      "-"
     ]
    },
    {
     "cell_type": "markdown",
     "metadata": {},
     "source": [
      "Interpreting the graphs\n",
      "="
     ]
    },
    {
     "cell_type": "markdown",
     "metadata": {},
     "source": [
      "For the position graphs, a sharp, discontinuous, change in shape in the data would represent the cars reaching the end of the road.  The graph would increase until the cars reached the end, then it should start them back at 0.  My graph shows a flat line once it reaches the end of the road because I could not figure out how to loop them around.\n",
      "-"
     ]
    },
    {
     "cell_type": "markdown",
     "metadata": {},
     "source": [
      "For the velocity graphs, a sharp, discontinuous, change in shape in the data would represent the cars speeding up and slowing down.  The velocity would increase as cars speed up, and slow down as they slow down.  When the cars are slowing down, the density would increase because the cars are closer together; and when the cars are moving fast, the density would be small because the space between the cars is large enough for the cars to move at high speeds.\n",
      "-"
     ]
    },
    {
     "cell_type": "markdown",
     "metadata": {},
     "source": [
      "Having a higher vmax means that cars will be able to move faster which could allow for more space between cars and decreasing the density.  Having a low vmax could lead to all of the cars moving at slow speeds bunched up together unable to seperate from each other.  Allowing cruise control will allow cars to move at constant speeds which will lead to a constant current and density graphs.\n",
      "-"
     ]
    },
    {
     "cell_type": "markdown",
     "metadata": {},
     "source": [
      "To find my plots check my Project2 folder.  They are in with the code but are not hard to find.\n",
      "-"
     ]
    },
    {
     "cell_type": "markdown",
     "metadata": {},
     "source": [
      "If I needed any help finding the right built in python functions to use in my code, I referenced this website: http://docs.python.org/2/library/index.html\n",
      "-"
     ]
    }
   ],
   "metadata": {}
  }
 ]
}