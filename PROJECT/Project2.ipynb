{
 "metadata": {
  "name": "Project2"
 },
 "nbformat": 3,
 "nbformat_minor": 0,
 "worksheets": [
  {
   "cells": [
    {
     "cell_type": "code",
     "collapsed": false,
     "input": [
      "import numpy as np"
     ],
     "language": "python",
     "metadata": {},
     "outputs": [],
     "prompt_number": 5
    },
    {
     "cell_type": "code",
     "collapsed": false,
     "input": [
      "n = 5 #number of cars\n",
      "x = np.random.random(n)*40 # random array of positions\n",
      "x1 = sort(x.round()) #round x and sort x from smallest to largest\n",
      "v = np.random.random(n)*65 #random array of velocities\n",
      "v1 = v.round() #rounded v\n",
      "\n",
      "def CA184(n,l,x1,v1):\n",
      "    \"\"\"take arrays of positions and velocities and return adjusted positions and velocities\"\"\"\n",
      "    l = 40 # road longth\n",
      "    g = np.zeros(n) #number of empty sites in front of each car\n",
      "    vmax = 65 #highway speed limit\n",
      "   \n",
      "    for i in range(n): #when car is not the last car, calculate distance to next car. if car is last car, calculate distance to end of road\n",
      "        if i+1 < n:\n",
      "            g[i] = int(x1[i+1] - x1[i])\n",
      "        else:\n",
      "            g[i] = l - x1[i]\n",
      "    \n",
      "    for i in range(n):\n",
      "        if g[i] == 0: # if distance to next car is 0, speed is 0\n",
      "            v1[i] = 0\n",
      "        elif v1[i] > g[i]: # if speed is greater than distance to next car\n",
      "            v1[i] = g[i] #set speed equal to g\n",
      "            x1[i] += v1[i] # adjust position to change in velocity\n",
      "        elif v1[i] < g[i] and v1[i] < vmax: # if velocity is less than distance to next car and less than vmax\n",
      "            v1[i] = v1[i] + 1 #increase velocity by 1 unit\n",
      "            x1[i] += v1[i] #adjust position to account for change in velocity\n",
      "    print \"final velocity: \",v1\n",
      "    print \"final postion: \",x1\n",
      "    print \"distance (g) between cars: \",g"
     ],
     "language": "python",
     "metadata": {},
     "outputs": [],
     "prompt_number": 136
    },
    {
     "cell_type": "markdown",
     "metadata": {},
     "source": [
      "Test the code\n",
      "="
     ]
    },
    {
     "cell_type": "code",
     "collapsed": false,
     "input": [
      "print \"initial position: \",x1\n",
      "print \"initial velocity: \",v1\n",
      "print CA184(5,40,x1,v1)"
     ],
     "language": "python",
     "metadata": {},
     "outputs": [
      {
       "output_type": "stream",
       "stream": "stdout",
       "text": [
        "initial position:  [  7.  10.  13.  29.  38.]\n",
        "initial velocity:  [ 16.   2.  46.   4.  47.]\n",
        "final velocity:  [  3.   3.  16.   5.   2.]\n",
        "final postion:  [ 10.  13.  29.  34.  40.]\n",
        "distance (g) between cars:  [  3.   3.  16.   9.   2.]\n",
        "None\n"
       ]
      }
     ],
     "prompt_number": 137
    },
    {
     "cell_type": "markdown",
     "metadata": {},
     "source": [
      "Test the code again: 2nd time\n",
      "="
     ]
    },
    {
     "cell_type": "code",
     "collapsed": false,
     "input": [
      "print \"initial position: \",x1\n",
      "print \"initial velocity: \",v1\n",
      "print CA184(5,40,x1,v1)"
     ],
     "language": "python",
     "metadata": {},
     "outputs": [
      {
       "output_type": "stream",
       "stream": "stdout",
       "text": [
        "initial position:  [ 10.  13.  29.  34.  40.]\n",
        "initial velocity:  [  3.   3.  16.   5.   2.]\n",
        "final velocity:  [ 3.  4.  5.  6.  0.]\n",
        "final postion:  [ 10.  17.  34.  40.  40.]\n",
        "distance (g) between cars:  [  3.  16.   5.   6.   0.]\n",
        "None\n"
       ]
      }
     ],
     "prompt_number": 138
    },
    {
     "cell_type": "markdown",
     "metadata": {},
     "source": [
      "Test the code again: 3rd times a charm\n",
      "="
     ]
    },
    {
     "cell_type": "code",
     "collapsed": false,
     "input": [
      "print \"initial position: \",x1\n",
      "print \"initial velocity: \",v1\n",
      "print CA184(5,40,x1,v1)"
     ],
     "language": "python",
     "metadata": {},
     "outputs": [
      {
       "output_type": "stream",
       "stream": "stdout",
       "text": [
        "initial position:  [ 10.  17.  34.  40.  40.]\n",
        "initial velocity:  [ 3.  4.  5.  6.  0.]\n",
        "final velocity:  [ 4.  5.  6.  0.  0.]\n",
        "final postion:  [ 14.  22.  40.  40.  40.]\n",
        "distance (g) between cars:  [  7.  17.   6.   0.   0.]\n",
        "None\n"
       ]
      }
     ],
     "prompt_number": 139
    },
    {
     "cell_type": "code",
     "collapsed": false,
     "input": [],
     "language": "python",
     "metadata": {},
     "outputs": []
    }
   ],
   "metadata": {}
  }
 ]
}