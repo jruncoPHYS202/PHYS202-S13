{
 "metadata": {
  "name": "Project2"
 },
 "nbformat": 3,
 "nbformat_minor": 0,
 "worksheets": [
  {
   "cells": [
    {
     "cell_type": "code",
     "collapsed": false,
     "input": [
      "import numpy as np\n",
      "import random"
     ],
     "language": "python",
     "metadata": {},
     "outputs": [],
     "prompt_number": 66
    },
    {
     "cell_type": "markdown",
     "metadata": {},
     "source": [
      "CA184 Rule set\n",
      "-"
     ]
    },
    {
     "cell_type": "code",
     "collapsed": false,
     "input": [
      "n = 10 #number of cars\n",
      "x = np.random.random(n)*200 # random array of positions\n",
      "x1 = sort(x.round()) #round x and sort x from smallest to largest\n",
      "v = np.random.random(n)*65 #random array of velocities\n",
      "v1 = v.round() #rounded v\n",
      "\n",
      "def CA184(n,l,x1,v1):\n",
      "    \"\"\"take arrays of positions and velocities and return adjusted positions and velocities\"\"\"\n",
      "    g = np.zeros(n) #number of empty sites in front of each car\n",
      "   \n",
      "    for i in range(n): #when car is not the last car, calculate distance to next car. if car is last car, calculate distance to end of road\n",
      "        if i+1 < n:\n",
      "            g[i] = int(x1[i+1] - x1[i])\n",
      "        else:\n",
      "            g[i] = l - x1[i]\n",
      "    \n",
      "    for i in range(n):\n",
      "        if g[i] == 0: # if distance to next car is 0, speed is 0\n",
      "            v1[i] = 0\n",
      "        elif v1[i] > g[i]: # if speed is greater than distance to next car\n",
      "            v1[i] = g[i] #set speed equal to g\n",
      "            x1[i] += v1[i] # adjust position to change in velocity\n",
      "        elif v1[i] < g[i] and v1[i] < vmax: # if velocity is less than distance to next car and less than vmax\n",
      "            v1[i] = v1[i] + 1 #increase velocity by 1 unit\n",
      "            x1[i] += v1[i] #adjust position to account for change in velocity\n",
      "    print \"final velocity: \",v1\n",
      "    print \"final postion: \",x1\n",
      "    print \"distance (g) between cars: \",g"
     ],
     "language": "python",
     "metadata": {},
     "outputs": [],
     "prompt_number": 55
    },
    {
     "cell_type": "markdown",
     "metadata": {},
     "source": [
      "Test the code\n",
      "="
     ]
    },
    {
     "cell_type": "code",
     "collapsed": false,
     "input": [
      "print \"initial position: \",x1\n",
      "print \"initial velocity: \",v1\n",
      "print CA184(10,200,x1,v1)"
     ],
     "language": "python",
     "metadata": {},
     "outputs": [
      {
       "output_type": "stream",
       "stream": "stdout",
       "text": [
        "initial position:  [  10.   44.   64.   68.  100.  120.  150.  167.  183.  189.]\n",
        "initial velocity:  [ 59.  60.  12.  30.   4.  21.  20.  36.  17.   2.]\n",
        "final velocity:  [ 34.  20.   4.  31.   5.  22.  17.  16.   6.   3.]\n",
        "final postion:  [  44.   64.   68.   99.  105.  142.  167.  183.  189.  192.]\n",
        "distance (g) between cars:  [ 34.  20.   4.  32.  20.  30.  17.  16.   6.  11.]\n",
        "None\n"
       ]
      }
     ],
     "prompt_number": 56
    },
    {
     "cell_type": "markdown",
     "metadata": {},
     "source": [
      "Test the code again: 2nd time\n",
      "="
     ]
    },
    {
     "cell_type": "code",
     "collapsed": false,
     "input": [
      "print \"initial position: \",x1\n",
      "print \"initial velocity: \",v1\n",
      "print CA184(10,200,x1,v1)"
     ],
     "language": "python",
     "metadata": {},
     "outputs": [
      {
       "output_type": "stream",
       "stream": "stdout",
       "text": [
        "initial position:  [  44.   64.   68.   99.  105.  142.  167.  183.  189.  192.]\n",
        "initial velocity:  [ 34.  20.   4.  31.   5.  22.  17.  16.   6.   3.]\n",
        "final velocity:  [ 20.   4.   5.   6.   6.  23.  16.   6.   3.   4.]\n",
        "final postion:  [  64.   68.   73.  105.  111.  165.  183.  189.  192.  196.]\n",
        "distance (g) between cars:  [ 20.   4.  31.   6.  37.  25.  16.   6.   3.   8.]\n",
        "None\n"
       ]
      }
     ],
     "prompt_number": 57
    },
    {
     "cell_type": "markdown",
     "metadata": {},
     "source": [
      "Test the code again: 3rd times a charm\n",
      "="
     ]
    },
    {
     "cell_type": "code",
     "collapsed": false,
     "input": [
      "print \"initial position: \",x1\n",
      "print \"initial velocity: \",v1\n",
      "print CA184(10,200,x1,v1)"
     ],
     "language": "python",
     "metadata": {},
     "outputs": [
      {
       "output_type": "stream",
       "stream": "stdout",
       "text": [
        "initial position:  [  64.   68.   73.  105.  111.  165.  183.  189.  192.  196.]\n",
        "initial velocity:  [ 20.   4.   5.   6.   6.  23.  16.   6.   3.   4.]\n",
        "final velocity:  [  4.   5.   6.   6.   7.  18.   6.   3.   4.   4.]\n",
        "final postion:  [  68.   73.   79.  105.  118.  183.  189.  192.  196.  196.]\n",
        "distance (g) between cars:  [  4.   5.  32.   6.  54.  18.   6.   3.   4.   4.]\n",
        "None\n"
       ]
      }
     ],
     "prompt_number": 58
    },
    {
     "cell_type": "markdown",
     "metadata": {},
     "source": [
      "code works all 3 times so CA184 code works"
     ]
    },
    {
     "cell_type": "markdown",
     "metadata": {},
     "source": [
      "STCA model rule set\n",
      "="
     ]
    },
    {
     "cell_type": "code",
     "collapsed": false,
     "input": [
      "n = 10 #number of cars\n",
      "x2 = np.random.random(n)*200 # random array of positions\n",
      "x3 = sort(x2.round()) #round x and sort x from smallest to largest\n",
      "v2 = np.random.random(n)*65 #random array of velocities\n",
      "v3 = v2.round() #rounded v\n",
      "\n",
      "def STCA(n,l,x3,v3):\n",
      "    \"\"\"take arrays of positions and velocities and return adjusted positions and velocities\"\"\"\n",
      "    g = np.zeros(n) #number of empty sites in front of each car\n",
      "    for i in range(n): #when car is not the last car, calculate distance to next car. if car is last car, calculate distance to end of road\n",
      "        if i+1 < n:\n",
      "            g[i] = int(x3[i+1] - x3[i])\n",
      "        else:\n",
      "            g[i] = l - x3[i]\n",
      "    \n",
      "    for i in range(len(x3)): #for each step in random array in positions\n",
      "        if g[i] == 0: # if distance to next car is 0, speed is 0\n",
      "            v3[i] = 0 #set velocity equal to 0\n",
      "        elif v3[i] > g[i]: # if speed is greater than distance to next car\n",
      "            v3[i] = g[i] #set speed equal to g\n",
      "        elif v3[i] < g[i] and v3[i] == vmax: # if velocity is less than distance to next car and equal to vmax\n",
      "            v3[i] = v3[i] + 1 #increase velocity by 1 unit\n",
      "        for j in range(len(v3)): #for each step in a range of velocities\n",
      "            if 0 > v3[j]:\n",
      "                p = random_sample(1) \n",
      "                v3[j] = (v3[j]-1)*p\n",
      "        x3[i] += v3[i] #adjust position to account for change in velocity\n",
      "        if x3[i] > l:\n",
      "            x3[i] = x3[i] - l\n",
      "    print \"final velocity: \",v3\n",
      "    print \"final postion: \",x3\n",
      "    print \"distance (g) between cars: \",g"
     ],
     "language": "python",
     "metadata": {},
     "outputs": [],
     "prompt_number": 59
    },
    {
     "cell_type": "markdown",
     "metadata": {},
     "source": [
      "Test STCA code\n",
      "="
     ]
    },
    {
     "cell_type": "code",
     "collapsed": false,
     "input": [
      "print \"initial position: \",x3\n",
      "print \"initial velocity: \",v3\n",
      "print STCA(10,200,x3,v3)"
     ],
     "language": "python",
     "metadata": {},
     "outputs": [
      {
       "output_type": "stream",
       "stream": "stdout",
       "text": [
        "initial position:  [   3.   22.   29.   50.   53.   63.  127.  133.  183.  197.]\n",
        "initial velocity:  [ 40.  20.  12.  14.  60.  38.  55.  24.  13.  49.]\n",
        "final velocity:  [ 19.   7.  12.   3.  10.  38.   6.  24.  13.   3.]\n",
        "final postion:  [  22.   29.   41.   53.   63.  101.  133.  157.  196.  200.]\n",
        "distance (g) between cars:  [ 19.   7.  21.   3.  10.  64.   6.  50.  14.   3.]\n",
        "None\n"
       ]
      }
     ],
     "prompt_number": 60
    },
    {
     "cell_type": "markdown",
     "metadata": {},
     "source": [
      "Test STCA code 2nd time\n",
      "="
     ]
    },
    {
     "cell_type": "code",
     "collapsed": false,
     "input": [
      "print \"initial position: \",x3\n",
      "print \"initial velocity: \",v3\n",
      "print STCA(10,200,x3,v3)"
     ],
     "language": "python",
     "metadata": {},
     "outputs": [
      {
       "output_type": "stream",
       "stream": "stdout",
       "text": [
        "initial position:  [  22.   29.   41.   53.   63.  101.  133.  157.  196.  200.]\n",
        "initial velocity:  [ 19.   7.  12.   3.  10.  38.   6.  24.  13.   3.]\n",
        "final velocity:  [  7.   7.  12.   3.  10.  32.   6.  24.   4.   0.]\n",
        "final postion:  [  29.   36.   53.   56.   73.  133.  139.  181.  200.  200.]\n",
        "distance (g) between cars:  [  7.  12.  12.  10.  38.  32.  24.  39.   4.   0.]\n",
        "None\n"
       ]
      }
     ],
     "prompt_number": 61
    },
    {
     "cell_type": "markdown",
     "metadata": {},
     "source": [
      "Test STCA code 3rd time\n",
      "="
     ]
    },
    {
     "cell_type": "code",
     "collapsed": false,
     "input": [
      "print \"initial position: \",x3\n",
      "print \"initial velocity: \",v3\n",
      "print STCA(10,200,x3,v3)"
     ],
     "language": "python",
     "metadata": {},
     "outputs": [
      {
       "output_type": "stream",
       "stream": "stdout",
       "text": [
        "initial position:  [  29.   36.   53.   56.   73.  133.  139.  181.  200.  200.]\n",
        "initial velocity:  [  7.   7.  12.   3.  10.  32.   6.  24.   4.   0.]\n",
        "final velocity:  [  7.   7.   3.   3.  10.   6.   6.  19.   0.   0.]\n",
        "final postion:  [  36.   43.   56.   59.   83.  139.  145.  200.  200.  200.]\n",
        "distance (g) between cars:  [  7.  17.   3.  17.  60.   6.  42.  19.   0.   0.]\n",
        "None\n"
       ]
      }
     ],
     "prompt_number": 62
    },
    {
     "cell_type": "markdown",
     "metadata": {},
     "source": [
      "code works all 3 times so STCA code works"
     ]
    },
    {
     "cell_type": "markdown",
     "metadata": {},
     "source": [
      "ASEP model rule set\n",
      "-"
     ]
    },
    {
     "cell_type": "code",
     "collapsed": false,
     "input": [
      "n = 10 #number of cars\n",
      "x4 = np.random.random(n)*200 # random array of positions\n",
      "x5 = sort(x.round()) #round x and sort x from smallest to largest\n",
      "v4 = np.random.random(n)*65 #random array of velocities\n",
      "v5 = v.round() #rounded v\n",
      "\n",
      "def ASEP(n,l,x5,v5):\n",
      "    \"\"\"take arrays of positions and velocities and return adjusted positions and velocities\"\"\"\n",
      "    g = np.zeros(n) #number of empty sites in front of each car\n",
      "    i = random.randrange(0,len(x5),1)\n",
      "    if v5[i] > g[i]: # if speed is greater than distance to next car\n",
      "        v5[i] = g[i] #set speed equal to g\n",
      "    elif v5[i] < g[i] and v5[i] == vmax: # if velocity is less than distance to next car and is equal to vmax\n",
      "        v5[i] = v5[i] + 1 #increase velocity by 1 unit\n",
      "    for k in range(len(v5)): \n",
      "        if v5[k] < 0:\n",
      "            p = random_sample(1)\n",
      "            v3[j] = (v3[j]-1)*p\n",
      "    x5[i] += v5[i]\n",
      "    if l < x5[i]:\n",
      "        x5[i] = x5[i]-l\n",
      "    for i in range(len(x5)):\n",
      "        if i < n-1:\n",
      "            g[i] = x5[i]-x5[i+1]-1\n",
      "        else:\n",
      "            g[i] = l-x5[i]-1\n",
      "    \n",
      "    print \"final velocity: \",v5\n",
      "    print \"final postion: \",x5\n",
      "    print \"distance (g) between cars: \",g"
     ],
     "language": "python",
     "metadata": {},
     "outputs": [],
     "prompt_number": 74
    },
    {
     "cell_type": "markdown",
     "metadata": {},
     "source": [
      "Test ASEP rule set code\n",
      "="
     ]
    },
    {
     "cell_type": "code",
     "collapsed": false,
     "input": [
      "print \"initial position: \",x5\n",
      "print \"initial velocity: \",v5\n",
      "print ASEP(10,200,x5,v5)"
     ],
     "language": "python",
     "metadata": {},
     "outputs": [
      {
       "output_type": "stream",
       "stream": "stdout",
       "text": [
        "initial position:  [  10.   44.   64.   68.  100.  120.  150.  167.  183.  189.]\n",
        "initial velocity:  [ 59.  60.  12.  30.   4.  21.  20.  36.  17.   2.]\n",
        "final velocity:  [ 59.  60.  12.   0.   4.  21.  20.  36.  17.   2.]\n",
        "final postion:  [  10.   44.   64.   68.  100.  120.  150.  167.  183.  189.]\n",
        "distance (g) between cars:  [-35. -21.  -5. -33. -21. -31. -18. -17.  -7.  10.]\n",
        "None\n"
       ]
      }
     ],
     "prompt_number": 75
    },
    {
     "cell_type": "markdown",
     "metadata": {},
     "source": [
      "Test ASEP again\n",
      "="
     ]
    },
    {
     "cell_type": "code",
     "collapsed": false,
     "input": [
      "print \"initial position: \",x5\n",
      "print \"initial velocity: \",v5\n",
      "print ASEP(10,200,x5,v5)"
     ],
     "language": "python",
     "metadata": {},
     "outputs": [
      {
       "output_type": "stream",
       "stream": "stdout",
       "text": [
        "initial position:  [  10.   44.   64.   68.  100.  120.  150.  167.  183.  189.]\n",
        "initial velocity:  [ 59.  60.  12.   0.   4.  21.  20.  36.  17.   2.]\n",
        "final velocity:  [ 59.  60.  12.   0.   4.   0.  20.  36.  17.   2.]\n",
        "final postion:  [  10.   44.   64.   68.  100.  120.  150.  167.  183.  189.]\n",
        "distance (g) between cars:  [-35. -21.  -5. -33. -21. -31. -18. -17.  -7.  10.]\n",
        "None\n"
       ]
      }
     ],
     "prompt_number": 76
    },
    {
     "cell_type": "markdown",
     "metadata": {},
     "source": [
      "Test ASEP a 3rd time\n",
      "="
     ]
    },
    {
     "cell_type": "code",
     "collapsed": false,
     "input": [
      "print \"initial position: \",x5\n",
      "print \"initial velocity: \",v5\n",
      "print ASEP(10,200,x5,v5)"
     ],
     "language": "python",
     "metadata": {},
     "outputs": [
      {
       "output_type": "stream",
       "stream": "stdout",
       "text": [
        "initial position:  [  10.   44.   64.   68.  100.  120.  150.  167.  183.  189.]\n",
        "initial velocity:  [ 59.  60.  12.   0.   4.   0.  20.  36.  17.   2.]\n",
        "final velocity:  [ 59.  60.  12.   0.   4.   0.  20.  36.  17.   0.]\n",
        "final postion:  [  10.   44.   64.   68.  100.  120.  150.  167.  183.  189.]\n",
        "distance (g) between cars:  [-35. -21.  -5. -33. -21. -31. -18. -17.  -7.  10.]\n",
        "None\n"
       ]
      }
     ],
     "prompt_number": 77
    },
    {
     "cell_type": "markdown",
     "metadata": {},
     "source": [
      "having problems with ASEP"
     ]
    },
    {
     "cell_type": "code",
     "collapsed": false,
     "input": [
      "def initial_conditions(l,n,vmax):\n",
      "    g = [0]*n\n",
      "    x1 = [0]*n\n",
      "    v1 = [0]*n\n",
      "    z = [] # previous x values\n",
      "    for i in range(n):\n",
      "        "
     ],
     "language": "python",
     "metadata": {},
     "outputs": [],
     "prompt_number": 82
    },
    {
     "cell_type": "code",
     "collapsed": false,
     "input": [
      "#Plot CA184\n",
      "import itertools\n",
      "N = 150 #time steps\n",
      "l = 1000\n",
      "n = 10\n",
      "vmax = 10\n",
      "#forgot to include initial conditions function. working on it above"
     ],
     "language": "python",
     "metadata": {},
     "outputs": [],
     "prompt_number": 83
    },
    {
     "cell_type": "code",
     "collapsed": false,
     "input": [],
     "language": "python",
     "metadata": {},
     "outputs": []
    }
   ],
   "metadata": {}
  }
 ]
}