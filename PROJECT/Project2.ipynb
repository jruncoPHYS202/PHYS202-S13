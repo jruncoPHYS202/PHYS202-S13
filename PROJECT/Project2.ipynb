{
 "metadata": {
  "name": "Project2"
 },
 "nbformat": 3,
 "nbformat_minor": 0,
 "worksheets": [
  {
   "cells": [
    {
     "cell_type": "code",
     "collapsed": false,
     "input": [
      "import numpy as np\n",
      "import random"
     ],
     "language": "python",
     "metadata": {},
     "outputs": [],
     "prompt_number": 180
    },
    {
     "cell_type": "markdown",
     "metadata": {},
     "source": [
      "Abbreviations I used\n",
      "=\n",
      "\n",
      "positions of cars = x1\n",
      "\n",
      "velocity of cars = v1\n",
      "\n",
      "number of cars = n_cars\n",
      "\n",
      "road length = r_l\n",
      "\n",
      "spaces between cars = g"
     ]
    },
    {
     "cell_type": "markdown",
     "metadata": {},
     "source": [
      "Let's start with defining the CA184, STCA, and ASEP rule sets.\n",
      "-"
     ]
    },
    {
     "cell_type": "markdown",
     "metadata": {},
     "source": [
      "CA184 Rule set\n",
      "-\n",
      "1. Let gi equal the number of empty sites in front of each car.\n",
      "2. If gi = 0, that car does not move during this time step.\n",
      "3. If vi > gi, slow down to vi = gi.\n",
      "4. If vi < gi and vi < vmax, speed up by one unit: vi = vi + 1.\n",
      "5. For vi > 0, allow for random slowdowns by letting vi = vi  1 with probability p.\n",
      "6. Move all cars forward by vi."
     ]
    },
    {
     "cell_type": "code",
     "collapsed": false,
     "input": [
      "n_cars = 5 #number of cars\n",
      "x0 = np.random.random(n_cars)*200 # random array of positions\n",
      "x1 = sort(x0.round()) #round x and sort x from smallest to largest\n",
      "v = np.random.random(n_cars)*65 #random array of velocities\n",
      "v1 = v.round() #rounded v\n",
      "vmax = 65 #highway speed limit\n",
      "\n",
      "def CA184(x1,v1,n_cars,r_l):\n",
      "    \"\"\"take arrays of positions and velocities and return adjusted positions, velocities, and spaces between cars\"\"\"\n",
      "    g = np.zeros(n) #number of empty sites in front of each car\n",
      "    for i in range(n_cars): #when car is not the last car, calculate distance to next car. if car is last car, calculate distance to end of road\n",
      "        if i+1 < n_cars:\n",
      "            g[i] = int(x1[i+1] - x1[i]-1)\n",
      "        else:\n",
      "            g[i] = r_l - x1[i]-1\n",
      "\n",
      "    for i in range(n_cars):\n",
      "        if g[i] == 0: # if distance to next car is 0, speed is 0\n",
      "            v1[i] = 0\n",
      "        elif v1[i] > g[i]: # if speed is greater than distance to next car\n",
      "            v1[i] = g[i] #set speed equal to g\n",
      "            x1[i] += v1[i] # adjust position to change in velocity\n",
      "        elif v1[i] < g[i] and v1[i] < vmax: # if velocity is less than distance to next car and less than vmax\n",
      "            v1[i] = v1[i] + 1 #increase velocity by 1 unit\n",
      "            x1[i] += v1[i] #adjust position to account for change in velocity\n",
      "    print \"final velocity: \",v1\n",
      "    print \"final postion: \",x1\n",
      "    print \"distance (g) between cars: \",g"
     ],
     "language": "python",
     "metadata": {},
     "outputs": [],
     "prompt_number": 230
    },
    {
     "cell_type": "markdown",
     "metadata": {},
     "source": [
      "Test the code\n",
      "="
     ]
    },
    {
     "cell_type": "code",
     "collapsed": false,
     "input": [
      "print \"initial position: \",x1\n",
      "print \"initial velocity: \",v1\n",
      "print CA184(x1,v1,5,200)"
     ],
     "language": "python",
     "metadata": {},
     "outputs": [
      {
       "output_type": "stream",
       "stream": "stdout",
       "text": [
        "initial position:  [  14.   44.   49.  130.  159.]\n",
        "initial velocity:  [ 64.   6.  28.  51.  14.]\n",
        "final velocity:  [ 29.   4.  29.  28.  15.]\n",
        "final postion:  [  43.   48.   78.  158.  174.]\n",
        "distance (g) between cars:  [ 29.   4.  80.  28.  40.]\n",
        "None\n"
       ]
      }
     ],
     "prompt_number": 231
    },
    {
     "cell_type": "markdown",
     "metadata": {},
     "source": [
      "Test the code again: 2nd time\n",
      "="
     ]
    },
    {
     "cell_type": "code",
     "collapsed": false,
     "input": [
      "print \"initial position: \",x1\n",
      "print \"initial velocity: \",v1\n",
      "print CA184(x1,v1,5,200)"
     ],
     "language": "python",
     "metadata": {},
     "outputs": [
      {
       "output_type": "stream",
       "stream": "stdout",
       "text": [
        "initial position:  [  43.   48.   78.  158.  174.]\n",
        "initial velocity:  [ 29.   4.  29.  28.  15.]\n",
        "final velocity:  [  4.   5.  30.  15.  16.]\n",
        "final postion:  [  47.   53.  108.  173.  190.]\n",
        "distance (g) between cars:  [  4.  29.  79.  15.  25.]\n",
        "None\n"
       ]
      }
     ],
     "prompt_number": 232
    },
    {
     "cell_type": "markdown",
     "metadata": {},
     "source": [
      "Test the code again: 3rd times a charm\n",
      "="
     ]
    },
    {
     "cell_type": "code",
     "collapsed": false,
     "input": [
      "print \"initial position: \",x1\n",
      "print \"initial velocity: \",v1\n",
      "print CA184(x1,v1,5,200)"
     ],
     "language": "python",
     "metadata": {},
     "outputs": [
      {
       "output_type": "stream",
       "stream": "stdout",
       "text": [
        "initial position:  [  47.   53.  108.  173.  190.]\n",
        "initial velocity:  [  4.   5.  30.  15.  16.]\n",
        "final velocity:  [  5.   6.  31.  16.   9.]\n",
        "final postion:  [  52.   59.  139.  189.  199.]\n",
        "distance (g) between cars:  [  5.  54.  64.  16.   9.]\n",
        "None\n"
       ]
      }
     ],
     "prompt_number": 233
    },
    {
     "cell_type": "markdown",
     "metadata": {},
     "source": [
      "code works all 3 times so CA184 code works"
     ]
    },
    {
     "cell_type": "markdown",
     "metadata": {},
     "source": [
      "STCA model rule set\n",
      "-\n",
      "1. Let gi equal the number of empty sites in front of each car.\n",
      "2. If gi = 0, that car does not move during this time step.\n",
      "3. If vi > gi, slow down to vi = gi.\n",
      "4. If vi < gi and vi < vmax, speed up by one unit: vi = vi + 1.\n",
      "5. For vi > 0, allow for random slowdowns by letting vi = vi  1 with probability p.\n",
      "6. Move all cars forward by vi."
     ]
    },
    {
     "cell_type": "code",
     "collapsed": false,
     "input": [
      "n_cars = 5 #number of cars\n",
      "x0 = np.random.random(n_cars)*200 # random array of positions\n",
      "x1 = sort(x0.round()) #round x and sort x from smallest to largest\n",
      "v = np.random.random(n_cars)*65 #random array of velocities\n",
      "v1 = v.round() #rounded v\n",
      "vmax = 65 #highway speed limit\n",
      "\n",
      "def STCA(x1,v1,n_cars,r_l):\n",
      "    \"\"\"take arrays of positions and velocities and return adjusted positions, velocities, and spaces between cars\"\"\"\n",
      "    g = np.zeros(n_cars) #number of empty sites in front of each car\n",
      "    for i in range(n_cars): #when car is not the last car, calculate distance to next car. if car is last car, calculate distance to end of road\n",
      "        if i+1 < n_cars:\n",
      "            g[i] = int(x1[i+1] - x1[i]-1)\n",
      "        else:\n",
      "            g[i] = r_l - x1[i]-1\n",
      "    \n",
      "    for i in range(len(x1)): #for each step in random array in positions\n",
      "        if g[i] == 0: # if distance to next car is 0, speed is 0\n",
      "            v1[i] = 0 #set velocity equal to 0\n",
      "        elif v1[i] > g[i]: # if speed is greater than distance to next car\n",
      "            v1[i] = g[i] #set speed equal to g\n",
      "        elif v1[i] < g[i] and v1[i] == vmax: # if velocity is less than distance to next car and equal to vmax\n",
      "            v1[i] = v1[i] + 1 #increase velocity by 1 unit\n",
      "        for j in range(len(v1)): #for each step in a range of velocities\n",
      "            if 0 > v1[j]:\n",
      "                p = round(random_sample(1))\n",
      "                v1[j] = (v1[j]-1)*p\n",
      "        x1[i] += v1[i] #adjust position to account for change in velocity\n",
      "        if x1[i] > r_l:\n",
      "            x1[i] = x1[i] - r_l\n",
      "    print \"final velocity: \",v1\n",
      "    print \"final postion: \",x1\n",
      "    print \"distance (g) between cars: \",g"
     ],
     "language": "python",
     "metadata": {},
     "outputs": [],
     "prompt_number": 236
    },
    {
     "cell_type": "markdown",
     "metadata": {},
     "source": [
      "Test STCA code\n",
      "="
     ]
    },
    {
     "cell_type": "code",
     "collapsed": false,
     "input": [
      "print \"initial position: \",x1\n",
      "print \"initial velocity: \",v1\n",
      "print STCA(x1,v1,5,200)"
     ],
     "language": "python",
     "metadata": {},
     "outputs": [
      {
       "output_type": "stream",
       "stream": "stdout",
       "text": [
        "initial position:  [  93.  103.  104.  161.  163.]\n",
        "initial velocity:  [ 27.  16.  17.  32.  13.]\n",
        "final velocity:  [  9.   0.  17.   1.  13.]\n",
        "final postion:  [ 102.  103.  121.  162.  176.]\n",
        "distance (g) between cars:  [  9.   0.  56.   1.  36.]\n",
        "None\n"
       ]
      }
     ],
     "prompt_number": 237
    },
    {
     "cell_type": "markdown",
     "metadata": {},
     "source": [
      "Test STCA code 2nd time\n",
      "="
     ]
    },
    {
     "cell_type": "code",
     "collapsed": false,
     "input": [
      "print \"initial position: \",x1\n",
      "print \"initial velocity: \",v1\n",
      "print STCA(x1,v1,5,200)"
     ],
     "language": "python",
     "metadata": {},
     "outputs": [
      {
       "output_type": "stream",
       "stream": "stdout",
       "text": [
        "initial position:  [ 102.  103.  121.  162.  176.]\n",
        "initial velocity:  [  9.   0.  17.   1.  13.]\n",
        "final velocity:  [  0.   0.  17.   1.  13.]\n",
        "final postion:  [ 102.  103.  138.  163.  189.]\n",
        "distance (g) between cars:  [  0.  17.  40.  13.  23.]\n",
        "None\n"
       ]
      }
     ],
     "prompt_number": 238
    },
    {
     "cell_type": "markdown",
     "metadata": {},
     "source": [
      "Test STCA code 3rd time\n",
      "="
     ]
    },
    {
     "cell_type": "code",
     "collapsed": false,
     "input": [
      "print \"initial position: \",x1\n",
      "print \"initial velocity: \",v1\n",
      "print STCA(x1,v1,5,200)"
     ],
     "language": "python",
     "metadata": {},
     "outputs": [
      {
       "output_type": "stream",
       "stream": "stdout",
       "text": [
        "initial position:  [ 102.  103.  138.  163.  189.]\n",
        "initial velocity:  [  0.   0.  17.   1.  13.]\n",
        "final velocity:  [  0.   0.  17.   1.  10.]\n",
        "final postion:  [ 102.  103.  155.  164.  199.]\n",
        "distance (g) between cars:  [  0.  34.  24.  25.  10.]\n",
        "None\n"
       ]
      }
     ],
     "prompt_number": 239
    },
    {
     "cell_type": "markdown",
     "metadata": {},
     "source": [
      "code works all 3 times so STCA code works"
     ]
    },
    {
     "cell_type": "markdown",
     "metadata": {},
     "source": [
      "ASEP model rule set\n",
      "-\n",
      "1. Pick one car at random.\n",
      "2. Let gi equal the number of empty sites in front of this car.\n",
      "3. If gi = 0, that car does not move during this time step.\n",
      "4. If vi > gi, slow down to vi = gi.\n",
      "5. If vi < gi and vi < vmax, speed up by one unit: vi = vi + 1.\n",
      "6. Move this car forward by vi."
     ]
    },
    {
     "cell_type": "code",
     "collapsed": false,
     "input": [
      "n_cars = 5 #number of cars\n",
      "x0 = np.random.random(n_cars)*200 # random array of positions\n",
      "x1 = sort(x0.round()) #round x and sort x from smallest to largest\n",
      "v = np.random.random(n_cars)*65 #random array of velocities\n",
      "v1 = v.round() #rounded v\n",
      "vmax = 65 #highway speed limit\n",
      "\n",
      "def ASEP(x1,v1,n_cars,r_l):\n",
      "    \"\"\"take arrays of positions and velocities and return adjusted positions, velocities, and spaces between cars\"\"\"\n",
      "    g = np.zeros(n_cars) #number of empty sites in front of each car\n",
      "    i = random.randrange(0,len(x1),1) #randomly choose which car to start from\n",
      "    if v1[i] > g[i]: # if speed is greater than distance to next car\n",
      "        v1[i] = g[i] #set speed equal to g\n",
      "    elif v1[i] < g[i] and v1[i] == vmax: # if velocity is less than distance to next car and is equal to vmax\n",
      "        v1[i] = v1[i] + 1 #increase velocity by 1 unit\n",
      "    for k in range(len(v1)): \n",
      "        if v1[k] < 0:\n",
      "            p = random_sample(1)\n",
      "            v1[j] = (v1[j]-1)*p\n",
      "    x1[i] += v1[i]\n",
      "    if r_l < x1[i]:\n",
      "        x1[i] = x1[i] - r_l\n",
      "    for i in range(len(x1)):\n",
      "        if i < n-1:\n",
      "            g[i] = x1[i+1] - x1[i] - 1\n",
      "        else:\n",
      "            g[i] = r_l - x1[i]-1\n",
      "    \n",
      "    print \"final velocity: \",v1\n",
      "    print \"final postion: \",x1\n",
      "    print \"distance (g) between cars: \",g"
     ],
     "language": "python",
     "metadata": {},
     "outputs": [],
     "prompt_number": 295
    },
    {
     "cell_type": "markdown",
     "metadata": {},
     "source": [
      "Test ASEP rule set code\n",
      "="
     ]
    },
    {
     "cell_type": "code",
     "collapsed": false,
     "input": [
      "print \"initial position: \",x1\n",
      "print \"initial velocity: \",v1\n",
      "print ASEP(x1,v1,5,200)"
     ],
     "language": "python",
     "metadata": {},
     "outputs": [
      {
       "output_type": "stream",
       "stream": "stdout",
       "text": [
        "initial position:  [  88.   89.   98.  157.  166.]\n",
        "initial velocity:  [ 34.  20.  50.  38.   6.]\n",
        "final velocity:  [  0.  20.  50.  38.   6.]\n",
        "final postion:  [  88.   89.   98.  157.  166.]\n",
        "distance (g) between cars:  [  0.   8.  58.   8.  33.]\n",
        "None\n"
       ]
      }
     ],
     "prompt_number": 296
    },
    {
     "cell_type": "markdown",
     "metadata": {},
     "source": [
      "Test ASEP again\n",
      "="
     ]
    },
    {
     "cell_type": "code",
     "collapsed": false,
     "input": [
      "print \"initial position: \",x1\n",
      "print \"initial velocity: \",v1\n",
      "print ASEP(x1,v1,5,200)"
     ],
     "language": "python",
     "metadata": {},
     "outputs": [
      {
       "output_type": "stream",
       "stream": "stdout",
       "text": [
        "initial position:  [  10.   14.   26.  116.  133.]\n",
        "initial velocity:  [  0.  65.  63.  50.  38.]\n",
        "final velocity:  [  0.  65.  63.  50.   0.]\n",
        "final postion:  [  10.   14.   26.  116.  133.]\n",
        "distance (g) between cars:  [  3.  11.  89.  16.  66.]\n",
        "None\n"
       ]
      }
     ],
     "prompt_number": 292
    },
    {
     "cell_type": "markdown",
     "metadata": {},
     "source": [
      "Test ASEP a 3rd time\n",
      "="
     ]
    },
    {
     "cell_type": "code",
     "collapsed": false,
     "input": [
      "print \"initial position: \",x1\n",
      "print \"initial velocity: \",v1\n",
      "print ASEP(x1,v1,5,200)"
     ],
     "language": "python",
     "metadata": {},
     "outputs": [
      {
       "output_type": "stream",
       "stream": "stdout",
       "text": [
        "initial position:  [  14.   83.  121.  171.  172.]\n",
        "initial velocity:  [ 50.   6.  33.  41.  64.]\n",
        "final velocity:  [ 50.   6.   0.  41.  64.]\n",
        "final postion:  [  14.   83.  121.  171.  172.]\n",
        "distance (g) between cars:  [ 68.  37.  49.   0.  27.]\n",
        "None\n"
       ]
      }
     ],
     "prompt_number": 31
    },
    {
     "cell_type": "markdown",
     "metadata": {},
     "source": [
      "my asep works for singular runs, but does not run in succession like the CA184 or the STCA but that is good.  It should not because I am picking a car at random."
     ]
    },
    {
     "cell_type": "markdown",
     "metadata": {},
     "source": [
      "Now that we have my definitions, let's add initial conditions for the road and then plot the functions.\n",
      "="
     ]
    },
    {
     "cell_type": "code",
     "collapsed": false,
     "input": [
      "n_cars = 5 #number of cars\n",
      "x0 = np.random.random(n_cars)*200 # random array of positions\n",
      "v = np.random.random(n_cars)*5 #random array of velocities\n",
      "#vmax = 5 'maximum velocity'"
     ],
     "language": "python",
     "metadata": {},
     "outputs": [],
     "prompt_number": 263
    },
    {
     "cell_type": "code",
     "collapsed": false,
     "input": [
      "def initialized_conditions(r_l,n_cars,vmax):\n",
      "    \"\"\"Takes the number of cars, road length, and max velocity so we can run CA184, STCA, and ASEP N number of times and can plot the results\"\"\"\n",
      "    x1 = sort(x0.round()) #round x and sort x from smallest to largest\n",
      "    v1 = v.round() #rounded v\n",
      "    return x1,v1,n_cars,r_l"
     ],
     "language": "python",
     "metadata": {},
     "outputs": [],
     "prompt_number": 264
    },
    {
     "cell_type": "code",
     "collapsed": false,
     "input": [
      "#test that my code works\n",
      "print 'initial x-positions: ',initialized_conditions(200,5,5)[0]\n",
      "print 'initial velocities: ',initialized_conditions(200,5,5)[1]\n",
      "print 'number of cars: ',initialized_conditions(200,5,5)[2]\n",
      "print 'road length: ',initialized_conditions(200,5,5)[3]"
     ],
     "language": "python",
     "metadata": {},
     "outputs": [
      {
       "output_type": "stream",
       "stream": "stdout",
       "text": [
        "initial x-positions:  [ 100.  157.  159.  168.  197.]\n",
        "initial velocities:  [ 1.  4.  3.  5.  4.]\n",
        "number of cars:  5\n",
        "road length:  200\n"
       ]
      }
     ],
     "prompt_number": 265
    },
    {
     "cell_type": "markdown",
     "metadata": {},
     "source": [
      "now that we have the initial conditions in the definition and they work, let's now plot the functions\n",
      "-"
     ]
    },
    {
     "cell_type": "markdown",
     "metadata": {},
     "source": [
      "Plot CA184\n",
      "="
     ]
    },
    {
     "cell_type": "code",
     "collapsed": false,
     "input": [
      "#redefine CA184 so we can include the initial conditions and plot it. only few minor changes from definition above\n",
      "def plot_CA184(x1,v1,n_cars,r_l):\n",
      "    \"\"\"take arrays of positions and velocities and return adjusted positions and velocities\"\"\"\n",
      "    g = np.zeros(n_cars) #number of empty sites in front of each car\n",
      "    for i in range(n_cars): #when car is not the last car, calculate distance to next car. if car is last car, calculate distance to end of road\n",
      "        if i+1 < n_cars:\n",
      "            g[i] = int(x1[i+1] - x1[i]-1)\n",
      "        else:\n",
      "            g[i] = r_l - x1[i]-1\n",
      "            \n",
      "    for i in range(n):\n",
      "        if g[i] == 0: # if distance to next car is 0, speed is 0\n",
      "            v1[i] = 0\n",
      "        elif v1[i] > g[i]: # if speed is greater than distance to next car\n",
      "            v1[i] = g[i] #set speed equal to g\n",
      "            x1[i] += v1[i] # adjust position to change in velocity\n",
      "        elif v1[i] < g[i] and v1[i] < vmax: # if velocity is less than distance to next car and less than vmax\n",
      "            v1[i] = v1[i] + 1 #increase velocity by 1 unit\n",
      "            x1[i] += v1[i] #adjust position to account for change in velocity\n",
      "    \n",
      "    return x1,v1,n_cars,r_l #return the values, not print then, so I can use them to plot"
     ],
     "language": "python",
     "metadata": {},
     "outputs": [],
     "prompt_number": 266
    },
    {
     "cell_type": "code",
     "collapsed": false,
     "input": [
      "N = 150 #number of steps\n",
      "initialized = initialized_conditions(200,5,5) #set initialized equal to the multi variable initial_conditions defininition\n",
      "CA184_xavg = np.zeros(N) #make an array equal to the number of time steps\n",
      "for i in range(N):\n",
      "    initialized = plot_CA184(initialized[0],initialized[1],initialized[2],initialized[3])\n",
      "    CA184_xavg[i] = np.sum(initialized[0])/len(initialized[0]) #divide the sum by the length for the average\n",
      "print CA184_xavg"
     ],
     "language": "python",
     "metadata": {},
     "outputs": [
      {
       "output_type": "stream",
       "stream": "stdout",
       "text": [
        "[ 159.2  162.6  166.8  171.8  175.6  178.2  181.2  183.6  185.6  187.8\n",
        "  190.2  192.2  192.2  192.2  192.2  192.2  192.2  192.2  192.2  192.2\n",
        "  192.2  192.2  192.2  192.2  192.2  192.2  192.2  192.2  192.2  192.2\n",
        "  192.2  192.2  192.2  192.2  192.2  192.2  192.2  192.2  192.2  192.2\n",
        "  192.2  192.2  192.2  192.2  192.2  192.2  192.2  192.2  192.2  192.2\n",
        "  192.2  192.2  192.2  192.2  192.2  192.2  192.2  192.2  192.2  192.2\n",
        "  192.2  192.2  192.2  192.2  192.2  192.2  192.2  192.2  192.2  192.2\n",
        "  192.2  192.2  192.2  192.2  192.2  192.2  192.2  192.2  192.2  192.2\n",
        "  192.2  192.2  192.2  192.2  192.2  192.2  192.2  192.2  192.2  192.2\n",
        "  192.2  192.2  192.2  192.2  192.2  192.2  192.2  192.2  192.2  192.2\n",
        "  192.2  192.2  192.2  192.2  192.2  192.2  192.2  192.2  192.2  192.2\n",
        "  192.2  192.2  192.2  192.2  192.2  192.2  192.2  192.2  192.2  192.2\n",
        "  192.2  192.2  192.2  192.2  192.2  192.2  192.2  192.2  192.2  192.2\n",
        "  192.2  192.2  192.2  192.2  192.2  192.2  192.2  192.2  192.2  192.2\n",
        "  192.2  192.2  192.2  192.2  192.2  192.2  192.2  192.2  192.2  192.2]\n"
       ]
      }
     ],
     "prompt_number": 267
    },
    {
     "cell_type": "code",
     "collapsed": false,
     "input": [
      "t = arange(0,150,1) #range of time steps for graph\n",
      "plot(t, CA184_xavg,color='green')\n",
      "xlabel('t=time')\n",
      "ylabel('x1=positions')\n",
      "title('graph of CA184 Position vs. time')\n",
      "show()"
     ],
     "language": "python",
     "metadata": {},
     "outputs": [
      {
       "output_type": "display_data",
       "png": "[encoded data removed]"
      }
     ],
     "prompt_number": 268
    },
    {
     "cell_type": "markdown",
     "metadata": {},
     "source": [
      "Graph works but I can't get my cars to loop around after they reach the end of the road, so that is why my graph flattens out close to 200"
     ]
    },
    {
     "cell_type": "code",
     "collapsed": false,
     "input": [
      "#density = cars/roadlength\n",
      "#density = d\n",
      "d = 5./200.\n",
      "print d"
     ],
     "language": "python",
     "metadata": {},
     "outputs": [
      {
       "output_type": "stream",
       "stream": "stdout",
       "text": [
        "0.025\n"
       ]
      }
     ],
     "prompt_number": 269
    },
    {
     "cell_type": "code",
     "collapsed": false,
     "input": [
      "#current equals the multiplication of average x position and density\n",
      "CA184_current = CA184_xavg*d\n",
      "print CA184_current"
     ],
     "language": "python",
     "metadata": {},
     "outputs": [
      {
       "output_type": "stream",
       "stream": "stdout",
       "text": [
        "[ 3.98   4.065  4.17   4.295  4.39   4.455  4.53   4.59   4.64   4.695\n",
        "  4.755  4.805  4.805  4.805  4.805  4.805  4.805  4.805  4.805  4.805\n",
        "  4.805  4.805  4.805  4.805  4.805  4.805  4.805  4.805  4.805  4.805\n",
        "  4.805  4.805  4.805  4.805  4.805  4.805  4.805  4.805  4.805  4.805\n",
        "  4.805  4.805  4.805  4.805  4.805  4.805  4.805  4.805  4.805  4.805\n",
        "  4.805  4.805  4.805  4.805  4.805  4.805  4.805  4.805  4.805  4.805\n",
        "  4.805  4.805  4.805  4.805  4.805  4.805  4.805  4.805  4.805  4.805\n",
        "  4.805  4.805  4.805  4.805  4.805  4.805  4.805  4.805  4.805  4.805\n",
        "  4.805  4.805  4.805  4.805  4.805  4.805  4.805  4.805  4.805  4.805\n",
        "  4.805  4.805  4.805  4.805  4.805  4.805  4.805  4.805  4.805  4.805\n",
        "  4.805  4.805  4.805  4.805  4.805  4.805  4.805  4.805  4.805  4.805\n",
        "  4.805  4.805  4.805  4.805  4.805  4.805  4.805  4.805  4.805  4.805\n",
        "  4.805  4.805  4.805  4.805  4.805  4.805  4.805  4.805  4.805  4.805\n",
        "  4.805  4.805  4.805  4.805  4.805  4.805  4.805  4.805  4.805  4.805\n",
        "  4.805  4.805  4.805  4.805  4.805  4.805  4.805  4.805  4.805  4.805]\n"
       ]
      }
     ],
     "prompt_number": 270
    },
    {
     "cell_type": "code",
     "collapsed": false,
     "input": [
      "#plot current vs time\n",
      "t = arange(0,150,1)\n",
      "plot(t,CA184_current)\n",
      "xlabel('t=time')\n",
      "ylabel('current')\n",
      "title('CA184 Current vs. Time Graph')\n",
      "show()"
     ],
     "language": "python",
     "metadata": {},
     "outputs": [
      {
       "output_type": "display_data",
       "png": "[encoded data removed]"
      }
     ],
     "prompt_number": 271
    },
    {
     "cell_type": "markdown",
     "metadata": {},
     "source": [
      "like above, current flattens out because cars stop moving because I don't know how to get my function to loop around"
     ]
    },
    {
     "cell_type": "code",
     "collapsed": false,
     "input": [
      "#just like average position except using velocity to find average velocity\n",
      "N = 150\n",
      "initialized = initialized_conditions(200,5,5)\n",
      "CA184_velocity_avg = np.zeros(N)\n",
      "for i in range(N):\n",
      "    initialized = plot_CA184(initialized[0],initialized[1],initialized[2],initialized[3])\n",
      "    CA184_velocity_avg[i] = np.sum(initialized[1])/len(initialized[1])\n",
      "print CA184_velocity_avg"
     ],
     "language": "python",
     "metadata": {},
     "outputs": [
      {
       "output_type": "stream",
       "stream": "stdout",
       "text": [
        "[ 14.8   8.    7.2   8.    6.8   5.4   5.8   6.2   4.6   3.6   3.8   4.\n",
        "   4.2   4.4   3.2   1.8   1.8   1.8   1.8   1.8   1.8   1.8   1.8   1.8\n",
        "   1.8   1.8   1.8   1.8   1.8   1.8   1.8   1.8   1.8   1.8   1.8   1.8\n",
        "   1.8   1.8   1.8   1.8   1.8   1.8   1.8   1.8   1.8   1.8   1.8   1.8\n",
        "   1.8   1.8   1.8   1.8   1.8   1.8   1.8   1.8   1.8   1.8   1.8   1.8\n",
        "   1.8   1.8   1.8   1.8   1.8   1.8   1.8   1.8   1.8   1.8   1.8   1.8\n",
        "   1.8   1.8   1.8   1.8   1.8   1.8   1.8   1.8   1.8   1.8   1.8   1.8\n",
        "   1.8   1.8   1.8   1.8   1.8   1.8   1.8   1.8   1.8   1.8   1.8   1.8\n",
        "   1.8   1.8   1.8   1.8   1.8   1.8   1.8   1.8   1.8   1.8   1.8   1.8\n",
        "   1.8   1.8   1.8   1.8   1.8   1.8   1.8   1.8   1.8   1.8   1.8   1.8\n",
        "   1.8   1.8   1.8   1.8   1.8   1.8   1.8   1.8   1.8   1.8   1.8   1.8\n",
        "   1.8   1.8   1.8   1.8   1.8   1.8   1.8   1.8   1.8   1.8   1.8   1.8\n",
        "   1.8   1.8   1.8   1.8   1.8   1.8]\n"
       ]
      }
     ],
     "prompt_number": 299
    },
    {
     "cell_type": "code",
     "collapsed": false,
     "input": [
      "#plot velocity vs time\n",
      "t = arange(0,150,1)\n",
      "plot(t, CA184_velocity_avg,color='green')\n",
      "xlabel('t = time')\n",
      "ylabel('v = velocity')\n",
      "title('graph of CA184 Velocity vs. time')\n",
      "show()"
     ],
     "language": "python",
     "metadata": {},
     "outputs": [
      {
       "output_type": "display_data",
       "png": "[encoded data removed]"
      }
     ],
     "prompt_number": 300
    },
    {
     "cell_type": "markdown",
     "metadata": {},
     "source": [
      "once again, graph goes down close to zero because I don't know how to loop my cars around and therefore, they all stop at the end of the road"
     ]
    },
    {
     "cell_type": "markdown",
     "metadata": {},
     "source": [
      "I have plotted everything I needed to, so now let's plot the STCA ruleset."
     ]
    },
    {
     "cell_type": "markdown",
     "metadata": {},
     "source": [
      "Plot STCA\n",
      "="
     ]
    },
    {
     "cell_type": "code",
     "collapsed": false,
     "input": [
      "#redefine STCA so we can include the initial conditions and plot it. only few minor changes from definition above\n",
      "def plot_STCA(x1,v1,n_cars,r_l):\n",
      "    \"\"\"take arrays of positions and velocities and return adjusted positions and velocities\"\"\"\n",
      "    g = np.zeros(n_cars) #number of empty sites in front of each car\n",
      "    for i in range(n_cars): #when car is not the last car, calculate distance to next car. if car is last car, calculate distance to end of road\n",
      "        if i+1 < n_cars:\n",
      "            g[i] = int(x1[i+1] - x1[i]-1)\n",
      "        else:\n",
      "            g[i] = r_l - x1[i]-1\n",
      "    \n",
      "    for i in range(len(x1)): #for each step in random array in positions\n",
      "        if g[i] == 0: # if distance to next car is 0, speed is 0\n",
      "            v1[i] = 0 #set velocity equal to 0\n",
      "        elif v1[i] > g[i]: # if speed is greater than distance to next car\n",
      "            v1[i] = g[i] #set speed equal to g\n",
      "        elif v1[i] < g[i] and v1[i] == vmax: # if velocity is less than distance to next car and equal to vmax\n",
      "            v1[i] = v1[i] + 1 #increase velocity by 1 unit\n",
      "        for j in range(len(v1)): #for each step in a range of velocities\n",
      "            if 0 > v1[j]:\n",
      "                p = round(random_sample(1))\n",
      "                v1[j] = (v1[j]-1)*p\n",
      "        x1[i] += v1[i] #adjust position to account for change in velocity\n",
      "        if x1[i] > r_l:\n",
      "            x1[i] = x1[i] - r_l\n",
      "    return x1,v1,n_cars,r_l #return the values, not print then, so I can use them to plot"
     ],
     "language": "python",
     "metadata": {},
     "outputs": [],
     "prompt_number": 274
    },
    {
     "cell_type": "code",
     "collapsed": false,
     "input": [
      "#same way to find average position in the CA184, except use the STCA definition\n",
      "N = 150\n",
      "initialized = initialized_conditions(200,5,5)\n",
      "STCA_xavg = np.zeros(N)\n",
      "for i in range(N):\n",
      "    initialized = plot_STCA(initialized[0],initialized[1],initialized[2],initialized[3])\n",
      "    STCA_xavg[i] = np.sum(initialized[0])/len(initialized[0])\n",
      "print STCA_xavg"
     ],
     "language": "python",
     "metadata": {},
     "outputs": [
      {
       "output_type": "stream",
       "stream": "stdout",
       "text": [
        "[ 158.6  160.6  162.6  164.6  166.6  168.6  169.6  170.6  171.6  172.6\n",
        "  173.6  174.6  175.4  175.8  176.2  176.6  177.   177.4  177.8  178.2\n",
        "  178.6  179.   179.4  179.8  180.2  180.6  181.   181.4  181.8  182.2\n",
        "  182.6  183.   183.4  183.8  184.2  184.6  185.   185.4  185.8  186.\n",
        "  186.2  186.4  186.6  186.8  187.   187.2  187.4  187.6  187.8  188.\n",
        "  188.2  188.4  188.6  188.8  189.   189.2  189.4  189.6  189.8  190.\n",
        "  190.2  190.4  190.6  190.8  191.   191.2  191.4  191.6  191.8  192.\n",
        "  192.2  192.4  192.6  192.8  193.   193.2  193.4  193.6  193.8  194.\n",
        "  194.2  194.4  194.6  194.8  195.   195.2  195.4  195.6  195.8  196.\n",
        "  196.2  196.4  196.6  196.8  197.   197.   197.   197.   197.   197.   197.\n",
        "  197.   197.   197.   197.   197.   197.   197.   197.   197.   197.   197.\n",
        "  197.   197.   197.   197.   197.   197.   197.   197.   197.   197.   197.\n",
        "  197.   197.   197.   197.   197.   197.   197.   197.   197.   197.   197.\n",
        "  197.   197.   197.   197.   197.   197.   197.   197.   197.   197.   197.\n",
        "  197.   197.   197.   197.   197. ]\n"
       ]
      }
     ],
     "prompt_number": 275
    },
    {
     "cell_type": "code",
     "collapsed": false,
     "input": [
      "#plot average position vs time\n",
      "t = arange(0,150,1)\n",
      "plot(t, STCA_xavg,color='green')\n",
      "xlabel('t=time')\n",
      "ylabel('x1=positions')\n",
      "title('graph of STCA Position vs. time')\n",
      "show()"
     ],
     "language": "python",
     "metadata": {},
     "outputs": [
      {
       "output_type": "display_data",
       "png": "[encoded data removed]"
      }
     ],
     "prompt_number": 276
    },
    {
     "cell_type": "markdown",
     "metadata": {},
     "source": [
      "as usual, cannot get cars to loop around back to starting point, so graph flattens out at end of road"
     ]
    },
    {
     "cell_type": "code",
     "collapsed": false,
     "input": [
      "#call on same density defined in CA184 because it does not change\n",
      "#current equals the multiplication of average x position and density\n",
      "STCA_current = STCA_xavg*d\n",
      "print STCA_current"
     ],
     "language": "python",
     "metadata": {},
     "outputs": [
      {
       "output_type": "stream",
       "stream": "stdout",
       "text": [
        "[ 3.965  4.015  4.065  4.115  4.165  4.215  4.24   4.265  4.29   4.315\n",
        "  4.34   4.365  4.385  4.395  4.405  4.415  4.425  4.435  4.445  4.455\n",
        "  4.465  4.475  4.485  4.495  4.505  4.515  4.525  4.535  4.545  4.555\n",
        "  4.565  4.575  4.585  4.595  4.605  4.615  4.625  4.635  4.645  4.65\n",
        "  4.655  4.66   4.665  4.67   4.675  4.68   4.685  4.69   4.695  4.7    4.705\n",
        "  4.71   4.715  4.72   4.725  4.73   4.735  4.74   4.745  4.75   4.755\n",
        "  4.76   4.765  4.77   4.775  4.78   4.785  4.79   4.795  4.8    4.805\n",
        "  4.81   4.815  4.82   4.825  4.83   4.835  4.84   4.845  4.85   4.855\n",
        "  4.86   4.865  4.87   4.875  4.88   4.885  4.89   4.895  4.9    4.905\n",
        "  4.91   4.915  4.92   4.925  4.925  4.925  4.925  4.925  4.925  4.925\n",
        "  4.925  4.925  4.925  4.925  4.925  4.925  4.925  4.925  4.925  4.925\n",
        "  4.925  4.925  4.925  4.925  4.925  4.925  4.925  4.925  4.925  4.925\n",
        "  4.925  4.925  4.925  4.925  4.925  4.925  4.925  4.925  4.925  4.925\n",
        "  4.925  4.925  4.925  4.925  4.925  4.925  4.925  4.925  4.925  4.925\n",
        "  4.925  4.925  4.925  4.925  4.925  4.925  4.925  4.925  4.925]\n"
       ]
      }
     ],
     "prompt_number": 277
    },
    {
     "cell_type": "code",
     "collapsed": false,
     "input": [
      "#plot current vs time\n",
      "t = arange(0,150,1)\n",
      "plot(t,STCA_current)\n",
      "xlabel('t=time')\n",
      "ylabel('current')\n",
      "title('STCA Current vs. Time Graph')\n",
      "show()"
     ],
     "language": "python",
     "metadata": {},
     "outputs": [
      {
       "output_type": "display_data",
       "png": "[encoded data removed]"
      }
     ],
     "prompt_number": 278
    },
    {
     "cell_type": "code",
     "collapsed": false,
     "input": [
      "#same way to find average velocity in the CA184, except use the STCA definition\n",
      "N = 150\n",
      "initialized = initialized_conditions(200,5,5)\n",
      "STCA_velocity_avg = np.zeros(N)\n",
      "for i in range(N):\n",
      "    initialized = plot_STCA(initialized[0],initialized[1],initialized[2],initialized[3])\n",
      "    STCA_velocity_avg[i] = np.sum(initialized[1])/len(initialized[1])\n",
      "print STCA_velocity_avg"
     ],
     "language": "python",
     "metadata": {},
     "outputs": [
      {
       "output_type": "stream",
       "stream": "stdout",
       "text": [
        "[ 2.4  2.   2.   2.   2.   2.   1.   1.   1.   1.   1.   1.   0.8  0.4  0.4\n",
        "  0.4  0.4  0.4  0.4  0.4  0.4  0.4  0.4  0.4  0.4  0.4  0.4  0.4  0.4  0.4\n",
        "  0.4  0.4  0.4  0.4  0.4  0.4  0.4  0.4  0.4  0.2  0.2  0.2  0.2  0.2  0.2\n",
        "  0.2  0.2  0.2  0.2  0.2  0.2  0.2  0.2  0.2  0.2  0.2  0.2  0.2  0.2  0.2\n",
        "  0.2  0.2  0.2  0.2  0.2  0.2  0.2  0.2  0.2  0.2  0.2  0.2  0.2  0.2  0.2\n",
        "  0.2  0.2  0.2  0.2  0.2  0.2  0.2  0.2  0.2  0.2  0.2  0.2  0.2  0.2  0.2\n",
        "  0.2  0.2  0.2  0.2  0.2  0.   0.   0.   0.   0.   0.   0.   0.   0.   0.\n",
        "  0.   0.   0.   0.   0.   0.   0.   0.   0.   0.   0.   0.   0.   0.   0.\n",
        "  0.   0.   0.   0.   0.   0.   0.   0.   0.   0.   0.   0.   0.   0.   0.\n",
        "  0.   0.   0.   0.   0.   0.   0.   0.   0.   0.   0.   0.   0.   0.   0. ]\n"
       ]
      }
     ],
     "prompt_number": 279
    },
    {
     "cell_type": "code",
     "collapsed": false,
     "input": [
      "#plot the average velocity vs time\n",
      "t = arange(0,150,1)\n",
      "plot(t, STCA_velocity_avg,color='green')\n",
      "xlabel('t = time')\n",
      "ylabel('v = velocity')\n",
      "title('graph of STCA Velocity vs. time')\n",
      "show()"
     ],
     "language": "python",
     "metadata": {},
     "outputs": [
      {
       "output_type": "display_data",
       "png": "[encoded data removed]"
      }
     ],
     "prompt_number": 280
    },
    {
     "cell_type": "markdown",
     "metadata": {},
     "source": [
      "Plot ASEP\n",
      "="
     ]
    },
    {
     "cell_type": "code",
     "collapsed": false,
     "input": [
      "#redefine ASEP so we can include the initial conditions and plot it. only few minor changes from definition above\n",
      "def plot_ASEP(x1,v1,n_cars,r_l):\n",
      "    \"\"\"take arrays of positions and velocities and return adjusted positions and velocities\"\"\"\n",
      "    g = np.zeros(n_cars) #number of empty sites in front of each car\n",
      "    i = random.randrange(0,len(x1),1) #randomly choose which car to start from\n",
      "    if v1[i] > g[i]: # if speed is greater than distance to next car\n",
      "        v1[i] = g[i] #set speed equal to g\n",
      "    elif v1[i] < g[i] and v1[i] == vmax: # if velocity is less than distance to next car and is equal to vmax\n",
      "        v1[i] = v1[i] + 1 #increase velocity by 1 unit\n",
      "    for k in range(len(v1)): \n",
      "        if v1[k] < 0:\n",
      "            p = random_sample(1)\n",
      "            v1[j] = (v1[j]-1)*p\n",
      "    x1[i] += v1[i]\n",
      "    if r_l < x1[i]:\n",
      "        x1[i] = x1[i]-l\n",
      "    for i in range(len(x1)):\n",
      "        if i < n-1:\n",
      "            g[i] = x1[i+1]-x1[i]-1\n",
      "        else:\n",
      "            g[i] = r_l - x1[i] - 1\n",
      "    return x1,v1,n_cars,r_l #return positions, velocities, number of cars, and road length instead of printing them so I can graph them"
     ],
     "language": "python",
     "metadata": {},
     "outputs": [],
     "prompt_number": 282
    },
    {
     "cell_type": "code",
     "collapsed": false,
     "input": [
      "# I use the same way to find average position that I did in the CA184, except use the ASEP definition\n",
      "N = 150\n",
      "initialized = initialized_conditions(200,5,5)\n",
      "ASEP_xavg = np.zeros(N)\n",
      "for i in range(N):\n",
      "    initialized = plot_ASEP(initialized[0],initialized[1],initialized[2],initialized[3])\n",
      "    ASEP_xavg[i] = np.sum(initialized[0])/len(initialized[0])\n",
      "print ASEP_xavg"
     ],
     "language": "python",
     "metadata": {},
     "outputs": [
      {
       "output_type": "stream",
       "stream": "stdout",
       "text": [
        "[ 156.2  156.2  156.2  156.2  156.2  156.2  156.2  156.2  156.2  156.2\n",
        "  156.2  156.2  156.2  156.2  156.2  156.2  156.2  156.2  156.2  156.2\n",
        "  156.2  156.2  156.2  156.2  156.2  156.2  156.2  156.2  156.2  156.2\n",
        "  156.2  156.2  156.2  156.2  156.2  156.2  156.2  156.2  156.2  156.2\n",
        "  156.2  156.2  156.2  156.2  156.2  156.2  156.2  156.2  156.2  156.2\n",
        "  156.2  156.2  156.2  156.2  156.2  156.2  156.2  156.2  156.2  156.2\n",
        "  156.2  156.2  156.2  156.2  156.2  156.2  156.2  156.2  156.2  156.2\n",
        "  156.2  156.2  156.2  156.2  156.2  156.2  156.2  156.2  156.2  156.2\n",
        "  156.2  156.2  156.2  156.2  156.2  156.2  156.2  156.2  156.2  156.2\n",
        "  156.2  156.2  156.2  156.2  156.2  156.2  156.2  156.2  156.2  156.2\n",
        "  156.2  156.2  156.2  156.2  156.2  156.2  156.2  156.2  156.2  156.2\n",
        "  156.2  156.2  156.2  156.2  156.2  156.2  156.2  156.2  156.2  156.2\n",
        "  156.2  156.2  156.2  156.2  156.2  156.2  156.2  156.2  156.2  156.2\n",
        "  156.2  156.2  156.2  156.2  156.2  156.2  156.2  156.2  156.2  156.2\n",
        "  156.2  156.2  156.2  156.2  156.2  156.2  156.2  156.2  156.2  156.2]\n"
       ]
      }
     ],
     "prompt_number": 283
    },
    {
     "cell_type": "code",
     "collapsed": false,
     "input": [
      "# graph position vs time\n",
      "t = arange(0,150,1)\n",
      "plot(t, ASEP_xavg,color='green')\n",
      "xlabel('t=time')\n",
      "ylabel('x1=positions')\n",
      "title('graph of ASEP Position vs. time')\n",
      "show()"
     ],
     "language": "python",
     "metadata": {},
     "outputs": [
      {
       "output_type": "display_data",
       "png": "[encoded data removed]"
      }
     ],
     "prompt_number": 284
    },
    {
     "cell_type": "markdown",
     "metadata": {},
     "source": [
      "I do not know why this is a flat line.  Something is wrong with my ASEP definition but not sure what"
     ]
    },
    {
     "cell_type": "code",
     "collapsed": false,
     "input": [
      "#call on same density defined in CA184 because it does not change\n",
      "#current equals the multiplication of average x position and density\n",
      "ASEP_current = ASEP_xavg*d\n",
      "print ASEP_current"
     ],
     "language": "python",
     "metadata": {},
     "outputs": [
      {
       "output_type": "stream",
       "stream": "stdout",
       "text": [
        "[ 3.905  3.905  3.905  3.905  3.905  3.905  3.905  3.905  3.905  3.905\n",
        "  3.905  3.905  3.905  3.905  3.905  3.905  3.905  3.905  3.905  3.905\n",
        "  3.905  3.905  3.905  3.905  3.905  3.905  3.905  3.905  3.905  3.905\n",
        "  3.905  3.905  3.905  3.905  3.905  3.905  3.905  3.905  3.905  3.905\n",
        "  3.905  3.905  3.905  3.905  3.905  3.905  3.905  3.905  3.905  3.905\n",
        "  3.905  3.905  3.905  3.905  3.905  3.905  3.905  3.905  3.905  3.905\n",
        "  3.905  3.905  3.905  3.905  3.905  3.905  3.905  3.905  3.905  3.905\n",
        "  3.905  3.905  3.905  3.905  3.905  3.905  3.905  3.905  3.905  3.905\n",
        "  3.905  3.905  3.905  3.905  3.905  3.905  3.905  3.905  3.905  3.905\n",
        "  3.905  3.905  3.905  3.905  3.905  3.905  3.905  3.905  3.905  3.905\n",
        "  3.905  3.905  3.905  3.905  3.905  3.905  3.905  3.905  3.905  3.905\n",
        "  3.905  3.905  3.905  3.905  3.905  3.905  3.905  3.905  3.905  3.905\n",
        "  3.905  3.905  3.905  3.905  3.905  3.905  3.905  3.905  3.905  3.905\n",
        "  3.905  3.905  3.905  3.905  3.905  3.905  3.905  3.905  3.905  3.905\n",
        "  3.905  3.905  3.905  3.905  3.905  3.905  3.905  3.905  3.905  3.905]\n"
       ]
      }
     ],
     "prompt_number": 285
    },
    {
     "cell_type": "code",
     "collapsed": false,
     "input": [
      "#plot current vs time\n",
      "t = arange(0,150,1)\n",
      "plot(t,ASEP_current)\n",
      "xlabel('t=time')\n",
      "ylabel('current')\n",
      "title('ASEP Current vs. Time Graph')\n",
      "show()"
     ],
     "language": "python",
     "metadata": {},
     "outputs": [
      {
       "output_type": "display_data",
       "png": "[encoded data removed]"
      }
     ],
     "prompt_number": 286
    },
    {
     "cell_type": "markdown",
     "metadata": {},
     "source": [
      "I do not know why this is a flat line.  Something is wrong with my ASEP definition but not sure what"
     ]
    },
    {
     "cell_type": "code",
     "collapsed": false,
     "input": [
      "# I use the same way to find average velocity that I did in the CA184, except use the ASEP definition\n",
      "N = 150\n",
      "initialized = initialized_conditions(200,5,5)\n",
      "ASEP_velocity_avg = np.zeros(N)\n",
      "for i in range(N):\n",
      "    initialized = plot_ASEP(initialized[0],initialized[1],initialized[2],initialized[3])\n",
      "    ASEP_velocity_avg[i] = np.sum(initialized[1])/len(initialized[1])\n",
      "print ASEP_velocity_avg"
     ],
     "language": "python",
     "metadata": {},
     "outputs": [
      {
       "output_type": "stream",
       "stream": "stdout",
       "text": [
        "[ 2.6  2.4  1.4  1.4  1.4  0.8  0.   0.   0.   0.   0.   0.   0.   0.   0.\n",
        "  0.   0.   0.   0.   0.   0.   0.   0.   0.   0.   0.   0.   0.   0.   0.\n",
        "  0.   0.   0.   0.   0.   0.   0.   0.   0.   0.   0.   0.   0.   0.   0.\n",
        "  0.   0.   0.   0.   0.   0.   0.   0.   0.   0.   0.   0.   0.   0.   0.\n",
        "  0.   0.   0.   0.   0.   0.   0.   0.   0.   0.   0.   0.   0.   0.   0.\n",
        "  0.   0.   0.   0.   0.   0.   0.   0.   0.   0.   0.   0.   0.   0.   0.\n",
        "  0.   0.   0.   0.   0.   0.   0.   0.   0.   0.   0.   0.   0.   0.   0.\n",
        "  0.   0.   0.   0.   0.   0.   0.   0.   0.   0.   0.   0.   0.   0.   0.\n",
        "  0.   0.   0.   0.   0.   0.   0.   0.   0.   0.   0.   0.   0.   0.   0.\n",
        "  0.   0.   0.   0.   0.   0.   0.   0.   0.   0.   0.   0.   0.   0.   0. ]\n"
       ]
      }
     ],
     "prompt_number": 287
    },
    {
     "cell_type": "code",
     "collapsed": false,
     "input": [
      "#plot velocity vs time\n",
      "t = arange(0,150,1)\n",
      "plot(t, ASEP_velocity_avg,color='green')\n",
      "xlabel('t = time')\n",
      "ylabel('v = velocity')\n",
      "title('graph of ASEP Velocity vs. time')\n",
      "show()"
     ],
     "language": "python",
     "metadata": {},
     "outputs": [
      {
       "output_type": "display_data",
       "png": "[encoded data removed]"
      }
     ],
     "prompt_number": 288
    },
    {
     "cell_type": "markdown",
     "metadata": {},
     "source": [
      "Now that we are done plotting the graphs, let's try to get the animation working.\n",
      "="
     ]
    },
    {
     "cell_type": "code",
     "collapsed": false,
     "input": [
      "import sys\n",
      "sys.path.insert(0,\"PHYS202-S13/JSAnimation\")\n",
      "from JSAnimation import IPython_display"
     ],
     "language": "python",
     "metadata": {},
     "outputs": [
      {
       "ename": "ImportError",
       "evalue": "No module named JSAnimation",
       "output_type": "pyerr",
       "traceback": [
        "\u001b[1;31m---------------------------------------------------------------------------\u001b[0m\n\u001b[1;31mImportError\u001b[0m                               Traceback (most recent call last)",
        "\u001b[1;32m<ipython-input-289-1e71356b533d>\u001b[0m in \u001b[0;36m<module>\u001b[1;34m()\u001b[0m\n\u001b[0;32m      1\u001b[0m \u001b[1;32mimport\u001b[0m \u001b[0msys\u001b[0m\u001b[1;33m\u001b[0m\u001b[0m\n\u001b[0;32m      2\u001b[0m \u001b[0msys\u001b[0m\u001b[1;33m.\u001b[0m\u001b[0mpath\u001b[0m\u001b[1;33m.\u001b[0m\u001b[0minsert\u001b[0m\u001b[1;33m(\u001b[0m\u001b[1;36m0\u001b[0m\u001b[1;33m,\u001b[0m\u001b[1;34m\"PHYS202-S13/JSAnimation\"\u001b[0m\u001b[1;33m)\u001b[0m\u001b[1;33m\u001b[0m\u001b[0m\n\u001b[1;32m----> 3\u001b[1;33m \u001b[1;32mfrom\u001b[0m \u001b[0mJSAnimation\u001b[0m \u001b[1;32mimport\u001b[0m \u001b[0mIPython_display\u001b[0m\u001b[1;33m\u001b[0m\u001b[0m\n\u001b[0m",
        "\u001b[1;31mImportError\u001b[0m: No module named JSAnimation"
       ]
      }
     ],
     "prompt_number": 289
    },
    {
     "cell_type": "markdown",
     "metadata": {},
     "source": [
      "Not sure how to do the animation"
     ]
    }
   ],
   "metadata": {}
  }
 ]
}